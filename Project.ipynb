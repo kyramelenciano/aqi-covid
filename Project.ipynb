{
  "nbformat": 4,
  "nbformat_minor": 0,
  "metadata": {
    "colab": {
      "name": "Project.ipynb",
      "provenance": [],
      "collapsed_sections": [
        "Fl6xdtjp7HnQ",
        "oDaBC22469xN"
      ]
    },
    "kernelspec": {
      "name": "python3",
      "display_name": "Python 3"
    },
    "language_info": {
      "name": "python"
    }
  },
  "cells": [
    {
      "cell_type": "code",
      "source": [
        "# Run this first to give access to your drive\n",
        "# Then Add a shortcut of the folder I shared to Your Drive to be able to import the dataframes\n",
        "from google.colab import drive\n",
        "drive.mount('/content/drive')\n",
        "\n"
      ],
      "metadata": {
        "id": "LtaAg2A2GRte",
        "colab": {
          "base_uri": "https://localhost:8080/"
        },
        "outputId": "a32b79bb-702b-4500-e2f5-1668cd6e415e"
      },
      "execution_count": null,
      "outputs": [
        {
          "output_type": "stream",
          "name": "stdout",
          "text": [
            "Mounted at /content/drive\n"
          ]
        }
      ]
    },
    {
      "cell_type": "markdown",
      "source": [
        "# Abstract\n",
        "\n",
        "This project is centered around the cleaning and transformation of data related to Air Quality Index (AQI) levels and COVID-19 confirmed cases and deaths for the cities of Beijing and Shanghai from China.\n",
        "\n",
        "AQI data will be collected for the years 2020 and 2021, then it will be joined with COVID-19 data to help us identify whether there exists a relationship between AQI levels and the number of COVID-19 confirmed cases and deaths. \n",
        "\n",
        "The purpose of cleaning and transforming this data is to later find out whether or not the air quality of a place can help to estimate how many COVID-19 related confirmed cases or deaths the place will have.\n"
      ],
      "metadata": {
        "id": "C-hckiNv4ZAQ"
      }
    },
    {
      "cell_type": "code",
      "execution_count": null,
      "metadata": {
        "id": "QnMbxlKTEx1r"
      },
      "outputs": [],
      "source": [
        "# importing the necessary libraries\n",
        "import pandas as pd\n",
        "import numpy as np\n",
        "import matplotlib.pyplot as plt"
      ]
    },
    {
      "cell_type": "markdown",
      "source": [
        "# AQI Data Sets Screening"
      ],
      "metadata": {
        "id": "Fl6xdtjp7HnQ"
      }
    },
    {
      "cell_type": "markdown",
      "source": [
        "First, let's import the AQI data of Beijing and Shanghai using the pd.read_csv function."
      ],
      "metadata": {
        "id": "7T_Msm3yA73s"
      }
    },
    {
      "cell_type": "code",
      "source": [
        "#Beijing\n",
        "\n",
        "beijing_2020= pd.read_csv(\"/content/drive/MyDrive/Team Project/Beijing_PM2.5_2020_YTD.csv\")\n",
        "beijing_2021= pd.read_csv(\"/content/drive/MyDrive/Team Project/Beijing_PM2.5_2021_YTD.csv\")"
      ],
      "metadata": {
        "id": "DOt1UrMf30eI"
      },
      "execution_count": null,
      "outputs": []
    },
    {
      "cell_type": "code",
      "source": [
        "#Shanghai\n",
        "\n",
        "shanghai_2020= pd.read_csv(\"/content/drive/MyDrive/Team Project/Shanghai_PM2.5_2020_YTD.csv\")\n",
        "shanghai_2021= pd.read_csv(\"/content/drive/MyDrive/Team Project/Shanghai_PM2.5_2021_YTD.csv\")"
      ],
      "metadata": {
        "id": "EF51fE9cBfGJ"
      },
      "execution_count": null,
      "outputs": []
    },
    {
      "cell_type": "markdown",
      "source": [
        "Since we have 2 dataframes for the same city (for the years 2020 and 2021), let's also consolidate the two dataframes into one for each city using the pd.concat function."
      ],
      "metadata": {
        "id": "EDmo-t51BuWN"
      }
    },
    {
      "cell_type": "code",
      "source": [
        "#ConsolidatedTable1\n",
        "consolidated1 = [beijing_2020,beijing_2021]\n",
        "beijing = pd.concat(consolidated1)\n",
        "beijing.head()"
      ],
      "metadata": {
        "id": "0SKBf96kZA4v",
        "colab": {
          "base_uri": "https://localhost:8080/"
        },
        "outputId": "212de261-f446-4859-d727-0d425f83115b"
      },
      "execution_count": null,
      "outputs": [
        {
          "output_type": "execute_result",
          "data": {
            "text/plain": [
              "      Site          Parameter            Date (LT)  Year  Month  Day  Hour  \\\n",
              "0  Beijing  PM2.5 - Principal  2020-01-01 01:00 AM  2020      1    1     1   \n",
              "1  Beijing  PM2.5 - Principal  2020-01-01 02:00 AM  2020      1    1     2   \n",
              "2  Beijing  PM2.5 - Principal  2020-01-01 03:00 AM  2020      1    1     3   \n",
              "3  Beijing  PM2.5 - Principal  2020-01-01 04:00 AM  2020      1    1     4   \n",
              "4  Beijing  PM2.5 - Principal  2020-01-01 05:00 AM  2020      1    1     5   \n",
              "\n",
              "   NowCast Conc.  AQI AQI Category  Raw Conc. Conc. Unit Duration QC Name  \n",
              "0           35.3  100     Moderate       32.0      UG/M3     1 Hr   Valid  \n",
              "1           30.5   90     Moderate       25.0      UG/M3     1 Hr   Valid  \n",
              "2           27.0   82     Moderate       23.0      UG/M3     1 Hr   Valid  \n",
              "3           26.0   80     Moderate       25.0      UG/M3     1 Hr   Valid  \n",
              "4           23.9   76     Moderate       22.0      UG/M3     1 Hr   Valid  "
            ],
            "text/html": [
              "\n",
              "  <div id=\"df-76ef1c59-9fe4-4803-a1b4-e821b2ffd1c6\">\n",
              "    <div class=\"colab-df-container\">\n",
              "      <div>\n",
              "<style scoped>\n",
              "    .dataframe tbody tr th:only-of-type {\n",
              "        vertical-align: middle;\n",
              "    }\n",
              "\n",
              "    .dataframe tbody tr th {\n",
              "        vertical-align: top;\n",
              "    }\n",
              "\n",
              "    .dataframe thead th {\n",
              "        text-align: right;\n",
              "    }\n",
              "</style>\n",
              "<table border=\"1\" class=\"dataframe\">\n",
              "  <thead>\n",
              "    <tr style=\"text-align: right;\">\n",
              "      <th></th>\n",
              "      <th>Site</th>\n",
              "      <th>Parameter</th>\n",
              "      <th>Date (LT)</th>\n",
              "      <th>Year</th>\n",
              "      <th>Month</th>\n",
              "      <th>Day</th>\n",
              "      <th>Hour</th>\n",
              "      <th>NowCast Conc.</th>\n",
              "      <th>AQI</th>\n",
              "      <th>AQI Category</th>\n",
              "      <th>Raw Conc.</th>\n",
              "      <th>Conc. Unit</th>\n",
              "      <th>Duration</th>\n",
              "      <th>QC Name</th>\n",
              "    </tr>\n",
              "  </thead>\n",
              "  <tbody>\n",
              "    <tr>\n",
              "      <th>0</th>\n",
              "      <td>Beijing</td>\n",
              "      <td>PM2.5 - Principal</td>\n",
              "      <td>2020-01-01 01:00 AM</td>\n",
              "      <td>2020</td>\n",
              "      <td>1</td>\n",
              "      <td>1</td>\n",
              "      <td>1</td>\n",
              "      <td>35.3</td>\n",
              "      <td>100</td>\n",
              "      <td>Moderate</td>\n",
              "      <td>32.0</td>\n",
              "      <td>UG/M3</td>\n",
              "      <td>1 Hr</td>\n",
              "      <td>Valid</td>\n",
              "    </tr>\n",
              "    <tr>\n",
              "      <th>1</th>\n",
              "      <td>Beijing</td>\n",
              "      <td>PM2.5 - Principal</td>\n",
              "      <td>2020-01-01 02:00 AM</td>\n",
              "      <td>2020</td>\n",
              "      <td>1</td>\n",
              "      <td>1</td>\n",
              "      <td>2</td>\n",
              "      <td>30.5</td>\n",
              "      <td>90</td>\n",
              "      <td>Moderate</td>\n",
              "      <td>25.0</td>\n",
              "      <td>UG/M3</td>\n",
              "      <td>1 Hr</td>\n",
              "      <td>Valid</td>\n",
              "    </tr>\n",
              "    <tr>\n",
              "      <th>2</th>\n",
              "      <td>Beijing</td>\n",
              "      <td>PM2.5 - Principal</td>\n",
              "      <td>2020-01-01 03:00 AM</td>\n",
              "      <td>2020</td>\n",
              "      <td>1</td>\n",
              "      <td>1</td>\n",
              "      <td>3</td>\n",
              "      <td>27.0</td>\n",
              "      <td>82</td>\n",
              "      <td>Moderate</td>\n",
              "      <td>23.0</td>\n",
              "      <td>UG/M3</td>\n",
              "      <td>1 Hr</td>\n",
              "      <td>Valid</td>\n",
              "    </tr>\n",
              "    <tr>\n",
              "      <th>3</th>\n",
              "      <td>Beijing</td>\n",
              "      <td>PM2.5 - Principal</td>\n",
              "      <td>2020-01-01 04:00 AM</td>\n",
              "      <td>2020</td>\n",
              "      <td>1</td>\n",
              "      <td>1</td>\n",
              "      <td>4</td>\n",
              "      <td>26.0</td>\n",
              "      <td>80</td>\n",
              "      <td>Moderate</td>\n",
              "      <td>25.0</td>\n",
              "      <td>UG/M3</td>\n",
              "      <td>1 Hr</td>\n",
              "      <td>Valid</td>\n",
              "    </tr>\n",
              "    <tr>\n",
              "      <th>4</th>\n",
              "      <td>Beijing</td>\n",
              "      <td>PM2.5 - Principal</td>\n",
              "      <td>2020-01-01 05:00 AM</td>\n",
              "      <td>2020</td>\n",
              "      <td>1</td>\n",
              "      <td>1</td>\n",
              "      <td>5</td>\n",
              "      <td>23.9</td>\n",
              "      <td>76</td>\n",
              "      <td>Moderate</td>\n",
              "      <td>22.0</td>\n",
              "      <td>UG/M3</td>\n",
              "      <td>1 Hr</td>\n",
              "      <td>Valid</td>\n",
              "    </tr>\n",
              "  </tbody>\n",
              "</table>\n",
              "</div>\n",
              "      <button class=\"colab-df-convert\" onclick=\"convertToInteractive('df-76ef1c59-9fe4-4803-a1b4-e821b2ffd1c6')\"\n",
              "              title=\"Convert this dataframe to an interactive table.\"\n",
              "              style=\"display:none;\">\n",
              "        \n",
              "  <svg xmlns=\"http://www.w3.org/2000/svg\" height=\"24px\"viewBox=\"0 0 24 24\"\n",
              "       width=\"24px\">\n",
              "    <path d=\"M0 0h24v24H0V0z\" fill=\"none\"/>\n",
              "    <path d=\"M18.56 5.44l.94 2.06.94-2.06 2.06-.94-2.06-.94-.94-2.06-.94 2.06-2.06.94zm-11 1L8.5 8.5l.94-2.06 2.06-.94-2.06-.94L8.5 2.5l-.94 2.06-2.06.94zm10 10l.94 2.06.94-2.06 2.06-.94-2.06-.94-.94-2.06-.94 2.06-2.06.94z\"/><path d=\"M17.41 7.96l-1.37-1.37c-.4-.4-.92-.59-1.43-.59-.52 0-1.04.2-1.43.59L10.3 9.45l-7.72 7.72c-.78.78-.78 2.05 0 2.83L4 21.41c.39.39.9.59 1.41.59.51 0 1.02-.2 1.41-.59l7.78-7.78 2.81-2.81c.8-.78.8-2.07 0-2.86zM5.41 20L4 18.59l7.72-7.72 1.47 1.35L5.41 20z\"/>\n",
              "  </svg>\n",
              "      </button>\n",
              "      \n",
              "  <style>\n",
              "    .colab-df-container {\n",
              "      display:flex;\n",
              "      flex-wrap:wrap;\n",
              "      gap: 12px;\n",
              "    }\n",
              "\n",
              "    .colab-df-convert {\n",
              "      background-color: #E8F0FE;\n",
              "      border: none;\n",
              "      border-radius: 50%;\n",
              "      cursor: pointer;\n",
              "      display: none;\n",
              "      fill: #1967D2;\n",
              "      height: 32px;\n",
              "      padding: 0 0 0 0;\n",
              "      width: 32px;\n",
              "    }\n",
              "\n",
              "    .colab-df-convert:hover {\n",
              "      background-color: #E2EBFA;\n",
              "      box-shadow: 0px 1px 2px rgba(60, 64, 67, 0.3), 0px 1px 3px 1px rgba(60, 64, 67, 0.15);\n",
              "      fill: #174EA6;\n",
              "    }\n",
              "\n",
              "    [theme=dark] .colab-df-convert {\n",
              "      background-color: #3B4455;\n",
              "      fill: #D2E3FC;\n",
              "    }\n",
              "\n",
              "    [theme=dark] .colab-df-convert:hover {\n",
              "      background-color: #434B5C;\n",
              "      box-shadow: 0px 1px 3px 1px rgba(0, 0, 0, 0.15);\n",
              "      filter: drop-shadow(0px 1px 2px rgba(0, 0, 0, 0.3));\n",
              "      fill: #FFFFFF;\n",
              "    }\n",
              "  </style>\n",
              "\n",
              "      <script>\n",
              "        const buttonEl =\n",
              "          document.querySelector('#df-76ef1c59-9fe4-4803-a1b4-e821b2ffd1c6 button.colab-df-convert');\n",
              "        buttonEl.style.display =\n",
              "          google.colab.kernel.accessAllowed ? 'block' : 'none';\n",
              "\n",
              "        async function convertToInteractive(key) {\n",
              "          const element = document.querySelector('#df-76ef1c59-9fe4-4803-a1b4-e821b2ffd1c6');\n",
              "          const dataTable =\n",
              "            await google.colab.kernel.invokeFunction('convertToInteractive',\n",
              "                                                     [key], {});\n",
              "          if (!dataTable) return;\n",
              "\n",
              "          const docLinkHtml = 'Like what you see? Visit the ' +\n",
              "            '<a target=\"_blank\" href=https://colab.research.google.com/notebooks/data_table.ipynb>data table notebook</a>'\n",
              "            + ' to learn more about interactive tables.';\n",
              "          element.innerHTML = '';\n",
              "          dataTable['output_type'] = 'display_data';\n",
              "          await google.colab.output.renderOutput(dataTable, element);\n",
              "          const docLink = document.createElement('div');\n",
              "          docLink.innerHTML = docLinkHtml;\n",
              "          element.appendChild(docLink);\n",
              "        }\n",
              "      </script>\n",
              "    </div>\n",
              "  </div>\n",
              "  "
            ]
          },
          "metadata": {},
          "execution_count": 5
        }
      ]
    },
    {
      "cell_type": "code",
      "source": [
        "#ConsolidatedTable2\n",
        "consolidated2 = [shanghai_2020,shanghai_2021]\n",
        "shanghai = pd.concat(consolidated2)\n",
        "shanghai.head()"
      ],
      "metadata": {
        "id": "ihmghKb9ZLvk",
        "colab": {
          "base_uri": "https://localhost:8080/"
        },
        "outputId": "f3f6caa5-7a14-4172-f77c-127918731931"
      },
      "execution_count": null,
      "outputs": [
        {
          "output_type": "execute_result",
          "data": {
            "text/plain": [
              "       Site          Parameter            Date (LT)  Year  Month  Day  Hour  \\\n",
              "0  Shanghai  PM2.5 - Principal  2020-01-01 01:00 AM  2020      1    1     1   \n",
              "1  Shanghai  PM2.5 - Principal  2020-01-01 02:00 AM  2020      1    1     2   \n",
              "2  Shanghai  PM2.5 - Principal  2020-01-01 03:00 AM  2020      1    1     3   \n",
              "3  Shanghai  PM2.5 - Principal  2020-01-01 04:00 AM  2020      1    1     4   \n",
              "4  Shanghai  PM2.5 - Principal  2020-01-01 05:00 AM  2020      1    1     5   \n",
              "\n",
              "   NowCast Conc.  AQI AQI Category  Raw Conc. Conc. Unit Duration QC Name  \n",
              "0            9.8   41         Good       10.0      UG/M3     1 Hr   Valid  \n",
              "1           12.7   52     Moderate       16.0      UG/M3     1 Hr   Valid  \n",
              "2           11.0   46         Good        9.0      UG/M3     1 Hr   Valid  \n",
              "3           10.5   44         Good       10.0      UG/M3     1 Hr   Valid  \n",
              "4           10.3   43         Good       10.0      UG/M3     1 Hr   Valid  "
            ],
            "text/html": [
              "\n",
              "  <div id=\"df-73f23da1-be19-4555-93cf-ed3f78e4a2cf\">\n",
              "    <div class=\"colab-df-container\">\n",
              "      <div>\n",
              "<style scoped>\n",
              "    .dataframe tbody tr th:only-of-type {\n",
              "        vertical-align: middle;\n",
              "    }\n",
              "\n",
              "    .dataframe tbody tr th {\n",
              "        vertical-align: top;\n",
              "    }\n",
              "\n",
              "    .dataframe thead th {\n",
              "        text-align: right;\n",
              "    }\n",
              "</style>\n",
              "<table border=\"1\" class=\"dataframe\">\n",
              "  <thead>\n",
              "    <tr style=\"text-align: right;\">\n",
              "      <th></th>\n",
              "      <th>Site</th>\n",
              "      <th>Parameter</th>\n",
              "      <th>Date (LT)</th>\n",
              "      <th>Year</th>\n",
              "      <th>Month</th>\n",
              "      <th>Day</th>\n",
              "      <th>Hour</th>\n",
              "      <th>NowCast Conc.</th>\n",
              "      <th>AQI</th>\n",
              "      <th>AQI Category</th>\n",
              "      <th>Raw Conc.</th>\n",
              "      <th>Conc. Unit</th>\n",
              "      <th>Duration</th>\n",
              "      <th>QC Name</th>\n",
              "    </tr>\n",
              "  </thead>\n",
              "  <tbody>\n",
              "    <tr>\n",
              "      <th>0</th>\n",
              "      <td>Shanghai</td>\n",
              "      <td>PM2.5 - Principal</td>\n",
              "      <td>2020-01-01 01:00 AM</td>\n",
              "      <td>2020</td>\n",
              "      <td>1</td>\n",
              "      <td>1</td>\n",
              "      <td>1</td>\n",
              "      <td>9.8</td>\n",
              "      <td>41</td>\n",
              "      <td>Good</td>\n",
              "      <td>10.0</td>\n",
              "      <td>UG/M3</td>\n",
              "      <td>1 Hr</td>\n",
              "      <td>Valid</td>\n",
              "    </tr>\n",
              "    <tr>\n",
              "      <th>1</th>\n",
              "      <td>Shanghai</td>\n",
              "      <td>PM2.5 - Principal</td>\n",
              "      <td>2020-01-01 02:00 AM</td>\n",
              "      <td>2020</td>\n",
              "      <td>1</td>\n",
              "      <td>1</td>\n",
              "      <td>2</td>\n",
              "      <td>12.7</td>\n",
              "      <td>52</td>\n",
              "      <td>Moderate</td>\n",
              "      <td>16.0</td>\n",
              "      <td>UG/M3</td>\n",
              "      <td>1 Hr</td>\n",
              "      <td>Valid</td>\n",
              "    </tr>\n",
              "    <tr>\n",
              "      <th>2</th>\n",
              "      <td>Shanghai</td>\n",
              "      <td>PM2.5 - Principal</td>\n",
              "      <td>2020-01-01 03:00 AM</td>\n",
              "      <td>2020</td>\n",
              "      <td>1</td>\n",
              "      <td>1</td>\n",
              "      <td>3</td>\n",
              "      <td>11.0</td>\n",
              "      <td>46</td>\n",
              "      <td>Good</td>\n",
              "      <td>9.0</td>\n",
              "      <td>UG/M3</td>\n",
              "      <td>1 Hr</td>\n",
              "      <td>Valid</td>\n",
              "    </tr>\n",
              "    <tr>\n",
              "      <th>3</th>\n",
              "      <td>Shanghai</td>\n",
              "      <td>PM2.5 - Principal</td>\n",
              "      <td>2020-01-01 04:00 AM</td>\n",
              "      <td>2020</td>\n",
              "      <td>1</td>\n",
              "      <td>1</td>\n",
              "      <td>4</td>\n",
              "      <td>10.5</td>\n",
              "      <td>44</td>\n",
              "      <td>Good</td>\n",
              "      <td>10.0</td>\n",
              "      <td>UG/M3</td>\n",
              "      <td>1 Hr</td>\n",
              "      <td>Valid</td>\n",
              "    </tr>\n",
              "    <tr>\n",
              "      <th>4</th>\n",
              "      <td>Shanghai</td>\n",
              "      <td>PM2.5 - Principal</td>\n",
              "      <td>2020-01-01 05:00 AM</td>\n",
              "      <td>2020</td>\n",
              "      <td>1</td>\n",
              "      <td>1</td>\n",
              "      <td>5</td>\n",
              "      <td>10.3</td>\n",
              "      <td>43</td>\n",
              "      <td>Good</td>\n",
              "      <td>10.0</td>\n",
              "      <td>UG/M3</td>\n",
              "      <td>1 Hr</td>\n",
              "      <td>Valid</td>\n",
              "    </tr>\n",
              "  </tbody>\n",
              "</table>\n",
              "</div>\n",
              "      <button class=\"colab-df-convert\" onclick=\"convertToInteractive('df-73f23da1-be19-4555-93cf-ed3f78e4a2cf')\"\n",
              "              title=\"Convert this dataframe to an interactive table.\"\n",
              "              style=\"display:none;\">\n",
              "        \n",
              "  <svg xmlns=\"http://www.w3.org/2000/svg\" height=\"24px\"viewBox=\"0 0 24 24\"\n",
              "       width=\"24px\">\n",
              "    <path d=\"M0 0h24v24H0V0z\" fill=\"none\"/>\n",
              "    <path d=\"M18.56 5.44l.94 2.06.94-2.06 2.06-.94-2.06-.94-.94-2.06-.94 2.06-2.06.94zm-11 1L8.5 8.5l.94-2.06 2.06-.94-2.06-.94L8.5 2.5l-.94 2.06-2.06.94zm10 10l.94 2.06.94-2.06 2.06-.94-2.06-.94-.94-2.06-.94 2.06-2.06.94z\"/><path d=\"M17.41 7.96l-1.37-1.37c-.4-.4-.92-.59-1.43-.59-.52 0-1.04.2-1.43.59L10.3 9.45l-7.72 7.72c-.78.78-.78 2.05 0 2.83L4 21.41c.39.39.9.59 1.41.59.51 0 1.02-.2 1.41-.59l7.78-7.78 2.81-2.81c.8-.78.8-2.07 0-2.86zM5.41 20L4 18.59l7.72-7.72 1.47 1.35L5.41 20z\"/>\n",
              "  </svg>\n",
              "      </button>\n",
              "      \n",
              "  <style>\n",
              "    .colab-df-container {\n",
              "      display:flex;\n",
              "      flex-wrap:wrap;\n",
              "      gap: 12px;\n",
              "    }\n",
              "\n",
              "    .colab-df-convert {\n",
              "      background-color: #E8F0FE;\n",
              "      border: none;\n",
              "      border-radius: 50%;\n",
              "      cursor: pointer;\n",
              "      display: none;\n",
              "      fill: #1967D2;\n",
              "      height: 32px;\n",
              "      padding: 0 0 0 0;\n",
              "      width: 32px;\n",
              "    }\n",
              "\n",
              "    .colab-df-convert:hover {\n",
              "      background-color: #E2EBFA;\n",
              "      box-shadow: 0px 1px 2px rgba(60, 64, 67, 0.3), 0px 1px 3px 1px rgba(60, 64, 67, 0.15);\n",
              "      fill: #174EA6;\n",
              "    }\n",
              "\n",
              "    [theme=dark] .colab-df-convert {\n",
              "      background-color: #3B4455;\n",
              "      fill: #D2E3FC;\n",
              "    }\n",
              "\n",
              "    [theme=dark] .colab-df-convert:hover {\n",
              "      background-color: #434B5C;\n",
              "      box-shadow: 0px 1px 3px 1px rgba(0, 0, 0, 0.15);\n",
              "      filter: drop-shadow(0px 1px 2px rgba(0, 0, 0, 0.3));\n",
              "      fill: #FFFFFF;\n",
              "    }\n",
              "  </style>\n",
              "\n",
              "      <script>\n",
              "        const buttonEl =\n",
              "          document.querySelector('#df-73f23da1-be19-4555-93cf-ed3f78e4a2cf button.colab-df-convert');\n",
              "        buttonEl.style.display =\n",
              "          google.colab.kernel.accessAllowed ? 'block' : 'none';\n",
              "\n",
              "        async function convertToInteractive(key) {\n",
              "          const element = document.querySelector('#df-73f23da1-be19-4555-93cf-ed3f78e4a2cf');\n",
              "          const dataTable =\n",
              "            await google.colab.kernel.invokeFunction('convertToInteractive',\n",
              "                                                     [key], {});\n",
              "          if (!dataTable) return;\n",
              "\n",
              "          const docLinkHtml = 'Like what you see? Visit the ' +\n",
              "            '<a target=\"_blank\" href=https://colab.research.google.com/notebooks/data_table.ipynb>data table notebook</a>'\n",
              "            + ' to learn more about interactive tables.';\n",
              "          element.innerHTML = '';\n",
              "          dataTable['output_type'] = 'display_data';\n",
              "          await google.colab.output.renderOutput(dataTable, element);\n",
              "          const docLink = document.createElement('div');\n",
              "          docLink.innerHTML = docLinkHtml;\n",
              "          element.appendChild(docLink);\n",
              "        }\n",
              "      </script>\n",
              "    </div>\n",
              "  </div>\n",
              "  "
            ]
          },
          "metadata": {},
          "execution_count": 6
        }
      ]
    },
    {
      "cell_type": "markdown",
      "source": [
        "Let's rename the column Site to City, so it is easier to identify further. "
      ],
      "metadata": {
        "id": "3zSLPssnC4jd"
      }
    },
    {
      "cell_type": "code",
      "source": [
        "#Rename\n",
        "shanghai.rename(columns={'Site': 'City'}, inplace=True)\n",
        "beijing.rename(columns={'Site': 'City'}, inplace=True)"
      ],
      "metadata": {
        "id": "Rez0xLNW6KlZ"
      },
      "execution_count": null,
      "outputs": []
    },
    {
      "cell_type": "markdown",
      "source": [
        "Let's check the data types of each column in both dataframes."
      ],
      "metadata": {
        "id": "-PwXkBjz1khQ"
      }
    },
    {
      "cell_type": "code",
      "source": [
        "shanghai.dtypes"
      ],
      "metadata": {
        "colab": {
          "base_uri": "https://localhost:8080/"
        },
        "id": "Lv3D1fVy1eeh",
        "outputId": "6ed4af1b-88d6-4f5c-a848-9a3aeefdd2e0"
      },
      "execution_count": null,
      "outputs": [
        {
          "output_type": "execute_result",
          "data": {
            "text/plain": [
              "City              object\n",
              "Parameter         object\n",
              "Date (LT)         object\n",
              "Year               int64\n",
              "Month              int64\n",
              "Day                int64\n",
              "Hour               int64\n",
              "NowCast Conc.    float64\n",
              "AQI                int64\n",
              "AQI Category      object\n",
              "Raw Conc.        float64\n",
              "Conc. Unit        object\n",
              "Duration          object\n",
              "QC Name           object\n",
              "dtype: object"
            ]
          },
          "metadata": {},
          "execution_count": 8
        }
      ]
    },
    {
      "cell_type": "code",
      "source": [
        "beijing.dtypes"
      ],
      "metadata": {
        "colab": {
          "base_uri": "https://localhost:8080/"
        },
        "id": "ndo-CdZy1pwY",
        "outputId": "171e5450-c23e-4d1e-ef0d-69714646fd29"
      },
      "execution_count": null,
      "outputs": [
        {
          "output_type": "execute_result",
          "data": {
            "text/plain": [
              "City              object\n",
              "Parameter         object\n",
              "Date (LT)         object\n",
              "Year               int64\n",
              "Month              int64\n",
              "Day                int64\n",
              "Hour               int64\n",
              "NowCast Conc.    float64\n",
              "AQI                int64\n",
              "AQI Category      object\n",
              "Raw Conc.        float64\n",
              "Conc. Unit        object\n",
              "Duration          object\n",
              "QC Name           object\n",
              "dtype: object"
            ]
          },
          "metadata": {},
          "execution_count": 9
        }
      ]
    },
    {
      "cell_type": "markdown",
      "source": [
        "We can see that the date has data type object. Let's convert that to datetime and extract only the date part."
      ],
      "metadata": {
        "id": "8Gme7xFP1d7q"
      }
    },
    {
      "cell_type": "code",
      "source": [
        "#Fix the date format\n",
        "shanghai['Date (LT)'] = pd.to_datetime(shanghai['Date (LT)'])\n",
        "shanghai['Date (LT)'] = pd.to_datetime(shanghai['Date (LT)']).dt.date"
      ],
      "metadata": {
        "id": "MHUGfNhstxZV"
      },
      "execution_count": null,
      "outputs": []
    },
    {
      "cell_type": "code",
      "source": [
        "beijing['Date (LT)'] = pd.to_datetime(beijing['Date (LT)'])\n",
        "beijing['Date (LT)'] = pd.to_datetime(beijing['Date (LT)']).dt.date"
      ],
      "metadata": {
        "id": "M75vpXHbt9Dn"
      },
      "execution_count": null,
      "outputs": []
    },
    {
      "cell_type": "markdown",
      "source": [
        "Let's drop the columns 'Hour' and 'Duration' as they won't be needed for further analysis."
      ],
      "metadata": {
        "id": "aBYL8oss2F3S"
      }
    },
    {
      "cell_type": "code",
      "source": [
        "beijing = beijing.drop(['Hour', 'Duration'], axis=1)"
      ],
      "metadata": {
        "id": "IPIgwhpQRDBk"
      },
      "execution_count": null,
      "outputs": []
    },
    {
      "cell_type": "code",
      "source": [
        "shanghai = shanghai.drop(['Hour', 'Duration'], axis=1)"
      ],
      "metadata": {
        "id": "IJ9GernHRk9j"
      },
      "execution_count": null,
      "outputs": []
    },
    {
      "cell_type": "code",
      "source": [
        "print(\"The beijing dataset has\", beijing.shape[0],\"rows and\", beijing.shape[1], \"columns.\")\n",
        "print(\"The shanghai dataset has\", shanghai.shape[0],\"rows and\", shanghai.shape[1], \"columns.\")"
      ],
      "metadata": {
        "colab": {
          "base_uri": "https://localhost:8080/"
        },
        "id": "m2ALTna4ENB_",
        "outputId": "157f0168-a9a9-4529-9b39-ba1967d831b0"
      },
      "execution_count": null,
      "outputs": [
        {
          "output_type": "stream",
          "name": "stdout",
          "text": [
            "The beijing dataset has 17544 rows and 12 columns.\n",
            "The shanghai dataset has 17075 rows and 12 columns.\n"
          ]
        }
      ]
    },
    {
      "cell_type": "markdown",
      "source": [
        "Let's check whether our dataframes contain any missing values."
      ],
      "metadata": {
        "id": "uYf_jEpqFmjA"
      }
    },
    {
      "cell_type": "code",
      "source": [
        "beijing.isna().sum()"
      ],
      "metadata": {
        "colab": {
          "base_uri": "https://localhost:8080/"
        },
        "id": "KByEh99ilFk3",
        "outputId": "ae82d20b-863e-4f7b-b6aa-7b0adb0d3ae7"
      },
      "execution_count": null,
      "outputs": [
        {
          "output_type": "execute_result",
          "data": {
            "text/plain": [
              "City               0\n",
              "Parameter          0\n",
              "Date (LT)          0\n",
              "Year               0\n",
              "Month              0\n",
              "Day                0\n",
              "NowCast Conc.      0\n",
              "AQI                0\n",
              "AQI Category     164\n",
              "Raw Conc.          0\n",
              "Conc. Unit         0\n",
              "QC Name            0\n",
              "dtype: int64"
            ]
          },
          "metadata": {},
          "execution_count": 15
        }
      ]
    },
    {
      "cell_type": "code",
      "source": [
        "shanghai.isna().sum()"
      ],
      "metadata": {
        "colab": {
          "base_uri": "https://localhost:8080/"
        },
        "id": "uhvCfH2BldCs",
        "outputId": "647eeb29-f575-41c9-cc0f-17e19970b1d7"
      },
      "execution_count": null,
      "outputs": [
        {
          "output_type": "execute_result",
          "data": {
            "text/plain": [
              "City              0\n",
              "Parameter         0\n",
              "Date (LT)         0\n",
              "Year              0\n",
              "Month             0\n",
              "Day               0\n",
              "NowCast Conc.     0\n",
              "AQI               0\n",
              "AQI Category     52\n",
              "Raw Conc.         0\n",
              "Conc. Unit        0\n",
              "QC Name           0\n",
              "dtype: int64"
            ]
          },
          "metadata": {},
          "execution_count": 16
        }
      ]
    },
    {
      "cell_type": "markdown",
      "source": [
        "We can see that both dataframes show missing values for the column AQI Category. However, this will be fixed later, as we will create new ranges for each AQI category."
      ],
      "metadata": {
        "id": "4Fp5R-LhGBFb"
      }
    },
    {
      "cell_type": "code",
      "source": [
        "beijing.groupby(beijing['Year']).count()"
      ],
      "metadata": {
        "colab": {
          "base_uri": "https://localhost:8080/"
        },
        "id": "-v3zqWhZ28EJ",
        "outputId": "3b40f873-6a94-4967-f83a-995bcee4081f"
      },
      "execution_count": null,
      "outputs": [
        {
          "output_type": "execute_result",
          "data": {
            "text/plain": [
              "      City  Parameter  Date (LT)  Month   Day  NowCast Conc.   AQI  \\\n",
              "Year                                                                 \n",
              "2020  8783       8783       8783   8783  8783           8783  8783   \n",
              "2021  8760       8760       8760   8760  8760           8760  8760   \n",
              "2022     1          1          1      1     1              1     1   \n",
              "\n",
              "      AQI Category  Raw Conc.  Conc. Unit  QC Name  \n",
              "Year                                                \n",
              "2020          8735       8783        8783     8783  \n",
              "2021          8644       8760        8760     8760  \n",
              "2022             1          1           1        1  "
            ],
            "text/html": [
              "\n",
              "  <div id=\"df-3ac356a0-720f-43aa-ae07-81f48993f408\">\n",
              "    <div class=\"colab-df-container\">\n",
              "      <div>\n",
              "<style scoped>\n",
              "    .dataframe tbody tr th:only-of-type {\n",
              "        vertical-align: middle;\n",
              "    }\n",
              "\n",
              "    .dataframe tbody tr th {\n",
              "        vertical-align: top;\n",
              "    }\n",
              "\n",
              "    .dataframe thead th {\n",
              "        text-align: right;\n",
              "    }\n",
              "</style>\n",
              "<table border=\"1\" class=\"dataframe\">\n",
              "  <thead>\n",
              "    <tr style=\"text-align: right;\">\n",
              "      <th></th>\n",
              "      <th>City</th>\n",
              "      <th>Parameter</th>\n",
              "      <th>Date (LT)</th>\n",
              "      <th>Month</th>\n",
              "      <th>Day</th>\n",
              "      <th>NowCast Conc.</th>\n",
              "      <th>AQI</th>\n",
              "      <th>AQI Category</th>\n",
              "      <th>Raw Conc.</th>\n",
              "      <th>Conc. Unit</th>\n",
              "      <th>QC Name</th>\n",
              "    </tr>\n",
              "    <tr>\n",
              "      <th>Year</th>\n",
              "      <th></th>\n",
              "      <th></th>\n",
              "      <th></th>\n",
              "      <th></th>\n",
              "      <th></th>\n",
              "      <th></th>\n",
              "      <th></th>\n",
              "      <th></th>\n",
              "      <th></th>\n",
              "      <th></th>\n",
              "      <th></th>\n",
              "    </tr>\n",
              "  </thead>\n",
              "  <tbody>\n",
              "    <tr>\n",
              "      <th>2020</th>\n",
              "      <td>8783</td>\n",
              "      <td>8783</td>\n",
              "      <td>8783</td>\n",
              "      <td>8783</td>\n",
              "      <td>8783</td>\n",
              "      <td>8783</td>\n",
              "      <td>8783</td>\n",
              "      <td>8735</td>\n",
              "      <td>8783</td>\n",
              "      <td>8783</td>\n",
              "      <td>8783</td>\n",
              "    </tr>\n",
              "    <tr>\n",
              "      <th>2021</th>\n",
              "      <td>8760</td>\n",
              "      <td>8760</td>\n",
              "      <td>8760</td>\n",
              "      <td>8760</td>\n",
              "      <td>8760</td>\n",
              "      <td>8760</td>\n",
              "      <td>8760</td>\n",
              "      <td>8644</td>\n",
              "      <td>8760</td>\n",
              "      <td>8760</td>\n",
              "      <td>8760</td>\n",
              "    </tr>\n",
              "    <tr>\n",
              "      <th>2022</th>\n",
              "      <td>1</td>\n",
              "      <td>1</td>\n",
              "      <td>1</td>\n",
              "      <td>1</td>\n",
              "      <td>1</td>\n",
              "      <td>1</td>\n",
              "      <td>1</td>\n",
              "      <td>1</td>\n",
              "      <td>1</td>\n",
              "      <td>1</td>\n",
              "      <td>1</td>\n",
              "    </tr>\n",
              "  </tbody>\n",
              "</table>\n",
              "</div>\n",
              "      <button class=\"colab-df-convert\" onclick=\"convertToInteractive('df-3ac356a0-720f-43aa-ae07-81f48993f408')\"\n",
              "              title=\"Convert this dataframe to an interactive table.\"\n",
              "              style=\"display:none;\">\n",
              "        \n",
              "  <svg xmlns=\"http://www.w3.org/2000/svg\" height=\"24px\"viewBox=\"0 0 24 24\"\n",
              "       width=\"24px\">\n",
              "    <path d=\"M0 0h24v24H0V0z\" fill=\"none\"/>\n",
              "    <path d=\"M18.56 5.44l.94 2.06.94-2.06 2.06-.94-2.06-.94-.94-2.06-.94 2.06-2.06.94zm-11 1L8.5 8.5l.94-2.06 2.06-.94-2.06-.94L8.5 2.5l-.94 2.06-2.06.94zm10 10l.94 2.06.94-2.06 2.06-.94-2.06-.94-.94-2.06-.94 2.06-2.06.94z\"/><path d=\"M17.41 7.96l-1.37-1.37c-.4-.4-.92-.59-1.43-.59-.52 0-1.04.2-1.43.59L10.3 9.45l-7.72 7.72c-.78.78-.78 2.05 0 2.83L4 21.41c.39.39.9.59 1.41.59.51 0 1.02-.2 1.41-.59l7.78-7.78 2.81-2.81c.8-.78.8-2.07 0-2.86zM5.41 20L4 18.59l7.72-7.72 1.47 1.35L5.41 20z\"/>\n",
              "  </svg>\n",
              "      </button>\n",
              "      \n",
              "  <style>\n",
              "    .colab-df-container {\n",
              "      display:flex;\n",
              "      flex-wrap:wrap;\n",
              "      gap: 12px;\n",
              "    }\n",
              "\n",
              "    .colab-df-convert {\n",
              "      background-color: #E8F0FE;\n",
              "      border: none;\n",
              "      border-radius: 50%;\n",
              "      cursor: pointer;\n",
              "      display: none;\n",
              "      fill: #1967D2;\n",
              "      height: 32px;\n",
              "      padding: 0 0 0 0;\n",
              "      width: 32px;\n",
              "    }\n",
              "\n",
              "    .colab-df-convert:hover {\n",
              "      background-color: #E2EBFA;\n",
              "      box-shadow: 0px 1px 2px rgba(60, 64, 67, 0.3), 0px 1px 3px 1px rgba(60, 64, 67, 0.15);\n",
              "      fill: #174EA6;\n",
              "    }\n",
              "\n",
              "    [theme=dark] .colab-df-convert {\n",
              "      background-color: #3B4455;\n",
              "      fill: #D2E3FC;\n",
              "    }\n",
              "\n",
              "    [theme=dark] .colab-df-convert:hover {\n",
              "      background-color: #434B5C;\n",
              "      box-shadow: 0px 1px 3px 1px rgba(0, 0, 0, 0.15);\n",
              "      filter: drop-shadow(0px 1px 2px rgba(0, 0, 0, 0.3));\n",
              "      fill: #FFFFFF;\n",
              "    }\n",
              "  </style>\n",
              "\n",
              "      <script>\n",
              "        const buttonEl =\n",
              "          document.querySelector('#df-3ac356a0-720f-43aa-ae07-81f48993f408 button.colab-df-convert');\n",
              "        buttonEl.style.display =\n",
              "          google.colab.kernel.accessAllowed ? 'block' : 'none';\n",
              "\n",
              "        async function convertToInteractive(key) {\n",
              "          const element = document.querySelector('#df-3ac356a0-720f-43aa-ae07-81f48993f408');\n",
              "          const dataTable =\n",
              "            await google.colab.kernel.invokeFunction('convertToInteractive',\n",
              "                                                     [key], {});\n",
              "          if (!dataTable) return;\n",
              "\n",
              "          const docLinkHtml = 'Like what you see? Visit the ' +\n",
              "            '<a target=\"_blank\" href=https://colab.research.google.com/notebooks/data_table.ipynb>data table notebook</a>'\n",
              "            + ' to learn more about interactive tables.';\n",
              "          element.innerHTML = '';\n",
              "          dataTable['output_type'] = 'display_data';\n",
              "          await google.colab.output.renderOutput(dataTable, element);\n",
              "          const docLink = document.createElement('div');\n",
              "          docLink.innerHTML = docLinkHtml;\n",
              "          element.appendChild(docLink);\n",
              "        }\n",
              "      </script>\n",
              "    </div>\n",
              "  </div>\n",
              "  "
            ]
          },
          "metadata": {},
          "execution_count": 17
        }
      ]
    },
    {
      "cell_type": "code",
      "source": [
        "shanghai.groupby(shanghai['Year']).count()"
      ],
      "metadata": {
        "colab": {
          "base_uri": "https://localhost:8080/"
        },
        "id": "JwMVXPU-3Xq3",
        "outputId": "53c3387c-54b3-4e01-a2fa-dd377aeefd97"
      },
      "execution_count": null,
      "outputs": [
        {
          "output_type": "execute_result",
          "data": {
            "text/plain": [
              "      City  Parameter  Date (LT)  Month   Day  NowCast Conc.   AQI  \\\n",
              "Year                                                                 \n",
              "2020  8736       8736       8736   8736  8736           8736  8736   \n",
              "2021  8338       8338       8338   8338  8338           8338  8338   \n",
              "2022     1          1          1      1     1              1     1   \n",
              "\n",
              "      AQI Category  Raw Conc.  Conc. Unit  QC Name  \n",
              "Year                                                \n",
              "2020          8709       8736        8736     8736  \n",
              "2021          8313       8338        8338     8338  \n",
              "2022             1          1           1        1  "
            ],
            "text/html": [
              "\n",
              "  <div id=\"df-4ee66b3b-5b5b-4361-9b2c-527a9b5ad4e0\">\n",
              "    <div class=\"colab-df-container\">\n",
              "      <div>\n",
              "<style scoped>\n",
              "    .dataframe tbody tr th:only-of-type {\n",
              "        vertical-align: middle;\n",
              "    }\n",
              "\n",
              "    .dataframe tbody tr th {\n",
              "        vertical-align: top;\n",
              "    }\n",
              "\n",
              "    .dataframe thead th {\n",
              "        text-align: right;\n",
              "    }\n",
              "</style>\n",
              "<table border=\"1\" class=\"dataframe\">\n",
              "  <thead>\n",
              "    <tr style=\"text-align: right;\">\n",
              "      <th></th>\n",
              "      <th>City</th>\n",
              "      <th>Parameter</th>\n",
              "      <th>Date (LT)</th>\n",
              "      <th>Month</th>\n",
              "      <th>Day</th>\n",
              "      <th>NowCast Conc.</th>\n",
              "      <th>AQI</th>\n",
              "      <th>AQI Category</th>\n",
              "      <th>Raw Conc.</th>\n",
              "      <th>Conc. Unit</th>\n",
              "      <th>QC Name</th>\n",
              "    </tr>\n",
              "    <tr>\n",
              "      <th>Year</th>\n",
              "      <th></th>\n",
              "      <th></th>\n",
              "      <th></th>\n",
              "      <th></th>\n",
              "      <th></th>\n",
              "      <th></th>\n",
              "      <th></th>\n",
              "      <th></th>\n",
              "      <th></th>\n",
              "      <th></th>\n",
              "      <th></th>\n",
              "    </tr>\n",
              "  </thead>\n",
              "  <tbody>\n",
              "    <tr>\n",
              "      <th>2020</th>\n",
              "      <td>8736</td>\n",
              "      <td>8736</td>\n",
              "      <td>8736</td>\n",
              "      <td>8736</td>\n",
              "      <td>8736</td>\n",
              "      <td>8736</td>\n",
              "      <td>8736</td>\n",
              "      <td>8709</td>\n",
              "      <td>8736</td>\n",
              "      <td>8736</td>\n",
              "      <td>8736</td>\n",
              "    </tr>\n",
              "    <tr>\n",
              "      <th>2021</th>\n",
              "      <td>8338</td>\n",
              "      <td>8338</td>\n",
              "      <td>8338</td>\n",
              "      <td>8338</td>\n",
              "      <td>8338</td>\n",
              "      <td>8338</td>\n",
              "      <td>8338</td>\n",
              "      <td>8313</td>\n",
              "      <td>8338</td>\n",
              "      <td>8338</td>\n",
              "      <td>8338</td>\n",
              "    </tr>\n",
              "    <tr>\n",
              "      <th>2022</th>\n",
              "      <td>1</td>\n",
              "      <td>1</td>\n",
              "      <td>1</td>\n",
              "      <td>1</td>\n",
              "      <td>1</td>\n",
              "      <td>1</td>\n",
              "      <td>1</td>\n",
              "      <td>1</td>\n",
              "      <td>1</td>\n",
              "      <td>1</td>\n",
              "      <td>1</td>\n",
              "    </tr>\n",
              "  </tbody>\n",
              "</table>\n",
              "</div>\n",
              "      <button class=\"colab-df-convert\" onclick=\"convertToInteractive('df-4ee66b3b-5b5b-4361-9b2c-527a9b5ad4e0')\"\n",
              "              title=\"Convert this dataframe to an interactive table.\"\n",
              "              style=\"display:none;\">\n",
              "        \n",
              "  <svg xmlns=\"http://www.w3.org/2000/svg\" height=\"24px\"viewBox=\"0 0 24 24\"\n",
              "       width=\"24px\">\n",
              "    <path d=\"M0 0h24v24H0V0z\" fill=\"none\"/>\n",
              "    <path d=\"M18.56 5.44l.94 2.06.94-2.06 2.06-.94-2.06-.94-.94-2.06-.94 2.06-2.06.94zm-11 1L8.5 8.5l.94-2.06 2.06-.94-2.06-.94L8.5 2.5l-.94 2.06-2.06.94zm10 10l.94 2.06.94-2.06 2.06-.94-2.06-.94-.94-2.06-.94 2.06-2.06.94z\"/><path d=\"M17.41 7.96l-1.37-1.37c-.4-.4-.92-.59-1.43-.59-.52 0-1.04.2-1.43.59L10.3 9.45l-7.72 7.72c-.78.78-.78 2.05 0 2.83L4 21.41c.39.39.9.59 1.41.59.51 0 1.02-.2 1.41-.59l7.78-7.78 2.81-2.81c.8-.78.8-2.07 0-2.86zM5.41 20L4 18.59l7.72-7.72 1.47 1.35L5.41 20z\"/>\n",
              "  </svg>\n",
              "      </button>\n",
              "      \n",
              "  <style>\n",
              "    .colab-df-container {\n",
              "      display:flex;\n",
              "      flex-wrap:wrap;\n",
              "      gap: 12px;\n",
              "    }\n",
              "\n",
              "    .colab-df-convert {\n",
              "      background-color: #E8F0FE;\n",
              "      border: none;\n",
              "      border-radius: 50%;\n",
              "      cursor: pointer;\n",
              "      display: none;\n",
              "      fill: #1967D2;\n",
              "      height: 32px;\n",
              "      padding: 0 0 0 0;\n",
              "      width: 32px;\n",
              "    }\n",
              "\n",
              "    .colab-df-convert:hover {\n",
              "      background-color: #E2EBFA;\n",
              "      box-shadow: 0px 1px 2px rgba(60, 64, 67, 0.3), 0px 1px 3px 1px rgba(60, 64, 67, 0.15);\n",
              "      fill: #174EA6;\n",
              "    }\n",
              "\n",
              "    [theme=dark] .colab-df-convert {\n",
              "      background-color: #3B4455;\n",
              "      fill: #D2E3FC;\n",
              "    }\n",
              "\n",
              "    [theme=dark] .colab-df-convert:hover {\n",
              "      background-color: #434B5C;\n",
              "      box-shadow: 0px 1px 3px 1px rgba(0, 0, 0, 0.15);\n",
              "      filter: drop-shadow(0px 1px 2px rgba(0, 0, 0, 0.3));\n",
              "      fill: #FFFFFF;\n",
              "    }\n",
              "  </style>\n",
              "\n",
              "      <script>\n",
              "        const buttonEl =\n",
              "          document.querySelector('#df-4ee66b3b-5b5b-4361-9b2c-527a9b5ad4e0 button.colab-df-convert');\n",
              "        buttonEl.style.display =\n",
              "          google.colab.kernel.accessAllowed ? 'block' : 'none';\n",
              "\n",
              "        async function convertToInteractive(key) {\n",
              "          const element = document.querySelector('#df-4ee66b3b-5b5b-4361-9b2c-527a9b5ad4e0');\n",
              "          const dataTable =\n",
              "            await google.colab.kernel.invokeFunction('convertToInteractive',\n",
              "                                                     [key], {});\n",
              "          if (!dataTable) return;\n",
              "\n",
              "          const docLinkHtml = 'Like what you see? Visit the ' +\n",
              "            '<a target=\"_blank\" href=https://colab.research.google.com/notebooks/data_table.ipynb>data table notebook</a>'\n",
              "            + ' to learn more about interactive tables.';\n",
              "          element.innerHTML = '';\n",
              "          dataTable['output_type'] = 'display_data';\n",
              "          await google.colab.output.renderOutput(dataTable, element);\n",
              "          const docLink = document.createElement('div');\n",
              "          docLink.innerHTML = docLinkHtml;\n",
              "          element.appendChild(docLink);\n",
              "        }\n",
              "      </script>\n",
              "    </div>\n",
              "  </div>\n",
              "  "
            ]
          },
          "metadata": {},
          "execution_count": 18
        }
      ]
    },
    {
      "cell_type": "markdown",
      "source": [
        "Moreover, both dataframes show one observation labeled in the year 2022. Let's remove that observation as our analysis will be focused on 2020 and 2021."
      ],
      "metadata": {
        "id": "Bg2XVMhL3TbJ"
      }
    },
    {
      "cell_type": "code",
      "source": [
        "#Drop the 2022 Data\n",
        "\n",
        "beijing = beijing[beijing['Year']<2022]\n",
        "beijing = beijing.reset_index(drop= True)\n",
        "\n",
        "shanghai = shanghai[shanghai['Year']<2022]\n",
        "shanghai = shanghai.reset_index(drop= True)"
      ],
      "metadata": {
        "id": "-fZ0UR_TGWWB"
      },
      "execution_count": null,
      "outputs": []
    },
    {
      "cell_type": "markdown",
      "source": [
        "Let's check for data accuracy using the describe method."
      ],
      "metadata": {
        "id": "8fqck3-yG9LW"
      }
    },
    {
      "cell_type": "code",
      "source": [
        "#Summary of Statistics\n",
        "beijing.describe()"
      ],
      "metadata": {
        "id": "w9XzV91l6Sle",
        "colab": {
          "base_uri": "https://localhost:8080/"
        },
        "outputId": "2dd18056-d1e5-43f0-db68-25b079d568fd"
      },
      "execution_count": null,
      "outputs": [
        {
          "output_type": "execute_result",
          "data": {
            "text/plain": [
              "               Year         Month           Day  NowCast Conc.           AQI  \\\n",
              "count  17543.000000  17543.000000  17543.000000   17543.000000  17543.000000   \n",
              "mean    2020.499344      6.520150     15.739554      29.852129     84.766118   \n",
              "std        0.500014      3.449496      8.803719     107.359654    118.570028   \n",
              "min     2020.000000      1.000000      1.000000    -999.000000   -999.000000   \n",
              "25%     2020.000000      4.000000      8.000000      13.300000     54.000000   \n",
              "50%     2020.000000      7.000000     16.000000      27.700000     84.000000   \n",
              "75%     2021.000000     10.000000     23.000000      50.600000    138.000000   \n",
              "max     2021.000000     12.000000     31.000000     473.800000    482.000000   \n",
              "\n",
              "          Raw Conc.  \n",
              "count  17543.000000  \n",
              "mean      30.432708  \n",
              "std      105.977549  \n",
              "min     -999.000000  \n",
              "25%       13.000000  \n",
              "50%       27.000000  \n",
              "75%       51.000000  \n",
              "max      680.000000  "
            ],
            "text/html": [
              "\n",
              "  <div id=\"df-c303c224-d947-48ac-b4b9-b10399b12087\">\n",
              "    <div class=\"colab-df-container\">\n",
              "      <div>\n",
              "<style scoped>\n",
              "    .dataframe tbody tr th:only-of-type {\n",
              "        vertical-align: middle;\n",
              "    }\n",
              "\n",
              "    .dataframe tbody tr th {\n",
              "        vertical-align: top;\n",
              "    }\n",
              "\n",
              "    .dataframe thead th {\n",
              "        text-align: right;\n",
              "    }\n",
              "</style>\n",
              "<table border=\"1\" class=\"dataframe\">\n",
              "  <thead>\n",
              "    <tr style=\"text-align: right;\">\n",
              "      <th></th>\n",
              "      <th>Year</th>\n",
              "      <th>Month</th>\n",
              "      <th>Day</th>\n",
              "      <th>NowCast Conc.</th>\n",
              "      <th>AQI</th>\n",
              "      <th>Raw Conc.</th>\n",
              "    </tr>\n",
              "  </thead>\n",
              "  <tbody>\n",
              "    <tr>\n",
              "      <th>count</th>\n",
              "      <td>17543.000000</td>\n",
              "      <td>17543.000000</td>\n",
              "      <td>17543.000000</td>\n",
              "      <td>17543.000000</td>\n",
              "      <td>17543.000000</td>\n",
              "      <td>17543.000000</td>\n",
              "    </tr>\n",
              "    <tr>\n",
              "      <th>mean</th>\n",
              "      <td>2020.499344</td>\n",
              "      <td>6.520150</td>\n",
              "      <td>15.739554</td>\n",
              "      <td>29.852129</td>\n",
              "      <td>84.766118</td>\n",
              "      <td>30.432708</td>\n",
              "    </tr>\n",
              "    <tr>\n",
              "      <th>std</th>\n",
              "      <td>0.500014</td>\n",
              "      <td>3.449496</td>\n",
              "      <td>8.803719</td>\n",
              "      <td>107.359654</td>\n",
              "      <td>118.570028</td>\n",
              "      <td>105.977549</td>\n",
              "    </tr>\n",
              "    <tr>\n",
              "      <th>min</th>\n",
              "      <td>2020.000000</td>\n",
              "      <td>1.000000</td>\n",
              "      <td>1.000000</td>\n",
              "      <td>-999.000000</td>\n",
              "      <td>-999.000000</td>\n",
              "      <td>-999.000000</td>\n",
              "    </tr>\n",
              "    <tr>\n",
              "      <th>25%</th>\n",
              "      <td>2020.000000</td>\n",
              "      <td>4.000000</td>\n",
              "      <td>8.000000</td>\n",
              "      <td>13.300000</td>\n",
              "      <td>54.000000</td>\n",
              "      <td>13.000000</td>\n",
              "    </tr>\n",
              "    <tr>\n",
              "      <th>50%</th>\n",
              "      <td>2020.000000</td>\n",
              "      <td>7.000000</td>\n",
              "      <td>16.000000</td>\n",
              "      <td>27.700000</td>\n",
              "      <td>84.000000</td>\n",
              "      <td>27.000000</td>\n",
              "    </tr>\n",
              "    <tr>\n",
              "      <th>75%</th>\n",
              "      <td>2021.000000</td>\n",
              "      <td>10.000000</td>\n",
              "      <td>23.000000</td>\n",
              "      <td>50.600000</td>\n",
              "      <td>138.000000</td>\n",
              "      <td>51.000000</td>\n",
              "    </tr>\n",
              "    <tr>\n",
              "      <th>max</th>\n",
              "      <td>2021.000000</td>\n",
              "      <td>12.000000</td>\n",
              "      <td>31.000000</td>\n",
              "      <td>473.800000</td>\n",
              "      <td>482.000000</td>\n",
              "      <td>680.000000</td>\n",
              "    </tr>\n",
              "  </tbody>\n",
              "</table>\n",
              "</div>\n",
              "      <button class=\"colab-df-convert\" onclick=\"convertToInteractive('df-c303c224-d947-48ac-b4b9-b10399b12087')\"\n",
              "              title=\"Convert this dataframe to an interactive table.\"\n",
              "              style=\"display:none;\">\n",
              "        \n",
              "  <svg xmlns=\"http://www.w3.org/2000/svg\" height=\"24px\"viewBox=\"0 0 24 24\"\n",
              "       width=\"24px\">\n",
              "    <path d=\"M0 0h24v24H0V0z\" fill=\"none\"/>\n",
              "    <path d=\"M18.56 5.44l.94 2.06.94-2.06 2.06-.94-2.06-.94-.94-2.06-.94 2.06-2.06.94zm-11 1L8.5 8.5l.94-2.06 2.06-.94-2.06-.94L8.5 2.5l-.94 2.06-2.06.94zm10 10l.94 2.06.94-2.06 2.06-.94-2.06-.94-.94-2.06-.94 2.06-2.06.94z\"/><path d=\"M17.41 7.96l-1.37-1.37c-.4-.4-.92-.59-1.43-.59-.52 0-1.04.2-1.43.59L10.3 9.45l-7.72 7.72c-.78.78-.78 2.05 0 2.83L4 21.41c.39.39.9.59 1.41.59.51 0 1.02-.2 1.41-.59l7.78-7.78 2.81-2.81c.8-.78.8-2.07 0-2.86zM5.41 20L4 18.59l7.72-7.72 1.47 1.35L5.41 20z\"/>\n",
              "  </svg>\n",
              "      </button>\n",
              "      \n",
              "  <style>\n",
              "    .colab-df-container {\n",
              "      display:flex;\n",
              "      flex-wrap:wrap;\n",
              "      gap: 12px;\n",
              "    }\n",
              "\n",
              "    .colab-df-convert {\n",
              "      background-color: #E8F0FE;\n",
              "      border: none;\n",
              "      border-radius: 50%;\n",
              "      cursor: pointer;\n",
              "      display: none;\n",
              "      fill: #1967D2;\n",
              "      height: 32px;\n",
              "      padding: 0 0 0 0;\n",
              "      width: 32px;\n",
              "    }\n",
              "\n",
              "    .colab-df-convert:hover {\n",
              "      background-color: #E2EBFA;\n",
              "      box-shadow: 0px 1px 2px rgba(60, 64, 67, 0.3), 0px 1px 3px 1px rgba(60, 64, 67, 0.15);\n",
              "      fill: #174EA6;\n",
              "    }\n",
              "\n",
              "    [theme=dark] .colab-df-convert {\n",
              "      background-color: #3B4455;\n",
              "      fill: #D2E3FC;\n",
              "    }\n",
              "\n",
              "    [theme=dark] .colab-df-convert:hover {\n",
              "      background-color: #434B5C;\n",
              "      box-shadow: 0px 1px 3px 1px rgba(0, 0, 0, 0.15);\n",
              "      filter: drop-shadow(0px 1px 2px rgba(0, 0, 0, 0.3));\n",
              "      fill: #FFFFFF;\n",
              "    }\n",
              "  </style>\n",
              "\n",
              "      <script>\n",
              "        const buttonEl =\n",
              "          document.querySelector('#df-c303c224-d947-48ac-b4b9-b10399b12087 button.colab-df-convert');\n",
              "        buttonEl.style.display =\n",
              "          google.colab.kernel.accessAllowed ? 'block' : 'none';\n",
              "\n",
              "        async function convertToInteractive(key) {\n",
              "          const element = document.querySelector('#df-c303c224-d947-48ac-b4b9-b10399b12087');\n",
              "          const dataTable =\n",
              "            await google.colab.kernel.invokeFunction('convertToInteractive',\n",
              "                                                     [key], {});\n",
              "          if (!dataTable) return;\n",
              "\n",
              "          const docLinkHtml = 'Like what you see? Visit the ' +\n",
              "            '<a target=\"_blank\" href=https://colab.research.google.com/notebooks/data_table.ipynb>data table notebook</a>'\n",
              "            + ' to learn more about interactive tables.';\n",
              "          element.innerHTML = '';\n",
              "          dataTable['output_type'] = 'display_data';\n",
              "          await google.colab.output.renderOutput(dataTable, element);\n",
              "          const docLink = document.createElement('div');\n",
              "          docLink.innerHTML = docLinkHtml;\n",
              "          element.appendChild(docLink);\n",
              "        }\n",
              "      </script>\n",
              "    </div>\n",
              "  </div>\n",
              "  "
            ]
          },
          "metadata": {},
          "execution_count": 20
        }
      ]
    },
    {
      "cell_type": "code",
      "source": [
        "#Summary of Statistics\n",
        "shanghai.describe()"
      ],
      "metadata": {
        "id": "Dw_Db5E-Xx0l",
        "colab": {
          "base_uri": "https://localhost:8080/"
        },
        "outputId": "24052dd7-e794-40f1-abb3-f9861c5ffed7"
      },
      "execution_count": null,
      "outputs": [
        {
          "output_type": "execute_result",
          "data": {
            "text/plain": [
              "               Year         Month           Day  NowCast Conc.           AQI  \\\n",
              "count  17074.000000  17074.000000  17074.000000   17074.000000  17074.000000   \n",
              "mean    2020.488345      6.484186     15.850533      25.358815     79.070282   \n",
              "std        0.499879      3.462429      8.832406      60.459680     70.436687   \n",
              "min     2020.000000      1.000000      1.000000    -999.000000   -999.000000   \n",
              "25%     2020.000000      3.000000      8.000000      14.700000     56.000000   \n",
              "50%     2020.000000      6.000000     16.000000      22.400000     73.000000   \n",
              "75%     2021.000000     10.000000     24.000000      35.100000     99.000000   \n",
              "max     2021.000000     12.000000     31.000000     206.500000    256.000000   \n",
              "\n",
              "          Raw Conc.  \n",
              "count  17074.000000  \n",
              "mean      21.038187  \n",
              "std       90.386846  \n",
              "min     -999.000000  \n",
              "25%       14.000000  \n",
              "50%       22.000000  \n",
              "75%       35.000000  \n",
              "max      355.000000  "
            ],
            "text/html": [
              "\n",
              "  <div id=\"df-f9bd3f3e-8a80-4d2a-9628-f20627e67c13\">\n",
              "    <div class=\"colab-df-container\">\n",
              "      <div>\n",
              "<style scoped>\n",
              "    .dataframe tbody tr th:only-of-type {\n",
              "        vertical-align: middle;\n",
              "    }\n",
              "\n",
              "    .dataframe tbody tr th {\n",
              "        vertical-align: top;\n",
              "    }\n",
              "\n",
              "    .dataframe thead th {\n",
              "        text-align: right;\n",
              "    }\n",
              "</style>\n",
              "<table border=\"1\" class=\"dataframe\">\n",
              "  <thead>\n",
              "    <tr style=\"text-align: right;\">\n",
              "      <th></th>\n",
              "      <th>Year</th>\n",
              "      <th>Month</th>\n",
              "      <th>Day</th>\n",
              "      <th>NowCast Conc.</th>\n",
              "      <th>AQI</th>\n",
              "      <th>Raw Conc.</th>\n",
              "    </tr>\n",
              "  </thead>\n",
              "  <tbody>\n",
              "    <tr>\n",
              "      <th>count</th>\n",
              "      <td>17074.000000</td>\n",
              "      <td>17074.000000</td>\n",
              "      <td>17074.000000</td>\n",
              "      <td>17074.000000</td>\n",
              "      <td>17074.000000</td>\n",
              "      <td>17074.000000</td>\n",
              "    </tr>\n",
              "    <tr>\n",
              "      <th>mean</th>\n",
              "      <td>2020.488345</td>\n",
              "      <td>6.484186</td>\n",
              "      <td>15.850533</td>\n",
              "      <td>25.358815</td>\n",
              "      <td>79.070282</td>\n",
              "      <td>21.038187</td>\n",
              "    </tr>\n",
              "    <tr>\n",
              "      <th>std</th>\n",
              "      <td>0.499879</td>\n",
              "      <td>3.462429</td>\n",
              "      <td>8.832406</td>\n",
              "      <td>60.459680</td>\n",
              "      <td>70.436687</td>\n",
              "      <td>90.386846</td>\n",
              "    </tr>\n",
              "    <tr>\n",
              "      <th>min</th>\n",
              "      <td>2020.000000</td>\n",
              "      <td>1.000000</td>\n",
              "      <td>1.000000</td>\n",
              "      <td>-999.000000</td>\n",
              "      <td>-999.000000</td>\n",
              "      <td>-999.000000</td>\n",
              "    </tr>\n",
              "    <tr>\n",
              "      <th>25%</th>\n",
              "      <td>2020.000000</td>\n",
              "      <td>3.000000</td>\n",
              "      <td>8.000000</td>\n",
              "      <td>14.700000</td>\n",
              "      <td>56.000000</td>\n",
              "      <td>14.000000</td>\n",
              "    </tr>\n",
              "    <tr>\n",
              "      <th>50%</th>\n",
              "      <td>2020.000000</td>\n",
              "      <td>6.000000</td>\n",
              "      <td>16.000000</td>\n",
              "      <td>22.400000</td>\n",
              "      <td>73.000000</td>\n",
              "      <td>22.000000</td>\n",
              "    </tr>\n",
              "    <tr>\n",
              "      <th>75%</th>\n",
              "      <td>2021.000000</td>\n",
              "      <td>10.000000</td>\n",
              "      <td>24.000000</td>\n",
              "      <td>35.100000</td>\n",
              "      <td>99.000000</td>\n",
              "      <td>35.000000</td>\n",
              "    </tr>\n",
              "    <tr>\n",
              "      <th>max</th>\n",
              "      <td>2021.000000</td>\n",
              "      <td>12.000000</td>\n",
              "      <td>31.000000</td>\n",
              "      <td>206.500000</td>\n",
              "      <td>256.000000</td>\n",
              "      <td>355.000000</td>\n",
              "    </tr>\n",
              "  </tbody>\n",
              "</table>\n",
              "</div>\n",
              "      <button class=\"colab-df-convert\" onclick=\"convertToInteractive('df-f9bd3f3e-8a80-4d2a-9628-f20627e67c13')\"\n",
              "              title=\"Convert this dataframe to an interactive table.\"\n",
              "              style=\"display:none;\">\n",
              "        \n",
              "  <svg xmlns=\"http://www.w3.org/2000/svg\" height=\"24px\"viewBox=\"0 0 24 24\"\n",
              "       width=\"24px\">\n",
              "    <path d=\"M0 0h24v24H0V0z\" fill=\"none\"/>\n",
              "    <path d=\"M18.56 5.44l.94 2.06.94-2.06 2.06-.94-2.06-.94-.94-2.06-.94 2.06-2.06.94zm-11 1L8.5 8.5l.94-2.06 2.06-.94-2.06-.94L8.5 2.5l-.94 2.06-2.06.94zm10 10l.94 2.06.94-2.06 2.06-.94-2.06-.94-.94-2.06-.94 2.06-2.06.94z\"/><path d=\"M17.41 7.96l-1.37-1.37c-.4-.4-.92-.59-1.43-.59-.52 0-1.04.2-1.43.59L10.3 9.45l-7.72 7.72c-.78.78-.78 2.05 0 2.83L4 21.41c.39.39.9.59 1.41.59.51 0 1.02-.2 1.41-.59l7.78-7.78 2.81-2.81c.8-.78.8-2.07 0-2.86zM5.41 20L4 18.59l7.72-7.72 1.47 1.35L5.41 20z\"/>\n",
              "  </svg>\n",
              "      </button>\n",
              "      \n",
              "  <style>\n",
              "    .colab-df-container {\n",
              "      display:flex;\n",
              "      flex-wrap:wrap;\n",
              "      gap: 12px;\n",
              "    }\n",
              "\n",
              "    .colab-df-convert {\n",
              "      background-color: #E8F0FE;\n",
              "      border: none;\n",
              "      border-radius: 50%;\n",
              "      cursor: pointer;\n",
              "      display: none;\n",
              "      fill: #1967D2;\n",
              "      height: 32px;\n",
              "      padding: 0 0 0 0;\n",
              "      width: 32px;\n",
              "    }\n",
              "\n",
              "    .colab-df-convert:hover {\n",
              "      background-color: #E2EBFA;\n",
              "      box-shadow: 0px 1px 2px rgba(60, 64, 67, 0.3), 0px 1px 3px 1px rgba(60, 64, 67, 0.15);\n",
              "      fill: #174EA6;\n",
              "    }\n",
              "\n",
              "    [theme=dark] .colab-df-convert {\n",
              "      background-color: #3B4455;\n",
              "      fill: #D2E3FC;\n",
              "    }\n",
              "\n",
              "    [theme=dark] .colab-df-convert:hover {\n",
              "      background-color: #434B5C;\n",
              "      box-shadow: 0px 1px 3px 1px rgba(0, 0, 0, 0.15);\n",
              "      filter: drop-shadow(0px 1px 2px rgba(0, 0, 0, 0.3));\n",
              "      fill: #FFFFFF;\n",
              "    }\n",
              "  </style>\n",
              "\n",
              "      <script>\n",
              "        const buttonEl =\n",
              "          document.querySelector('#df-f9bd3f3e-8a80-4d2a-9628-f20627e67c13 button.colab-df-convert');\n",
              "        buttonEl.style.display =\n",
              "          google.colab.kernel.accessAllowed ? 'block' : 'none';\n",
              "\n",
              "        async function convertToInteractive(key) {\n",
              "          const element = document.querySelector('#df-f9bd3f3e-8a80-4d2a-9628-f20627e67c13');\n",
              "          const dataTable =\n",
              "            await google.colab.kernel.invokeFunction('convertToInteractive',\n",
              "                                                     [key], {});\n",
              "          if (!dataTable) return;\n",
              "\n",
              "          const docLinkHtml = 'Like what you see? Visit the ' +\n",
              "            '<a target=\"_blank\" href=https://colab.research.google.com/notebooks/data_table.ipynb>data table notebook</a>'\n",
              "            + ' to learn more about interactive tables.';\n",
              "          element.innerHTML = '';\n",
              "          dataTable['output_type'] = 'display_data';\n",
              "          await google.colab.output.renderOutput(dataTable, element);\n",
              "          const docLink = document.createElement('div');\n",
              "          docLink.innerHTML = docLinkHtml;\n",
              "          element.appendChild(docLink);\n",
              "        }\n",
              "      </script>\n",
              "    </div>\n",
              "  </div>\n",
              "  "
            ]
          },
          "metadata": {},
          "execution_count": 21
        }
      ]
    },
    {
      "cell_type": "markdown",
      "source": [
        "We can see that the columns AQI, NowCast Conc. and Raw Conc. have some observations -999. These are also considered to be missing values and will be removed."
      ],
      "metadata": {
        "id": "Lvq_NjDKHGtv"
      }
    },
    {
      "cell_type": "code",
      "source": [
        "##Drop -999 AQI values \n",
        "beijing = beijing[beijing['AQI']>0]\n",
        "beijing = beijing.reset_index(drop=True)"
      ],
      "metadata": {
        "id": "xLK0FuBx6euG"
      },
      "execution_count": null,
      "outputs": []
    },
    {
      "cell_type": "code",
      "source": [
        "##Drop -999 AQI values \n",
        "shanghai = shanghai[shanghai['AQI']>0]\n",
        "shanghai = shanghai.reset_index(drop=True)"
      ],
      "metadata": {
        "id": "2KCEIvrdYYwY"
      },
      "execution_count": null,
      "outputs": []
    },
    {
      "cell_type": "code",
      "source": [
        "##Drop -999 values Raw Conc \n",
        "beijing = beijing[beijing['Raw Conc.']>0]\n",
        "beijing = beijing.reset_index(drop=True)"
      ],
      "metadata": {
        "id": "Xw2GbPRz7JVa"
      },
      "execution_count": null,
      "outputs": []
    },
    {
      "cell_type": "code",
      "source": [
        "##Drop -999 values Raw Conc \n",
        "shanghai = shanghai[shanghai['Raw Conc.']>0]\n",
        "shanghai = shanghai.reset_index(drop=True)"
      ],
      "metadata": {
        "id": "MCf0MXytYvHj"
      },
      "execution_count": null,
      "outputs": []
    },
    {
      "cell_type": "code",
      "source": [
        "##Drop -999 values NowCast Conc \n",
        "beijing = beijing[beijing['NowCast Conc.']>0]\n",
        "beijing = beijing.reset_index(drop=True)"
      ],
      "metadata": {
        "id": "KinW56gl4L6C"
      },
      "execution_count": null,
      "outputs": []
    },
    {
      "cell_type": "code",
      "source": [
        "##Drop -999 values NowCast Conc \n",
        "shanghai = shanghai[shanghai['NowCast Conc.']>0]\n",
        "shanghai = shanghai.reset_index(drop=True)"
      ],
      "metadata": {
        "id": "mZcO0ho94MEo"
      },
      "execution_count": null,
      "outputs": []
    },
    {
      "cell_type": "markdown",
      "source": [
        "Additionally, let's check unique values of QC Name, which indicates which observations are valid or invalid, based on the AQI monitor. The records showing as invalid will be removed. "
      ],
      "metadata": {
        "id": "YYs_aKZXHXff"
      }
    },
    {
      "cell_type": "code",
      "source": [
        "beijing['QC Name'].value_counts()"
      ],
      "metadata": {
        "colab": {
          "base_uri": "https://localhost:8080/"
        },
        "id": "wd9x0hc_4crt",
        "outputId": "106b746d-4a2c-43b8-db2d-f538f4477d92"
      },
      "execution_count": null,
      "outputs": [
        {
          "output_type": "execute_result",
          "data": {
            "text/plain": [
              "Valid      17314\n",
              "Invalid        6\n",
              "Name: QC Name, dtype: int64"
            ]
          },
          "metadata": {},
          "execution_count": 28
        }
      ]
    },
    {
      "cell_type": "code",
      "source": [
        "shanghai['QC Name'].value_counts()"
      ],
      "metadata": {
        "colab": {
          "base_uri": "https://localhost:8080/"
        },
        "id": "XNSYriek4z2U",
        "outputId": "f249bf69-ee1c-4e01-f2e0-705752202d3c"
      },
      "execution_count": null,
      "outputs": [
        {
          "output_type": "execute_result",
          "data": {
            "text/plain": [
              "Valid      16863\n",
              "Invalid        4\n",
              "Name: QC Name, dtype: int64"
            ]
          },
          "metadata": {},
          "execution_count": 29
        }
      ]
    },
    {
      "cell_type": "code",
      "source": [
        "#Drop the Invalid QCName\n",
        "\n",
        "beijing = beijing[beijing['QC Name']=='Valid']\n",
        "beijing = beijing.reset_index(drop= True)\n",
        "\n",
        "shanghai = shanghai[shanghai['QC Name']=='Valid']\n",
        "shanghai = shanghai.reset_index(drop= True)"
      ],
      "metadata": {
        "id": "yCeMQrni71H0"
      },
      "execution_count": null,
      "outputs": []
    },
    {
      "cell_type": "markdown",
      "source": [
        "Now, we have 24 AQI records for each day (the measurement is taken hourly). But, since we know that COVID-19 confirmed cases and deaths are measured daily, we will aggregate our AQI dataframes by daily average using the groupby method."
      ],
      "metadata": {
        "id": "_yxdlfq0HgxA"
      }
    },
    {
      "cell_type": "code",
      "source": [
        "cleaned_beijing = beijing.copy()"
      ],
      "metadata": {
        "id": "2QDNqQiGLgLh"
      },
      "execution_count": null,
      "outputs": []
    },
    {
      "cell_type": "code",
      "source": [
        "beijing = round(beijing.groupby(['Date (LT)']).mean().reset_index(),1)\n",
        "beijing  = pd.DataFrame(beijing)\n",
        "beijing.insert(1,'City',cleaned_beijing['City'], True)\n",
        "beijing.insert(1,'Parameter',cleaned_beijing['Parameter'], True)\n",
        "beijing.insert(1,'Conc. Unit',cleaned_beijing['Conc. Unit'], True)\n",
        "beijing.insert(1,'QC Name',cleaned_beijing['QC Name'], True)\n",
        "beijing.insert(1,'AQI Category',cleaned_beijing['AQI Category'], True)\n",
        "beijing = beijing[['City', 'Parameter', 'Date (LT)', 'Year', 'Month','Day','NowCast Conc.','AQI','AQI Category','Raw Conc.','Conc. Unit','QC Name']]\n",
        "beijing.head()"
      ],
      "metadata": {
        "colab": {
          "base_uri": "https://localhost:8080/"
        },
        "id": "YESGEnoRMKMY",
        "outputId": "571013dd-1460-4d84-d640-54aca70f2fb8"
      },
      "execution_count": null,
      "outputs": [
        {
          "output_type": "execute_result",
          "data": {
            "text/plain": [
              "      City          Parameter   Date (LT)    Year  Month  Day  NowCast Conc.  \\\n",
              "0  Beijing  PM2.5 - Principal  2020-01-01  2020.0    1.0  1.0           31.1   \n",
              "1  Beijing  PM2.5 - Principal  2020-01-02  2020.0    1.0  2.0           50.6   \n",
              "2  Beijing  PM2.5 - Principal  2020-01-03  2020.0    1.0  3.0           49.0   \n",
              "3  Beijing  PM2.5 - Principal  2020-01-04  2020.0    1.0  4.0           36.8   \n",
              "4  Beijing  PM2.5 - Principal  2020-01-05  2020.0    1.0  5.0           61.5   \n",
              "\n",
              "     AQI AQI Category  Raw Conc. Conc. Unit QC Name  \n",
              "0   91.7     Moderate       31.7      UG/M3   Valid  \n",
              "1  135.2     Moderate       51.2      UG/M3   Valid  \n",
              "2  126.1     Moderate       49.0      UG/M3   Valid  \n",
              "3  100.7     Moderate       36.2      UG/M3   Valid  \n",
              "4  153.8     Moderate       62.0      UG/M3   Valid  "
            ],
            "text/html": [
              "\n",
              "  <div id=\"df-94287ae7-005c-4a69-9d06-fbcf53573803\">\n",
              "    <div class=\"colab-df-container\">\n",
              "      <div>\n",
              "<style scoped>\n",
              "    .dataframe tbody tr th:only-of-type {\n",
              "        vertical-align: middle;\n",
              "    }\n",
              "\n",
              "    .dataframe tbody tr th {\n",
              "        vertical-align: top;\n",
              "    }\n",
              "\n",
              "    .dataframe thead th {\n",
              "        text-align: right;\n",
              "    }\n",
              "</style>\n",
              "<table border=\"1\" class=\"dataframe\">\n",
              "  <thead>\n",
              "    <tr style=\"text-align: right;\">\n",
              "      <th></th>\n",
              "      <th>City</th>\n",
              "      <th>Parameter</th>\n",
              "      <th>Date (LT)</th>\n",
              "      <th>Year</th>\n",
              "      <th>Month</th>\n",
              "      <th>Day</th>\n",
              "      <th>NowCast Conc.</th>\n",
              "      <th>AQI</th>\n",
              "      <th>AQI Category</th>\n",
              "      <th>Raw Conc.</th>\n",
              "      <th>Conc. Unit</th>\n",
              "      <th>QC Name</th>\n",
              "    </tr>\n",
              "  </thead>\n",
              "  <tbody>\n",
              "    <tr>\n",
              "      <th>0</th>\n",
              "      <td>Beijing</td>\n",
              "      <td>PM2.5 - Principal</td>\n",
              "      <td>2020-01-01</td>\n",
              "      <td>2020.0</td>\n",
              "      <td>1.0</td>\n",
              "      <td>1.0</td>\n",
              "      <td>31.1</td>\n",
              "      <td>91.7</td>\n",
              "      <td>Moderate</td>\n",
              "      <td>31.7</td>\n",
              "      <td>UG/M3</td>\n",
              "      <td>Valid</td>\n",
              "    </tr>\n",
              "    <tr>\n",
              "      <th>1</th>\n",
              "      <td>Beijing</td>\n",
              "      <td>PM2.5 - Principal</td>\n",
              "      <td>2020-01-02</td>\n",
              "      <td>2020.0</td>\n",
              "      <td>1.0</td>\n",
              "      <td>2.0</td>\n",
              "      <td>50.6</td>\n",
              "      <td>135.2</td>\n",
              "      <td>Moderate</td>\n",
              "      <td>51.2</td>\n",
              "      <td>UG/M3</td>\n",
              "      <td>Valid</td>\n",
              "    </tr>\n",
              "    <tr>\n",
              "      <th>2</th>\n",
              "      <td>Beijing</td>\n",
              "      <td>PM2.5 - Principal</td>\n",
              "      <td>2020-01-03</td>\n",
              "      <td>2020.0</td>\n",
              "      <td>1.0</td>\n",
              "      <td>3.0</td>\n",
              "      <td>49.0</td>\n",
              "      <td>126.1</td>\n",
              "      <td>Moderate</td>\n",
              "      <td>49.0</td>\n",
              "      <td>UG/M3</td>\n",
              "      <td>Valid</td>\n",
              "    </tr>\n",
              "    <tr>\n",
              "      <th>3</th>\n",
              "      <td>Beijing</td>\n",
              "      <td>PM2.5 - Principal</td>\n",
              "      <td>2020-01-04</td>\n",
              "      <td>2020.0</td>\n",
              "      <td>1.0</td>\n",
              "      <td>4.0</td>\n",
              "      <td>36.8</td>\n",
              "      <td>100.7</td>\n",
              "      <td>Moderate</td>\n",
              "      <td>36.2</td>\n",
              "      <td>UG/M3</td>\n",
              "      <td>Valid</td>\n",
              "    </tr>\n",
              "    <tr>\n",
              "      <th>4</th>\n",
              "      <td>Beijing</td>\n",
              "      <td>PM2.5 - Principal</td>\n",
              "      <td>2020-01-05</td>\n",
              "      <td>2020.0</td>\n",
              "      <td>1.0</td>\n",
              "      <td>5.0</td>\n",
              "      <td>61.5</td>\n",
              "      <td>153.8</td>\n",
              "      <td>Moderate</td>\n",
              "      <td>62.0</td>\n",
              "      <td>UG/M3</td>\n",
              "      <td>Valid</td>\n",
              "    </tr>\n",
              "  </tbody>\n",
              "</table>\n",
              "</div>\n",
              "      <button class=\"colab-df-convert\" onclick=\"convertToInteractive('df-94287ae7-005c-4a69-9d06-fbcf53573803')\"\n",
              "              title=\"Convert this dataframe to an interactive table.\"\n",
              "              style=\"display:none;\">\n",
              "        \n",
              "  <svg xmlns=\"http://www.w3.org/2000/svg\" height=\"24px\"viewBox=\"0 0 24 24\"\n",
              "       width=\"24px\">\n",
              "    <path d=\"M0 0h24v24H0V0z\" fill=\"none\"/>\n",
              "    <path d=\"M18.56 5.44l.94 2.06.94-2.06 2.06-.94-2.06-.94-.94-2.06-.94 2.06-2.06.94zm-11 1L8.5 8.5l.94-2.06 2.06-.94-2.06-.94L8.5 2.5l-.94 2.06-2.06.94zm10 10l.94 2.06.94-2.06 2.06-.94-2.06-.94-.94-2.06-.94 2.06-2.06.94z\"/><path d=\"M17.41 7.96l-1.37-1.37c-.4-.4-.92-.59-1.43-.59-.52 0-1.04.2-1.43.59L10.3 9.45l-7.72 7.72c-.78.78-.78 2.05 0 2.83L4 21.41c.39.39.9.59 1.41.59.51 0 1.02-.2 1.41-.59l7.78-7.78 2.81-2.81c.8-.78.8-2.07 0-2.86zM5.41 20L4 18.59l7.72-7.72 1.47 1.35L5.41 20z\"/>\n",
              "  </svg>\n",
              "      </button>\n",
              "      \n",
              "  <style>\n",
              "    .colab-df-container {\n",
              "      display:flex;\n",
              "      flex-wrap:wrap;\n",
              "      gap: 12px;\n",
              "    }\n",
              "\n",
              "    .colab-df-convert {\n",
              "      background-color: #E8F0FE;\n",
              "      border: none;\n",
              "      border-radius: 50%;\n",
              "      cursor: pointer;\n",
              "      display: none;\n",
              "      fill: #1967D2;\n",
              "      height: 32px;\n",
              "      padding: 0 0 0 0;\n",
              "      width: 32px;\n",
              "    }\n",
              "\n",
              "    .colab-df-convert:hover {\n",
              "      background-color: #E2EBFA;\n",
              "      box-shadow: 0px 1px 2px rgba(60, 64, 67, 0.3), 0px 1px 3px 1px rgba(60, 64, 67, 0.15);\n",
              "      fill: #174EA6;\n",
              "    }\n",
              "\n",
              "    [theme=dark] .colab-df-convert {\n",
              "      background-color: #3B4455;\n",
              "      fill: #D2E3FC;\n",
              "    }\n",
              "\n",
              "    [theme=dark] .colab-df-convert:hover {\n",
              "      background-color: #434B5C;\n",
              "      box-shadow: 0px 1px 3px 1px rgba(0, 0, 0, 0.15);\n",
              "      filter: drop-shadow(0px 1px 2px rgba(0, 0, 0, 0.3));\n",
              "      fill: #FFFFFF;\n",
              "    }\n",
              "  </style>\n",
              "\n",
              "      <script>\n",
              "        const buttonEl =\n",
              "          document.querySelector('#df-94287ae7-005c-4a69-9d06-fbcf53573803 button.colab-df-convert');\n",
              "        buttonEl.style.display =\n",
              "          google.colab.kernel.accessAllowed ? 'block' : 'none';\n",
              "\n",
              "        async function convertToInteractive(key) {\n",
              "          const element = document.querySelector('#df-94287ae7-005c-4a69-9d06-fbcf53573803');\n",
              "          const dataTable =\n",
              "            await google.colab.kernel.invokeFunction('convertToInteractive',\n",
              "                                                     [key], {});\n",
              "          if (!dataTable) return;\n",
              "\n",
              "          const docLinkHtml = 'Like what you see? Visit the ' +\n",
              "            '<a target=\"_blank\" href=https://colab.research.google.com/notebooks/data_table.ipynb>data table notebook</a>'\n",
              "            + ' to learn more about interactive tables.';\n",
              "          element.innerHTML = '';\n",
              "          dataTable['output_type'] = 'display_data';\n",
              "          await google.colab.output.renderOutput(dataTable, element);\n",
              "          const docLink = document.createElement('div');\n",
              "          docLink.innerHTML = docLinkHtml;\n",
              "          element.appendChild(docLink);\n",
              "        }\n",
              "      </script>\n",
              "    </div>\n",
              "  </div>\n",
              "  "
            ]
          },
          "metadata": {},
          "execution_count": 32
        }
      ]
    },
    {
      "cell_type": "markdown",
      "source": [
        "The Year, Month and Day will be converted back to int64, the rest will remain float for data precision."
      ],
      "metadata": {
        "id": "o7ZKenhwIk18"
      }
    },
    {
      "cell_type": "code",
      "source": [
        "beijing['Year'] = beijing['Year'].astype(np.int64)\n",
        "beijing['Month'] = beijing['Month'].astype(np.int64)\n",
        "beijing['Day'] = beijing['Day'].astype(np.int64)\n",
        "beijing.head()"
      ],
      "metadata": {
        "id": "bKEtxLEdI-Uo",
        "colab": {
          "base_uri": "https://localhost:8080/"
        },
        "outputId": "3ec33d38-18c2-41c2-e35d-cb21762bca2d"
      },
      "execution_count": null,
      "outputs": [
        {
          "output_type": "execute_result",
          "data": {
            "text/plain": [
              "      City          Parameter   Date (LT)  Year  Month  Day  NowCast Conc.  \\\n",
              "0  Beijing  PM2.5 - Principal  2020-01-01  2020      1    1           31.1   \n",
              "1  Beijing  PM2.5 - Principal  2020-01-02  2020      1    2           50.6   \n",
              "2  Beijing  PM2.5 - Principal  2020-01-03  2020      1    3           49.0   \n",
              "3  Beijing  PM2.5 - Principal  2020-01-04  2020      1    4           36.8   \n",
              "4  Beijing  PM2.5 - Principal  2020-01-05  2020      1    5           61.5   \n",
              "\n",
              "     AQI AQI Category  Raw Conc. Conc. Unit QC Name  \n",
              "0   91.7     Moderate       31.7      UG/M3   Valid  \n",
              "1  135.2     Moderate       51.2      UG/M3   Valid  \n",
              "2  126.1     Moderate       49.0      UG/M3   Valid  \n",
              "3  100.7     Moderate       36.2      UG/M3   Valid  \n",
              "4  153.8     Moderate       62.0      UG/M3   Valid  "
            ],
            "text/html": [
              "\n",
              "  <div id=\"df-7ee38586-d641-4114-8add-5b3907bf28cb\">\n",
              "    <div class=\"colab-df-container\">\n",
              "      <div>\n",
              "<style scoped>\n",
              "    .dataframe tbody tr th:only-of-type {\n",
              "        vertical-align: middle;\n",
              "    }\n",
              "\n",
              "    .dataframe tbody tr th {\n",
              "        vertical-align: top;\n",
              "    }\n",
              "\n",
              "    .dataframe thead th {\n",
              "        text-align: right;\n",
              "    }\n",
              "</style>\n",
              "<table border=\"1\" class=\"dataframe\">\n",
              "  <thead>\n",
              "    <tr style=\"text-align: right;\">\n",
              "      <th></th>\n",
              "      <th>City</th>\n",
              "      <th>Parameter</th>\n",
              "      <th>Date (LT)</th>\n",
              "      <th>Year</th>\n",
              "      <th>Month</th>\n",
              "      <th>Day</th>\n",
              "      <th>NowCast Conc.</th>\n",
              "      <th>AQI</th>\n",
              "      <th>AQI Category</th>\n",
              "      <th>Raw Conc.</th>\n",
              "      <th>Conc. Unit</th>\n",
              "      <th>QC Name</th>\n",
              "    </tr>\n",
              "  </thead>\n",
              "  <tbody>\n",
              "    <tr>\n",
              "      <th>0</th>\n",
              "      <td>Beijing</td>\n",
              "      <td>PM2.5 - Principal</td>\n",
              "      <td>2020-01-01</td>\n",
              "      <td>2020</td>\n",
              "      <td>1</td>\n",
              "      <td>1</td>\n",
              "      <td>31.1</td>\n",
              "      <td>91.7</td>\n",
              "      <td>Moderate</td>\n",
              "      <td>31.7</td>\n",
              "      <td>UG/M3</td>\n",
              "      <td>Valid</td>\n",
              "    </tr>\n",
              "    <tr>\n",
              "      <th>1</th>\n",
              "      <td>Beijing</td>\n",
              "      <td>PM2.5 - Principal</td>\n",
              "      <td>2020-01-02</td>\n",
              "      <td>2020</td>\n",
              "      <td>1</td>\n",
              "      <td>2</td>\n",
              "      <td>50.6</td>\n",
              "      <td>135.2</td>\n",
              "      <td>Moderate</td>\n",
              "      <td>51.2</td>\n",
              "      <td>UG/M3</td>\n",
              "      <td>Valid</td>\n",
              "    </tr>\n",
              "    <tr>\n",
              "      <th>2</th>\n",
              "      <td>Beijing</td>\n",
              "      <td>PM2.5 - Principal</td>\n",
              "      <td>2020-01-03</td>\n",
              "      <td>2020</td>\n",
              "      <td>1</td>\n",
              "      <td>3</td>\n",
              "      <td>49.0</td>\n",
              "      <td>126.1</td>\n",
              "      <td>Moderate</td>\n",
              "      <td>49.0</td>\n",
              "      <td>UG/M3</td>\n",
              "      <td>Valid</td>\n",
              "    </tr>\n",
              "    <tr>\n",
              "      <th>3</th>\n",
              "      <td>Beijing</td>\n",
              "      <td>PM2.5 - Principal</td>\n",
              "      <td>2020-01-04</td>\n",
              "      <td>2020</td>\n",
              "      <td>1</td>\n",
              "      <td>4</td>\n",
              "      <td>36.8</td>\n",
              "      <td>100.7</td>\n",
              "      <td>Moderate</td>\n",
              "      <td>36.2</td>\n",
              "      <td>UG/M3</td>\n",
              "      <td>Valid</td>\n",
              "    </tr>\n",
              "    <tr>\n",
              "      <th>4</th>\n",
              "      <td>Beijing</td>\n",
              "      <td>PM2.5 - Principal</td>\n",
              "      <td>2020-01-05</td>\n",
              "      <td>2020</td>\n",
              "      <td>1</td>\n",
              "      <td>5</td>\n",
              "      <td>61.5</td>\n",
              "      <td>153.8</td>\n",
              "      <td>Moderate</td>\n",
              "      <td>62.0</td>\n",
              "      <td>UG/M3</td>\n",
              "      <td>Valid</td>\n",
              "    </tr>\n",
              "  </tbody>\n",
              "</table>\n",
              "</div>\n",
              "      <button class=\"colab-df-convert\" onclick=\"convertToInteractive('df-7ee38586-d641-4114-8add-5b3907bf28cb')\"\n",
              "              title=\"Convert this dataframe to an interactive table.\"\n",
              "              style=\"display:none;\">\n",
              "        \n",
              "  <svg xmlns=\"http://www.w3.org/2000/svg\" height=\"24px\"viewBox=\"0 0 24 24\"\n",
              "       width=\"24px\">\n",
              "    <path d=\"M0 0h24v24H0V0z\" fill=\"none\"/>\n",
              "    <path d=\"M18.56 5.44l.94 2.06.94-2.06 2.06-.94-2.06-.94-.94-2.06-.94 2.06-2.06.94zm-11 1L8.5 8.5l.94-2.06 2.06-.94-2.06-.94L8.5 2.5l-.94 2.06-2.06.94zm10 10l.94 2.06.94-2.06 2.06-.94-2.06-.94-.94-2.06-.94 2.06-2.06.94z\"/><path d=\"M17.41 7.96l-1.37-1.37c-.4-.4-.92-.59-1.43-.59-.52 0-1.04.2-1.43.59L10.3 9.45l-7.72 7.72c-.78.78-.78 2.05 0 2.83L4 21.41c.39.39.9.59 1.41.59.51 0 1.02-.2 1.41-.59l7.78-7.78 2.81-2.81c.8-.78.8-2.07 0-2.86zM5.41 20L4 18.59l7.72-7.72 1.47 1.35L5.41 20z\"/>\n",
              "  </svg>\n",
              "      </button>\n",
              "      \n",
              "  <style>\n",
              "    .colab-df-container {\n",
              "      display:flex;\n",
              "      flex-wrap:wrap;\n",
              "      gap: 12px;\n",
              "    }\n",
              "\n",
              "    .colab-df-convert {\n",
              "      background-color: #E8F0FE;\n",
              "      border: none;\n",
              "      border-radius: 50%;\n",
              "      cursor: pointer;\n",
              "      display: none;\n",
              "      fill: #1967D2;\n",
              "      height: 32px;\n",
              "      padding: 0 0 0 0;\n",
              "      width: 32px;\n",
              "    }\n",
              "\n",
              "    .colab-df-convert:hover {\n",
              "      background-color: #E2EBFA;\n",
              "      box-shadow: 0px 1px 2px rgba(60, 64, 67, 0.3), 0px 1px 3px 1px rgba(60, 64, 67, 0.15);\n",
              "      fill: #174EA6;\n",
              "    }\n",
              "\n",
              "    [theme=dark] .colab-df-convert {\n",
              "      background-color: #3B4455;\n",
              "      fill: #D2E3FC;\n",
              "    }\n",
              "\n",
              "    [theme=dark] .colab-df-convert:hover {\n",
              "      background-color: #434B5C;\n",
              "      box-shadow: 0px 1px 3px 1px rgba(0, 0, 0, 0.15);\n",
              "      filter: drop-shadow(0px 1px 2px rgba(0, 0, 0, 0.3));\n",
              "      fill: #FFFFFF;\n",
              "    }\n",
              "  </style>\n",
              "\n",
              "      <script>\n",
              "        const buttonEl =\n",
              "          document.querySelector('#df-7ee38586-d641-4114-8add-5b3907bf28cb button.colab-df-convert');\n",
              "        buttonEl.style.display =\n",
              "          google.colab.kernel.accessAllowed ? 'block' : 'none';\n",
              "\n",
              "        async function convertToInteractive(key) {\n",
              "          const element = document.querySelector('#df-7ee38586-d641-4114-8add-5b3907bf28cb');\n",
              "          const dataTable =\n",
              "            await google.colab.kernel.invokeFunction('convertToInteractive',\n",
              "                                                     [key], {});\n",
              "          if (!dataTable) return;\n",
              "\n",
              "          const docLinkHtml = 'Like what you see? Visit the ' +\n",
              "            '<a target=\"_blank\" href=https://colab.research.google.com/notebooks/data_table.ipynb>data table notebook</a>'\n",
              "            + ' to learn more about interactive tables.';\n",
              "          element.innerHTML = '';\n",
              "          dataTable['output_type'] = 'display_data';\n",
              "          await google.colab.output.renderOutput(dataTable, element);\n",
              "          const docLink = document.createElement('div');\n",
              "          docLink.innerHTML = docLinkHtml;\n",
              "          element.appendChild(docLink);\n",
              "        }\n",
              "      </script>\n",
              "    </div>\n",
              "  </div>\n",
              "  "
            ]
          },
          "metadata": {},
          "execution_count": 33
        }
      ]
    },
    {
      "cell_type": "code",
      "source": [
        "beijing.info()"
      ],
      "metadata": {
        "id": "jy1tSAgC_MFr",
        "colab": {
          "base_uri": "https://localhost:8080/"
        },
        "outputId": "debc7829-34bd-4b69-ae39-eb5173a5d385"
      },
      "execution_count": null,
      "outputs": [
        {
          "output_type": "stream",
          "name": "stdout",
          "text": [
            "<class 'pandas.core.frame.DataFrame'>\n",
            "RangeIndex: 729 entries, 0 to 728\n",
            "Data columns (total 12 columns):\n",
            " #   Column         Non-Null Count  Dtype  \n",
            "---  ------         --------------  -----  \n",
            " 0   City           729 non-null    object \n",
            " 1   Parameter      729 non-null    object \n",
            " 2   Date (LT)      729 non-null    object \n",
            " 3   Year           729 non-null    int64  \n",
            " 4   Month          729 non-null    int64  \n",
            " 5   Day            729 non-null    int64  \n",
            " 6   NowCast Conc.  729 non-null    float64\n",
            " 7   AQI            729 non-null    float64\n",
            " 8   AQI Category   729 non-null    object \n",
            " 9   Raw Conc.      729 non-null    float64\n",
            " 10  Conc. Unit     729 non-null    object \n",
            " 11  QC Name        729 non-null    object \n",
            "dtypes: float64(3), int64(3), object(6)\n",
            "memory usage: 68.5+ KB\n"
          ]
        }
      ]
    },
    {
      "cell_type": "code",
      "source": [
        "cleaned_shanghai = shanghai.copy()"
      ],
      "metadata": {
        "id": "3LgytA-pM6PU"
      },
      "execution_count": null,
      "outputs": []
    },
    {
      "cell_type": "code",
      "source": [
        "shanghai = round(shanghai.groupby(['Date (LT)']).mean().reset_index(),1)\n",
        "shanghai  = pd.DataFrame(shanghai)\n",
        "shanghai.insert(1,'City',cleaned_shanghai['City'], True)\n",
        "shanghai.insert(1,'Parameter',cleaned_shanghai['Parameter'], True)\n",
        "shanghai.insert(1,'Conc. Unit',cleaned_shanghai['Conc. Unit'], True)\n",
        "shanghai.insert(1,'QC Name',cleaned_shanghai['QC Name'], True)\n",
        "shanghai.insert(1,'AQI Category',cleaned_shanghai['AQI Category'], True)\n",
        "shanghai = shanghai[['City', 'Parameter', 'Date (LT)', 'Year', 'Month','Day','NowCast Conc.','AQI','AQI Category','Raw Conc.','Conc. Unit','QC Name']]\n",
        "shanghai.head()"
      ],
      "metadata": {
        "id": "t8_lR17LKO7y",
        "colab": {
          "base_uri": "https://localhost:8080/"
        },
        "outputId": "cec7b432-7cee-4b20-f81e-82f51e2916bb"
      },
      "execution_count": null,
      "outputs": [
        {
          "output_type": "execute_result",
          "data": {
            "text/plain": [
              "       City          Parameter   Date (LT)    Year  Month  Day  NowCast Conc.  \\\n",
              "0  Shanghai  PM2.5 - Principal  2020-01-01  2020.0    1.0  1.0           13.7   \n",
              "1  Shanghai  PM2.5 - Principal  2020-01-02  2020.0    1.0  2.0           21.2   \n",
              "2  Shanghai  PM2.5 - Principal  2020-01-03  2020.0    1.0  3.0           36.0   \n",
              "3  Shanghai  PM2.5 - Principal  2020-01-04  2020.0    1.0  4.0           57.4   \n",
              "4  Shanghai  PM2.5 - Principal  2020-01-05  2020.0    1.0  5.0           40.0   \n",
              "\n",
              "     AQI AQI Category  Raw Conc. Conc. Unit QC Name  \n",
              "0   53.3         Good       14.0      UG/M3   Valid  \n",
              "1   70.5     Moderate       22.2      UG/M3   Valid  \n",
              "2  103.7         Good       35.7      UG/M3   Valid  \n",
              "3  134.0         Good       60.2      UG/M3   Valid  \n",
              "4  107.1         Good       36.9      UG/M3   Valid  "
            ],
            "text/html": [
              "\n",
              "  <div id=\"df-5352d5b9-46bb-4c07-8fd8-6e4fa7b9dcf1\">\n",
              "    <div class=\"colab-df-container\">\n",
              "      <div>\n",
              "<style scoped>\n",
              "    .dataframe tbody tr th:only-of-type {\n",
              "        vertical-align: middle;\n",
              "    }\n",
              "\n",
              "    .dataframe tbody tr th {\n",
              "        vertical-align: top;\n",
              "    }\n",
              "\n",
              "    .dataframe thead th {\n",
              "        text-align: right;\n",
              "    }\n",
              "</style>\n",
              "<table border=\"1\" class=\"dataframe\">\n",
              "  <thead>\n",
              "    <tr style=\"text-align: right;\">\n",
              "      <th></th>\n",
              "      <th>City</th>\n",
              "      <th>Parameter</th>\n",
              "      <th>Date (LT)</th>\n",
              "      <th>Year</th>\n",
              "      <th>Month</th>\n",
              "      <th>Day</th>\n",
              "      <th>NowCast Conc.</th>\n",
              "      <th>AQI</th>\n",
              "      <th>AQI Category</th>\n",
              "      <th>Raw Conc.</th>\n",
              "      <th>Conc. Unit</th>\n",
              "      <th>QC Name</th>\n",
              "    </tr>\n",
              "  </thead>\n",
              "  <tbody>\n",
              "    <tr>\n",
              "      <th>0</th>\n",
              "      <td>Shanghai</td>\n",
              "      <td>PM2.5 - Principal</td>\n",
              "      <td>2020-01-01</td>\n",
              "      <td>2020.0</td>\n",
              "      <td>1.0</td>\n",
              "      <td>1.0</td>\n",
              "      <td>13.7</td>\n",
              "      <td>53.3</td>\n",
              "      <td>Good</td>\n",
              "      <td>14.0</td>\n",
              "      <td>UG/M3</td>\n",
              "      <td>Valid</td>\n",
              "    </tr>\n",
              "    <tr>\n",
              "      <th>1</th>\n",
              "      <td>Shanghai</td>\n",
              "      <td>PM2.5 - Principal</td>\n",
              "      <td>2020-01-02</td>\n",
              "      <td>2020.0</td>\n",
              "      <td>1.0</td>\n",
              "      <td>2.0</td>\n",
              "      <td>21.2</td>\n",
              "      <td>70.5</td>\n",
              "      <td>Moderate</td>\n",
              "      <td>22.2</td>\n",
              "      <td>UG/M3</td>\n",
              "      <td>Valid</td>\n",
              "    </tr>\n",
              "    <tr>\n",
              "      <th>2</th>\n",
              "      <td>Shanghai</td>\n",
              "      <td>PM2.5 - Principal</td>\n",
              "      <td>2020-01-03</td>\n",
              "      <td>2020.0</td>\n",
              "      <td>1.0</td>\n",
              "      <td>3.0</td>\n",
              "      <td>36.0</td>\n",
              "      <td>103.7</td>\n",
              "      <td>Good</td>\n",
              "      <td>35.7</td>\n",
              "      <td>UG/M3</td>\n",
              "      <td>Valid</td>\n",
              "    </tr>\n",
              "    <tr>\n",
              "      <th>3</th>\n",
              "      <td>Shanghai</td>\n",
              "      <td>PM2.5 - Principal</td>\n",
              "      <td>2020-01-04</td>\n",
              "      <td>2020.0</td>\n",
              "      <td>1.0</td>\n",
              "      <td>4.0</td>\n",
              "      <td>57.4</td>\n",
              "      <td>134.0</td>\n",
              "      <td>Good</td>\n",
              "      <td>60.2</td>\n",
              "      <td>UG/M3</td>\n",
              "      <td>Valid</td>\n",
              "    </tr>\n",
              "    <tr>\n",
              "      <th>4</th>\n",
              "      <td>Shanghai</td>\n",
              "      <td>PM2.5 - Principal</td>\n",
              "      <td>2020-01-05</td>\n",
              "      <td>2020.0</td>\n",
              "      <td>1.0</td>\n",
              "      <td>5.0</td>\n",
              "      <td>40.0</td>\n",
              "      <td>107.1</td>\n",
              "      <td>Good</td>\n",
              "      <td>36.9</td>\n",
              "      <td>UG/M3</td>\n",
              "      <td>Valid</td>\n",
              "    </tr>\n",
              "  </tbody>\n",
              "</table>\n",
              "</div>\n",
              "      <button class=\"colab-df-convert\" onclick=\"convertToInteractive('df-5352d5b9-46bb-4c07-8fd8-6e4fa7b9dcf1')\"\n",
              "              title=\"Convert this dataframe to an interactive table.\"\n",
              "              style=\"display:none;\">\n",
              "        \n",
              "  <svg xmlns=\"http://www.w3.org/2000/svg\" height=\"24px\"viewBox=\"0 0 24 24\"\n",
              "       width=\"24px\">\n",
              "    <path d=\"M0 0h24v24H0V0z\" fill=\"none\"/>\n",
              "    <path d=\"M18.56 5.44l.94 2.06.94-2.06 2.06-.94-2.06-.94-.94-2.06-.94 2.06-2.06.94zm-11 1L8.5 8.5l.94-2.06 2.06-.94-2.06-.94L8.5 2.5l-.94 2.06-2.06.94zm10 10l.94 2.06.94-2.06 2.06-.94-2.06-.94-.94-2.06-.94 2.06-2.06.94z\"/><path d=\"M17.41 7.96l-1.37-1.37c-.4-.4-.92-.59-1.43-.59-.52 0-1.04.2-1.43.59L10.3 9.45l-7.72 7.72c-.78.78-.78 2.05 0 2.83L4 21.41c.39.39.9.59 1.41.59.51 0 1.02-.2 1.41-.59l7.78-7.78 2.81-2.81c.8-.78.8-2.07 0-2.86zM5.41 20L4 18.59l7.72-7.72 1.47 1.35L5.41 20z\"/>\n",
              "  </svg>\n",
              "      </button>\n",
              "      \n",
              "  <style>\n",
              "    .colab-df-container {\n",
              "      display:flex;\n",
              "      flex-wrap:wrap;\n",
              "      gap: 12px;\n",
              "    }\n",
              "\n",
              "    .colab-df-convert {\n",
              "      background-color: #E8F0FE;\n",
              "      border: none;\n",
              "      border-radius: 50%;\n",
              "      cursor: pointer;\n",
              "      display: none;\n",
              "      fill: #1967D2;\n",
              "      height: 32px;\n",
              "      padding: 0 0 0 0;\n",
              "      width: 32px;\n",
              "    }\n",
              "\n",
              "    .colab-df-convert:hover {\n",
              "      background-color: #E2EBFA;\n",
              "      box-shadow: 0px 1px 2px rgba(60, 64, 67, 0.3), 0px 1px 3px 1px rgba(60, 64, 67, 0.15);\n",
              "      fill: #174EA6;\n",
              "    }\n",
              "\n",
              "    [theme=dark] .colab-df-convert {\n",
              "      background-color: #3B4455;\n",
              "      fill: #D2E3FC;\n",
              "    }\n",
              "\n",
              "    [theme=dark] .colab-df-convert:hover {\n",
              "      background-color: #434B5C;\n",
              "      box-shadow: 0px 1px 3px 1px rgba(0, 0, 0, 0.15);\n",
              "      filter: drop-shadow(0px 1px 2px rgba(0, 0, 0, 0.3));\n",
              "      fill: #FFFFFF;\n",
              "    }\n",
              "  </style>\n",
              "\n",
              "      <script>\n",
              "        const buttonEl =\n",
              "          document.querySelector('#df-5352d5b9-46bb-4c07-8fd8-6e4fa7b9dcf1 button.colab-df-convert');\n",
              "        buttonEl.style.display =\n",
              "          google.colab.kernel.accessAllowed ? 'block' : 'none';\n",
              "\n",
              "        async function convertToInteractive(key) {\n",
              "          const element = document.querySelector('#df-5352d5b9-46bb-4c07-8fd8-6e4fa7b9dcf1');\n",
              "          const dataTable =\n",
              "            await google.colab.kernel.invokeFunction('convertToInteractive',\n",
              "                                                     [key], {});\n",
              "          if (!dataTable) return;\n",
              "\n",
              "          const docLinkHtml = 'Like what you see? Visit the ' +\n",
              "            '<a target=\"_blank\" href=https://colab.research.google.com/notebooks/data_table.ipynb>data table notebook</a>'\n",
              "            + ' to learn more about interactive tables.';\n",
              "          element.innerHTML = '';\n",
              "          dataTable['output_type'] = 'display_data';\n",
              "          await google.colab.output.renderOutput(dataTable, element);\n",
              "          const docLink = document.createElement('div');\n",
              "          docLink.innerHTML = docLinkHtml;\n",
              "          element.appendChild(docLink);\n",
              "        }\n",
              "      </script>\n",
              "    </div>\n",
              "  </div>\n",
              "  "
            ]
          },
          "metadata": {},
          "execution_count": 36
        }
      ]
    },
    {
      "cell_type": "markdown",
      "source": [
        "Similar as before, the Year, Month and Day will be converted back to int64, the rest will remain float for data precision."
      ],
      "metadata": {
        "id": "r6YKPVUWNguJ"
      }
    },
    {
      "cell_type": "code",
      "source": [
        "shanghai['Year'] = shanghai['Year'].astype(np.int64)\n",
        "shanghai['Month'] = shanghai['Month'].astype(np.int64)\n",
        "shanghai['Day'] = shanghai['Day'].astype(np.int64)\n",
        "shanghai.head()"
      ],
      "metadata": {
        "id": "TNYtnbN7NQXK",
        "colab": {
          "base_uri": "https://localhost:8080/"
        },
        "outputId": "d966d39f-be3c-43b8-fedd-c6c0489c2cf7"
      },
      "execution_count": null,
      "outputs": [
        {
          "output_type": "execute_result",
          "data": {
            "text/plain": [
              "       City          Parameter   Date (LT)  Year  Month  Day  NowCast Conc.  \\\n",
              "0  Shanghai  PM2.5 - Principal  2020-01-01  2020      1    1           13.7   \n",
              "1  Shanghai  PM2.5 - Principal  2020-01-02  2020      1    2           21.2   \n",
              "2  Shanghai  PM2.5 - Principal  2020-01-03  2020      1    3           36.0   \n",
              "3  Shanghai  PM2.5 - Principal  2020-01-04  2020      1    4           57.4   \n",
              "4  Shanghai  PM2.5 - Principal  2020-01-05  2020      1    5           40.0   \n",
              "\n",
              "     AQI AQI Category  Raw Conc. Conc. Unit QC Name  \n",
              "0   53.3         Good       14.0      UG/M3   Valid  \n",
              "1   70.5     Moderate       22.2      UG/M3   Valid  \n",
              "2  103.7         Good       35.7      UG/M3   Valid  \n",
              "3  134.0         Good       60.2      UG/M3   Valid  \n",
              "4  107.1         Good       36.9      UG/M3   Valid  "
            ],
            "text/html": [
              "\n",
              "  <div id=\"df-404ac51b-af4d-4d11-9e0e-4bf24eb14a97\">\n",
              "    <div class=\"colab-df-container\">\n",
              "      <div>\n",
              "<style scoped>\n",
              "    .dataframe tbody tr th:only-of-type {\n",
              "        vertical-align: middle;\n",
              "    }\n",
              "\n",
              "    .dataframe tbody tr th {\n",
              "        vertical-align: top;\n",
              "    }\n",
              "\n",
              "    .dataframe thead th {\n",
              "        text-align: right;\n",
              "    }\n",
              "</style>\n",
              "<table border=\"1\" class=\"dataframe\">\n",
              "  <thead>\n",
              "    <tr style=\"text-align: right;\">\n",
              "      <th></th>\n",
              "      <th>City</th>\n",
              "      <th>Parameter</th>\n",
              "      <th>Date (LT)</th>\n",
              "      <th>Year</th>\n",
              "      <th>Month</th>\n",
              "      <th>Day</th>\n",
              "      <th>NowCast Conc.</th>\n",
              "      <th>AQI</th>\n",
              "      <th>AQI Category</th>\n",
              "      <th>Raw Conc.</th>\n",
              "      <th>Conc. Unit</th>\n",
              "      <th>QC Name</th>\n",
              "    </tr>\n",
              "  </thead>\n",
              "  <tbody>\n",
              "    <tr>\n",
              "      <th>0</th>\n",
              "      <td>Shanghai</td>\n",
              "      <td>PM2.5 - Principal</td>\n",
              "      <td>2020-01-01</td>\n",
              "      <td>2020</td>\n",
              "      <td>1</td>\n",
              "      <td>1</td>\n",
              "      <td>13.7</td>\n",
              "      <td>53.3</td>\n",
              "      <td>Good</td>\n",
              "      <td>14.0</td>\n",
              "      <td>UG/M3</td>\n",
              "      <td>Valid</td>\n",
              "    </tr>\n",
              "    <tr>\n",
              "      <th>1</th>\n",
              "      <td>Shanghai</td>\n",
              "      <td>PM2.5 - Principal</td>\n",
              "      <td>2020-01-02</td>\n",
              "      <td>2020</td>\n",
              "      <td>1</td>\n",
              "      <td>2</td>\n",
              "      <td>21.2</td>\n",
              "      <td>70.5</td>\n",
              "      <td>Moderate</td>\n",
              "      <td>22.2</td>\n",
              "      <td>UG/M3</td>\n",
              "      <td>Valid</td>\n",
              "    </tr>\n",
              "    <tr>\n",
              "      <th>2</th>\n",
              "      <td>Shanghai</td>\n",
              "      <td>PM2.5 - Principal</td>\n",
              "      <td>2020-01-03</td>\n",
              "      <td>2020</td>\n",
              "      <td>1</td>\n",
              "      <td>3</td>\n",
              "      <td>36.0</td>\n",
              "      <td>103.7</td>\n",
              "      <td>Good</td>\n",
              "      <td>35.7</td>\n",
              "      <td>UG/M3</td>\n",
              "      <td>Valid</td>\n",
              "    </tr>\n",
              "    <tr>\n",
              "      <th>3</th>\n",
              "      <td>Shanghai</td>\n",
              "      <td>PM2.5 - Principal</td>\n",
              "      <td>2020-01-04</td>\n",
              "      <td>2020</td>\n",
              "      <td>1</td>\n",
              "      <td>4</td>\n",
              "      <td>57.4</td>\n",
              "      <td>134.0</td>\n",
              "      <td>Good</td>\n",
              "      <td>60.2</td>\n",
              "      <td>UG/M3</td>\n",
              "      <td>Valid</td>\n",
              "    </tr>\n",
              "    <tr>\n",
              "      <th>4</th>\n",
              "      <td>Shanghai</td>\n",
              "      <td>PM2.5 - Principal</td>\n",
              "      <td>2020-01-05</td>\n",
              "      <td>2020</td>\n",
              "      <td>1</td>\n",
              "      <td>5</td>\n",
              "      <td>40.0</td>\n",
              "      <td>107.1</td>\n",
              "      <td>Good</td>\n",
              "      <td>36.9</td>\n",
              "      <td>UG/M3</td>\n",
              "      <td>Valid</td>\n",
              "    </tr>\n",
              "  </tbody>\n",
              "</table>\n",
              "</div>\n",
              "      <button class=\"colab-df-convert\" onclick=\"convertToInteractive('df-404ac51b-af4d-4d11-9e0e-4bf24eb14a97')\"\n",
              "              title=\"Convert this dataframe to an interactive table.\"\n",
              "              style=\"display:none;\">\n",
              "        \n",
              "  <svg xmlns=\"http://www.w3.org/2000/svg\" height=\"24px\"viewBox=\"0 0 24 24\"\n",
              "       width=\"24px\">\n",
              "    <path d=\"M0 0h24v24H0V0z\" fill=\"none\"/>\n",
              "    <path d=\"M18.56 5.44l.94 2.06.94-2.06 2.06-.94-2.06-.94-.94-2.06-.94 2.06-2.06.94zm-11 1L8.5 8.5l.94-2.06 2.06-.94-2.06-.94L8.5 2.5l-.94 2.06-2.06.94zm10 10l.94 2.06.94-2.06 2.06-.94-2.06-.94-.94-2.06-.94 2.06-2.06.94z\"/><path d=\"M17.41 7.96l-1.37-1.37c-.4-.4-.92-.59-1.43-.59-.52 0-1.04.2-1.43.59L10.3 9.45l-7.72 7.72c-.78.78-.78 2.05 0 2.83L4 21.41c.39.39.9.59 1.41.59.51 0 1.02-.2 1.41-.59l7.78-7.78 2.81-2.81c.8-.78.8-2.07 0-2.86zM5.41 20L4 18.59l7.72-7.72 1.47 1.35L5.41 20z\"/>\n",
              "  </svg>\n",
              "      </button>\n",
              "      \n",
              "  <style>\n",
              "    .colab-df-container {\n",
              "      display:flex;\n",
              "      flex-wrap:wrap;\n",
              "      gap: 12px;\n",
              "    }\n",
              "\n",
              "    .colab-df-convert {\n",
              "      background-color: #E8F0FE;\n",
              "      border: none;\n",
              "      border-radius: 50%;\n",
              "      cursor: pointer;\n",
              "      display: none;\n",
              "      fill: #1967D2;\n",
              "      height: 32px;\n",
              "      padding: 0 0 0 0;\n",
              "      width: 32px;\n",
              "    }\n",
              "\n",
              "    .colab-df-convert:hover {\n",
              "      background-color: #E2EBFA;\n",
              "      box-shadow: 0px 1px 2px rgba(60, 64, 67, 0.3), 0px 1px 3px 1px rgba(60, 64, 67, 0.15);\n",
              "      fill: #174EA6;\n",
              "    }\n",
              "\n",
              "    [theme=dark] .colab-df-convert {\n",
              "      background-color: #3B4455;\n",
              "      fill: #D2E3FC;\n",
              "    }\n",
              "\n",
              "    [theme=dark] .colab-df-convert:hover {\n",
              "      background-color: #434B5C;\n",
              "      box-shadow: 0px 1px 3px 1px rgba(0, 0, 0, 0.15);\n",
              "      filter: drop-shadow(0px 1px 2px rgba(0, 0, 0, 0.3));\n",
              "      fill: #FFFFFF;\n",
              "    }\n",
              "  </style>\n",
              "\n",
              "      <script>\n",
              "        const buttonEl =\n",
              "          document.querySelector('#df-404ac51b-af4d-4d11-9e0e-4bf24eb14a97 button.colab-df-convert');\n",
              "        buttonEl.style.display =\n",
              "          google.colab.kernel.accessAllowed ? 'block' : 'none';\n",
              "\n",
              "        async function convertToInteractive(key) {\n",
              "          const element = document.querySelector('#df-404ac51b-af4d-4d11-9e0e-4bf24eb14a97');\n",
              "          const dataTable =\n",
              "            await google.colab.kernel.invokeFunction('convertToInteractive',\n",
              "                                                     [key], {});\n",
              "          if (!dataTable) return;\n",
              "\n",
              "          const docLinkHtml = 'Like what you see? Visit the ' +\n",
              "            '<a target=\"_blank\" href=https://colab.research.google.com/notebooks/data_table.ipynb>data table notebook</a>'\n",
              "            + ' to learn more about interactive tables.';\n",
              "          element.innerHTML = '';\n",
              "          dataTable['output_type'] = 'display_data';\n",
              "          await google.colab.output.renderOutput(dataTable, element);\n",
              "          const docLink = document.createElement('div');\n",
              "          docLink.innerHTML = docLinkHtml;\n",
              "          element.appendChild(docLink);\n",
              "        }\n",
              "      </script>\n",
              "    </div>\n",
              "  </div>\n",
              "  "
            ]
          },
          "metadata": {},
          "execution_count": 37
        }
      ]
    },
    {
      "cell_type": "code",
      "source": [
        "shanghai.info()"
      ],
      "metadata": {
        "id": "I0hUGznUNiqP",
        "colab": {
          "base_uri": "https://localhost:8080/"
        },
        "outputId": "084f87a2-0a3a-4fb0-de0f-a720593e9753"
      },
      "execution_count": null,
      "outputs": [
        {
          "output_type": "stream",
          "name": "stdout",
          "text": [
            "<class 'pandas.core.frame.DataFrame'>\n",
            "RangeIndex: 721 entries, 0 to 720\n",
            "Data columns (total 12 columns):\n",
            " #   Column         Non-Null Count  Dtype  \n",
            "---  ------         --------------  -----  \n",
            " 0   City           721 non-null    object \n",
            " 1   Parameter      721 non-null    object \n",
            " 2   Date (LT)      721 non-null    object \n",
            " 3   Year           721 non-null    int64  \n",
            " 4   Month          721 non-null    int64  \n",
            " 5   Day            721 non-null    int64  \n",
            " 6   NowCast Conc.  721 non-null    float64\n",
            " 7   AQI            721 non-null    float64\n",
            " 8   AQI Category   721 non-null    object \n",
            " 9   Raw Conc.      721 non-null    float64\n",
            " 10  Conc. Unit     721 non-null    object \n",
            " 11  QC Name        721 non-null    object \n",
            "dtypes: float64(3), int64(3), object(6)\n",
            "memory usage: 67.7+ KB\n"
          ]
        }
      ]
    },
    {
      "cell_type": "markdown",
      "source": [
        "Let's redefine the AQI categories according to the AirNow ranges."
      ],
      "metadata": {
        "id": "1BSX5G1bNvrA"
      }
    },
    {
      "cell_type": "code",
      "source": [
        "def format_fn(x): \n",
        "    if x < 50:\n",
        "        return 'Good'\n",
        "    elif x <100:\n",
        "        return 'Moderate'\n",
        "    elif x< 150:\n",
        "        return 'Unhealthy for Sensitive Groups'\n",
        "    elif x<200:\n",
        "        return 'Unhealthy'\n",
        "    elif x<300:\n",
        "        return 'Very Unhealthy'\n",
        "    else:\n",
        "        return 'Hazardous'\n",
        "\n",
        "beijing['AQI Category']=beijing['AQI'].apply(format_fn)\n",
        "shanghai['AQI Category']=shanghai['AQI'].apply(format_fn)"
      ],
      "metadata": {
        "id": "n90IBUPpDPVq"
      },
      "execution_count": null,
      "outputs": []
    },
    {
      "cell_type": "code",
      "source": [
        "#FinalDataset\n",
        "\n",
        "beijing.head()"
      ],
      "metadata": {
        "id": "P9QzbuIdOG7j",
        "colab": {
          "base_uri": "https://localhost:8080/"
        },
        "outputId": "d7b1243a-6602-4f65-f890-17875f25bc53"
      },
      "execution_count": null,
      "outputs": [
        {
          "output_type": "execute_result",
          "data": {
            "text/plain": [
              "      City          Parameter   Date (LT)  Year  Month  Day  NowCast Conc.  \\\n",
              "0  Beijing  PM2.5 - Principal  2020-01-01  2020      1    1           31.1   \n",
              "1  Beijing  PM2.5 - Principal  2020-01-02  2020      1    2           50.6   \n",
              "2  Beijing  PM2.5 - Principal  2020-01-03  2020      1    3           49.0   \n",
              "3  Beijing  PM2.5 - Principal  2020-01-04  2020      1    4           36.8   \n",
              "4  Beijing  PM2.5 - Principal  2020-01-05  2020      1    5           61.5   \n",
              "\n",
              "     AQI                    AQI Category  Raw Conc. Conc. Unit QC Name  \n",
              "0   91.7                        Moderate       31.7      UG/M3   Valid  \n",
              "1  135.2  Unhealthy for Sensitive Groups       51.2      UG/M3   Valid  \n",
              "2  126.1  Unhealthy for Sensitive Groups       49.0      UG/M3   Valid  \n",
              "3  100.7  Unhealthy for Sensitive Groups       36.2      UG/M3   Valid  \n",
              "4  153.8                       Unhealthy       62.0      UG/M3   Valid  "
            ],
            "text/html": [
              "\n",
              "  <div id=\"df-10ef684b-b2d3-4425-9625-94740c5349c4\">\n",
              "    <div class=\"colab-df-container\">\n",
              "      <div>\n",
              "<style scoped>\n",
              "    .dataframe tbody tr th:only-of-type {\n",
              "        vertical-align: middle;\n",
              "    }\n",
              "\n",
              "    .dataframe tbody tr th {\n",
              "        vertical-align: top;\n",
              "    }\n",
              "\n",
              "    .dataframe thead th {\n",
              "        text-align: right;\n",
              "    }\n",
              "</style>\n",
              "<table border=\"1\" class=\"dataframe\">\n",
              "  <thead>\n",
              "    <tr style=\"text-align: right;\">\n",
              "      <th></th>\n",
              "      <th>City</th>\n",
              "      <th>Parameter</th>\n",
              "      <th>Date (LT)</th>\n",
              "      <th>Year</th>\n",
              "      <th>Month</th>\n",
              "      <th>Day</th>\n",
              "      <th>NowCast Conc.</th>\n",
              "      <th>AQI</th>\n",
              "      <th>AQI Category</th>\n",
              "      <th>Raw Conc.</th>\n",
              "      <th>Conc. Unit</th>\n",
              "      <th>QC Name</th>\n",
              "    </tr>\n",
              "  </thead>\n",
              "  <tbody>\n",
              "    <tr>\n",
              "      <th>0</th>\n",
              "      <td>Beijing</td>\n",
              "      <td>PM2.5 - Principal</td>\n",
              "      <td>2020-01-01</td>\n",
              "      <td>2020</td>\n",
              "      <td>1</td>\n",
              "      <td>1</td>\n",
              "      <td>31.1</td>\n",
              "      <td>91.7</td>\n",
              "      <td>Moderate</td>\n",
              "      <td>31.7</td>\n",
              "      <td>UG/M3</td>\n",
              "      <td>Valid</td>\n",
              "    </tr>\n",
              "    <tr>\n",
              "      <th>1</th>\n",
              "      <td>Beijing</td>\n",
              "      <td>PM2.5 - Principal</td>\n",
              "      <td>2020-01-02</td>\n",
              "      <td>2020</td>\n",
              "      <td>1</td>\n",
              "      <td>2</td>\n",
              "      <td>50.6</td>\n",
              "      <td>135.2</td>\n",
              "      <td>Unhealthy for Sensitive Groups</td>\n",
              "      <td>51.2</td>\n",
              "      <td>UG/M3</td>\n",
              "      <td>Valid</td>\n",
              "    </tr>\n",
              "    <tr>\n",
              "      <th>2</th>\n",
              "      <td>Beijing</td>\n",
              "      <td>PM2.5 - Principal</td>\n",
              "      <td>2020-01-03</td>\n",
              "      <td>2020</td>\n",
              "      <td>1</td>\n",
              "      <td>3</td>\n",
              "      <td>49.0</td>\n",
              "      <td>126.1</td>\n",
              "      <td>Unhealthy for Sensitive Groups</td>\n",
              "      <td>49.0</td>\n",
              "      <td>UG/M3</td>\n",
              "      <td>Valid</td>\n",
              "    </tr>\n",
              "    <tr>\n",
              "      <th>3</th>\n",
              "      <td>Beijing</td>\n",
              "      <td>PM2.5 - Principal</td>\n",
              "      <td>2020-01-04</td>\n",
              "      <td>2020</td>\n",
              "      <td>1</td>\n",
              "      <td>4</td>\n",
              "      <td>36.8</td>\n",
              "      <td>100.7</td>\n",
              "      <td>Unhealthy for Sensitive Groups</td>\n",
              "      <td>36.2</td>\n",
              "      <td>UG/M3</td>\n",
              "      <td>Valid</td>\n",
              "    </tr>\n",
              "    <tr>\n",
              "      <th>4</th>\n",
              "      <td>Beijing</td>\n",
              "      <td>PM2.5 - Principal</td>\n",
              "      <td>2020-01-05</td>\n",
              "      <td>2020</td>\n",
              "      <td>1</td>\n",
              "      <td>5</td>\n",
              "      <td>61.5</td>\n",
              "      <td>153.8</td>\n",
              "      <td>Unhealthy</td>\n",
              "      <td>62.0</td>\n",
              "      <td>UG/M3</td>\n",
              "      <td>Valid</td>\n",
              "    </tr>\n",
              "  </tbody>\n",
              "</table>\n",
              "</div>\n",
              "      <button class=\"colab-df-convert\" onclick=\"convertToInteractive('df-10ef684b-b2d3-4425-9625-94740c5349c4')\"\n",
              "              title=\"Convert this dataframe to an interactive table.\"\n",
              "              style=\"display:none;\">\n",
              "        \n",
              "  <svg xmlns=\"http://www.w3.org/2000/svg\" height=\"24px\"viewBox=\"0 0 24 24\"\n",
              "       width=\"24px\">\n",
              "    <path d=\"M0 0h24v24H0V0z\" fill=\"none\"/>\n",
              "    <path d=\"M18.56 5.44l.94 2.06.94-2.06 2.06-.94-2.06-.94-.94-2.06-.94 2.06-2.06.94zm-11 1L8.5 8.5l.94-2.06 2.06-.94-2.06-.94L8.5 2.5l-.94 2.06-2.06.94zm10 10l.94 2.06.94-2.06 2.06-.94-2.06-.94-.94-2.06-.94 2.06-2.06.94z\"/><path d=\"M17.41 7.96l-1.37-1.37c-.4-.4-.92-.59-1.43-.59-.52 0-1.04.2-1.43.59L10.3 9.45l-7.72 7.72c-.78.78-.78 2.05 0 2.83L4 21.41c.39.39.9.59 1.41.59.51 0 1.02-.2 1.41-.59l7.78-7.78 2.81-2.81c.8-.78.8-2.07 0-2.86zM5.41 20L4 18.59l7.72-7.72 1.47 1.35L5.41 20z\"/>\n",
              "  </svg>\n",
              "      </button>\n",
              "      \n",
              "  <style>\n",
              "    .colab-df-container {\n",
              "      display:flex;\n",
              "      flex-wrap:wrap;\n",
              "      gap: 12px;\n",
              "    }\n",
              "\n",
              "    .colab-df-convert {\n",
              "      background-color: #E8F0FE;\n",
              "      border: none;\n",
              "      border-radius: 50%;\n",
              "      cursor: pointer;\n",
              "      display: none;\n",
              "      fill: #1967D2;\n",
              "      height: 32px;\n",
              "      padding: 0 0 0 0;\n",
              "      width: 32px;\n",
              "    }\n",
              "\n",
              "    .colab-df-convert:hover {\n",
              "      background-color: #E2EBFA;\n",
              "      box-shadow: 0px 1px 2px rgba(60, 64, 67, 0.3), 0px 1px 3px 1px rgba(60, 64, 67, 0.15);\n",
              "      fill: #174EA6;\n",
              "    }\n",
              "\n",
              "    [theme=dark] .colab-df-convert {\n",
              "      background-color: #3B4455;\n",
              "      fill: #D2E3FC;\n",
              "    }\n",
              "\n",
              "    [theme=dark] .colab-df-convert:hover {\n",
              "      background-color: #434B5C;\n",
              "      box-shadow: 0px 1px 3px 1px rgba(0, 0, 0, 0.15);\n",
              "      filter: drop-shadow(0px 1px 2px rgba(0, 0, 0, 0.3));\n",
              "      fill: #FFFFFF;\n",
              "    }\n",
              "  </style>\n",
              "\n",
              "      <script>\n",
              "        const buttonEl =\n",
              "          document.querySelector('#df-10ef684b-b2d3-4425-9625-94740c5349c4 button.colab-df-convert');\n",
              "        buttonEl.style.display =\n",
              "          google.colab.kernel.accessAllowed ? 'block' : 'none';\n",
              "\n",
              "        async function convertToInteractive(key) {\n",
              "          const element = document.querySelector('#df-10ef684b-b2d3-4425-9625-94740c5349c4');\n",
              "          const dataTable =\n",
              "            await google.colab.kernel.invokeFunction('convertToInteractive',\n",
              "                                                     [key], {});\n",
              "          if (!dataTable) return;\n",
              "\n",
              "          const docLinkHtml = 'Like what you see? Visit the ' +\n",
              "            '<a target=\"_blank\" href=https://colab.research.google.com/notebooks/data_table.ipynb>data table notebook</a>'\n",
              "            + ' to learn more about interactive tables.';\n",
              "          element.innerHTML = '';\n",
              "          dataTable['output_type'] = 'display_data';\n",
              "          await google.colab.output.renderOutput(dataTable, element);\n",
              "          const docLink = document.createElement('div');\n",
              "          docLink.innerHTML = docLinkHtml;\n",
              "          element.appendChild(docLink);\n",
              "        }\n",
              "      </script>\n",
              "    </div>\n",
              "  </div>\n",
              "  "
            ]
          },
          "metadata": {},
          "execution_count": 40
        }
      ]
    },
    {
      "cell_type": "code",
      "source": [
        "shanghai.head()"
      ],
      "metadata": {
        "id": "7K-Mdnq0QA3Z",
        "colab": {
          "base_uri": "https://localhost:8080/"
        },
        "outputId": "bf1930f1-904a-4b4b-9899-1a6685925e2d"
      },
      "execution_count": null,
      "outputs": [
        {
          "output_type": "execute_result",
          "data": {
            "text/plain": [
              "       City          Parameter   Date (LT)  Year  Month  Day  NowCast Conc.  \\\n",
              "0  Shanghai  PM2.5 - Principal  2020-01-01  2020      1    1           13.7   \n",
              "1  Shanghai  PM2.5 - Principal  2020-01-02  2020      1    2           21.2   \n",
              "2  Shanghai  PM2.5 - Principal  2020-01-03  2020      1    3           36.0   \n",
              "3  Shanghai  PM2.5 - Principal  2020-01-04  2020      1    4           57.4   \n",
              "4  Shanghai  PM2.5 - Principal  2020-01-05  2020      1    5           40.0   \n",
              "\n",
              "     AQI                    AQI Category  Raw Conc. Conc. Unit QC Name  \n",
              "0   53.3                        Moderate       14.0      UG/M3   Valid  \n",
              "1   70.5                        Moderate       22.2      UG/M3   Valid  \n",
              "2  103.7  Unhealthy for Sensitive Groups       35.7      UG/M3   Valid  \n",
              "3  134.0  Unhealthy for Sensitive Groups       60.2      UG/M3   Valid  \n",
              "4  107.1  Unhealthy for Sensitive Groups       36.9      UG/M3   Valid  "
            ],
            "text/html": [
              "\n",
              "  <div id=\"df-e570518c-7661-43ef-934e-2db7c0a68d82\">\n",
              "    <div class=\"colab-df-container\">\n",
              "      <div>\n",
              "<style scoped>\n",
              "    .dataframe tbody tr th:only-of-type {\n",
              "        vertical-align: middle;\n",
              "    }\n",
              "\n",
              "    .dataframe tbody tr th {\n",
              "        vertical-align: top;\n",
              "    }\n",
              "\n",
              "    .dataframe thead th {\n",
              "        text-align: right;\n",
              "    }\n",
              "</style>\n",
              "<table border=\"1\" class=\"dataframe\">\n",
              "  <thead>\n",
              "    <tr style=\"text-align: right;\">\n",
              "      <th></th>\n",
              "      <th>City</th>\n",
              "      <th>Parameter</th>\n",
              "      <th>Date (LT)</th>\n",
              "      <th>Year</th>\n",
              "      <th>Month</th>\n",
              "      <th>Day</th>\n",
              "      <th>NowCast Conc.</th>\n",
              "      <th>AQI</th>\n",
              "      <th>AQI Category</th>\n",
              "      <th>Raw Conc.</th>\n",
              "      <th>Conc. Unit</th>\n",
              "      <th>QC Name</th>\n",
              "    </tr>\n",
              "  </thead>\n",
              "  <tbody>\n",
              "    <tr>\n",
              "      <th>0</th>\n",
              "      <td>Shanghai</td>\n",
              "      <td>PM2.5 - Principal</td>\n",
              "      <td>2020-01-01</td>\n",
              "      <td>2020</td>\n",
              "      <td>1</td>\n",
              "      <td>1</td>\n",
              "      <td>13.7</td>\n",
              "      <td>53.3</td>\n",
              "      <td>Moderate</td>\n",
              "      <td>14.0</td>\n",
              "      <td>UG/M3</td>\n",
              "      <td>Valid</td>\n",
              "    </tr>\n",
              "    <tr>\n",
              "      <th>1</th>\n",
              "      <td>Shanghai</td>\n",
              "      <td>PM2.5 - Principal</td>\n",
              "      <td>2020-01-02</td>\n",
              "      <td>2020</td>\n",
              "      <td>1</td>\n",
              "      <td>2</td>\n",
              "      <td>21.2</td>\n",
              "      <td>70.5</td>\n",
              "      <td>Moderate</td>\n",
              "      <td>22.2</td>\n",
              "      <td>UG/M3</td>\n",
              "      <td>Valid</td>\n",
              "    </tr>\n",
              "    <tr>\n",
              "      <th>2</th>\n",
              "      <td>Shanghai</td>\n",
              "      <td>PM2.5 - Principal</td>\n",
              "      <td>2020-01-03</td>\n",
              "      <td>2020</td>\n",
              "      <td>1</td>\n",
              "      <td>3</td>\n",
              "      <td>36.0</td>\n",
              "      <td>103.7</td>\n",
              "      <td>Unhealthy for Sensitive Groups</td>\n",
              "      <td>35.7</td>\n",
              "      <td>UG/M3</td>\n",
              "      <td>Valid</td>\n",
              "    </tr>\n",
              "    <tr>\n",
              "      <th>3</th>\n",
              "      <td>Shanghai</td>\n",
              "      <td>PM2.5 - Principal</td>\n",
              "      <td>2020-01-04</td>\n",
              "      <td>2020</td>\n",
              "      <td>1</td>\n",
              "      <td>4</td>\n",
              "      <td>57.4</td>\n",
              "      <td>134.0</td>\n",
              "      <td>Unhealthy for Sensitive Groups</td>\n",
              "      <td>60.2</td>\n",
              "      <td>UG/M3</td>\n",
              "      <td>Valid</td>\n",
              "    </tr>\n",
              "    <tr>\n",
              "      <th>4</th>\n",
              "      <td>Shanghai</td>\n",
              "      <td>PM2.5 - Principal</td>\n",
              "      <td>2020-01-05</td>\n",
              "      <td>2020</td>\n",
              "      <td>1</td>\n",
              "      <td>5</td>\n",
              "      <td>40.0</td>\n",
              "      <td>107.1</td>\n",
              "      <td>Unhealthy for Sensitive Groups</td>\n",
              "      <td>36.9</td>\n",
              "      <td>UG/M3</td>\n",
              "      <td>Valid</td>\n",
              "    </tr>\n",
              "  </tbody>\n",
              "</table>\n",
              "</div>\n",
              "      <button class=\"colab-df-convert\" onclick=\"convertToInteractive('df-e570518c-7661-43ef-934e-2db7c0a68d82')\"\n",
              "              title=\"Convert this dataframe to an interactive table.\"\n",
              "              style=\"display:none;\">\n",
              "        \n",
              "  <svg xmlns=\"http://www.w3.org/2000/svg\" height=\"24px\"viewBox=\"0 0 24 24\"\n",
              "       width=\"24px\">\n",
              "    <path d=\"M0 0h24v24H0V0z\" fill=\"none\"/>\n",
              "    <path d=\"M18.56 5.44l.94 2.06.94-2.06 2.06-.94-2.06-.94-.94-2.06-.94 2.06-2.06.94zm-11 1L8.5 8.5l.94-2.06 2.06-.94-2.06-.94L8.5 2.5l-.94 2.06-2.06.94zm10 10l.94 2.06.94-2.06 2.06-.94-2.06-.94-.94-2.06-.94 2.06-2.06.94z\"/><path d=\"M17.41 7.96l-1.37-1.37c-.4-.4-.92-.59-1.43-.59-.52 0-1.04.2-1.43.59L10.3 9.45l-7.72 7.72c-.78.78-.78 2.05 0 2.83L4 21.41c.39.39.9.59 1.41.59.51 0 1.02-.2 1.41-.59l7.78-7.78 2.81-2.81c.8-.78.8-2.07 0-2.86zM5.41 20L4 18.59l7.72-7.72 1.47 1.35L5.41 20z\"/>\n",
              "  </svg>\n",
              "      </button>\n",
              "      \n",
              "  <style>\n",
              "    .colab-df-container {\n",
              "      display:flex;\n",
              "      flex-wrap:wrap;\n",
              "      gap: 12px;\n",
              "    }\n",
              "\n",
              "    .colab-df-convert {\n",
              "      background-color: #E8F0FE;\n",
              "      border: none;\n",
              "      border-radius: 50%;\n",
              "      cursor: pointer;\n",
              "      display: none;\n",
              "      fill: #1967D2;\n",
              "      height: 32px;\n",
              "      padding: 0 0 0 0;\n",
              "      width: 32px;\n",
              "    }\n",
              "\n",
              "    .colab-df-convert:hover {\n",
              "      background-color: #E2EBFA;\n",
              "      box-shadow: 0px 1px 2px rgba(60, 64, 67, 0.3), 0px 1px 3px 1px rgba(60, 64, 67, 0.15);\n",
              "      fill: #174EA6;\n",
              "    }\n",
              "\n",
              "    [theme=dark] .colab-df-convert {\n",
              "      background-color: #3B4455;\n",
              "      fill: #D2E3FC;\n",
              "    }\n",
              "\n",
              "    [theme=dark] .colab-df-convert:hover {\n",
              "      background-color: #434B5C;\n",
              "      box-shadow: 0px 1px 3px 1px rgba(0, 0, 0, 0.15);\n",
              "      filter: drop-shadow(0px 1px 2px rgba(0, 0, 0, 0.3));\n",
              "      fill: #FFFFFF;\n",
              "    }\n",
              "  </style>\n",
              "\n",
              "      <script>\n",
              "        const buttonEl =\n",
              "          document.querySelector('#df-e570518c-7661-43ef-934e-2db7c0a68d82 button.colab-df-convert');\n",
              "        buttonEl.style.display =\n",
              "          google.colab.kernel.accessAllowed ? 'block' : 'none';\n",
              "\n",
              "        async function convertToInteractive(key) {\n",
              "          const element = document.querySelector('#df-e570518c-7661-43ef-934e-2db7c0a68d82');\n",
              "          const dataTable =\n",
              "            await google.colab.kernel.invokeFunction('convertToInteractive',\n",
              "                                                     [key], {});\n",
              "          if (!dataTable) return;\n",
              "\n",
              "          const docLinkHtml = 'Like what you see? Visit the ' +\n",
              "            '<a target=\"_blank\" href=https://colab.research.google.com/notebooks/data_table.ipynb>data table notebook</a>'\n",
              "            + ' to learn more about interactive tables.';\n",
              "          element.innerHTML = '';\n",
              "          dataTable['output_type'] = 'display_data';\n",
              "          await google.colab.output.renderOutput(dataTable, element);\n",
              "          const docLink = document.createElement('div');\n",
              "          docLink.innerHTML = docLinkHtml;\n",
              "          element.appendChild(docLink);\n",
              "        }\n",
              "      </script>\n",
              "    </div>\n",
              "  </div>\n",
              "  "
            ]
          },
          "metadata": {},
          "execution_count": 41
        }
      ]
    },
    {
      "cell_type": "code",
      "source": [
        "print(\"The beijing final dataset has\", beijing.shape[0],\"rows and\", beijing.shape[1], \"columns.\")\n",
        "print(\"The shanghai final dataset has\", shanghai.shape[0],\"rows and\", shanghai.shape[1], \"columns.\")"
      ],
      "metadata": {
        "id": "ySsxYBRdONOJ",
        "colab": {
          "base_uri": "https://localhost:8080/"
        },
        "outputId": "e6ff8da5-5136-4724-d6a5-4201abecd0eb"
      },
      "execution_count": null,
      "outputs": [
        {
          "output_type": "stream",
          "name": "stdout",
          "text": [
            "The beijing final dataset has 729 rows and 12 columns.\n",
            "The shanghai final dataset has 721 rows and 12 columns.\n"
          ]
        }
      ]
    },
    {
      "cell_type": "markdown",
      "source": [
        "Finally, let's merge the dataframes into one for the country of China, which will contain both cities of Beijing and Shanghai."
      ],
      "metadata": {
        "id": "u5bhGLTk6ZDV"
      }
    },
    {
      "cell_type": "code",
      "source": [
        "#ConsolidatedTable1\n",
        "consolidated2 = [beijing,shanghai]\n",
        "China = pd.concat(consolidated2)\n",
        "display(China)"
      ],
      "metadata": {
        "colab": {
          "base_uri": "https://localhost:8080/"
        },
        "id": "QDx374TLJLCV",
        "outputId": "c2366e37-fe34-4001-8e26-77ac7fd6d9ba"
      },
      "execution_count": null,
      "outputs": [
        {
          "output_type": "display_data",
          "data": {
            "text/plain": [
              "         City          Parameter   Date (LT)  Year  Month  Day  NowCast Conc.  \\\n",
              "0     Beijing  PM2.5 - Principal  2020-01-01  2020      1    1           31.1   \n",
              "1     Beijing  PM2.5 - Principal  2020-01-02  2020      1    2           50.6   \n",
              "2     Beijing  PM2.5 - Principal  2020-01-03  2020      1    3           49.0   \n",
              "3     Beijing  PM2.5 - Principal  2020-01-04  2020      1    4           36.8   \n",
              "4     Beijing  PM2.5 - Principal  2020-01-05  2020      1    5           61.5   \n",
              "..        ...                ...         ...   ...    ...  ...            ...   \n",
              "716  Shanghai  PM2.5 - Principal  2021-12-27  2021     12   27           32.2   \n",
              "717  Shanghai  PM2.5 - Principal  2021-12-28  2021     12   28           51.8   \n",
              "718  Shanghai  PM2.5 - Principal  2021-12-29  2021     12   29           61.6   \n",
              "719  Shanghai  PM2.5 - Principal  2021-12-30  2021     12   30           84.8   \n",
              "720  Shanghai  PM2.5 - Principal  2021-12-31  2021     12   31           63.6   \n",
              "\n",
              "       AQI                    AQI Category  Raw Conc. Conc. Unit QC Name  \n",
              "0     91.7                        Moderate       31.7      UG/M3   Valid  \n",
              "1    135.2  Unhealthy for Sensitive Groups       51.2      UG/M3   Valid  \n",
              "2    126.1  Unhealthy for Sensitive Groups       49.0      UG/M3   Valid  \n",
              "3    100.7  Unhealthy for Sensitive Groups       36.2      UG/M3   Valid  \n",
              "4    153.8                       Unhealthy       62.0      UG/M3   Valid  \n",
              "..     ...                             ...        ...        ...     ...  \n",
              "716   93.9                        Moderate       33.7      UG/M3   Valid  \n",
              "717  140.4  Unhealthy for Sensitive Groups       52.9      UG/M3   Valid  \n",
              "718  153.2                       Unhealthy       63.0      UG/M3   Valid  \n",
              "719  166.1                       Unhealthy       87.1      UG/M3   Valid  \n",
              "720  133.8  Unhealthy for Sensitive Groups       59.8      UG/M3   Valid  \n",
              "\n",
              "[1450 rows x 12 columns]"
            ],
            "text/html": [
              "\n",
              "  <div id=\"df-c7b71337-6874-4948-b944-c95126fc894b\">\n",
              "    <div class=\"colab-df-container\">\n",
              "      <div>\n",
              "<style scoped>\n",
              "    .dataframe tbody tr th:only-of-type {\n",
              "        vertical-align: middle;\n",
              "    }\n",
              "\n",
              "    .dataframe tbody tr th {\n",
              "        vertical-align: top;\n",
              "    }\n",
              "\n",
              "    .dataframe thead th {\n",
              "        text-align: right;\n",
              "    }\n",
              "</style>\n",
              "<table border=\"1\" class=\"dataframe\">\n",
              "  <thead>\n",
              "    <tr style=\"text-align: right;\">\n",
              "      <th></th>\n",
              "      <th>City</th>\n",
              "      <th>Parameter</th>\n",
              "      <th>Date (LT)</th>\n",
              "      <th>Year</th>\n",
              "      <th>Month</th>\n",
              "      <th>Day</th>\n",
              "      <th>NowCast Conc.</th>\n",
              "      <th>AQI</th>\n",
              "      <th>AQI Category</th>\n",
              "      <th>Raw Conc.</th>\n",
              "      <th>Conc. Unit</th>\n",
              "      <th>QC Name</th>\n",
              "    </tr>\n",
              "  </thead>\n",
              "  <tbody>\n",
              "    <tr>\n",
              "      <th>0</th>\n",
              "      <td>Beijing</td>\n",
              "      <td>PM2.5 - Principal</td>\n",
              "      <td>2020-01-01</td>\n",
              "      <td>2020</td>\n",
              "      <td>1</td>\n",
              "      <td>1</td>\n",
              "      <td>31.1</td>\n",
              "      <td>91.7</td>\n",
              "      <td>Moderate</td>\n",
              "      <td>31.7</td>\n",
              "      <td>UG/M3</td>\n",
              "      <td>Valid</td>\n",
              "    </tr>\n",
              "    <tr>\n",
              "      <th>1</th>\n",
              "      <td>Beijing</td>\n",
              "      <td>PM2.5 - Principal</td>\n",
              "      <td>2020-01-02</td>\n",
              "      <td>2020</td>\n",
              "      <td>1</td>\n",
              "      <td>2</td>\n",
              "      <td>50.6</td>\n",
              "      <td>135.2</td>\n",
              "      <td>Unhealthy for Sensitive Groups</td>\n",
              "      <td>51.2</td>\n",
              "      <td>UG/M3</td>\n",
              "      <td>Valid</td>\n",
              "    </tr>\n",
              "    <tr>\n",
              "      <th>2</th>\n",
              "      <td>Beijing</td>\n",
              "      <td>PM2.5 - Principal</td>\n",
              "      <td>2020-01-03</td>\n",
              "      <td>2020</td>\n",
              "      <td>1</td>\n",
              "      <td>3</td>\n",
              "      <td>49.0</td>\n",
              "      <td>126.1</td>\n",
              "      <td>Unhealthy for Sensitive Groups</td>\n",
              "      <td>49.0</td>\n",
              "      <td>UG/M3</td>\n",
              "      <td>Valid</td>\n",
              "    </tr>\n",
              "    <tr>\n",
              "      <th>3</th>\n",
              "      <td>Beijing</td>\n",
              "      <td>PM2.5 - Principal</td>\n",
              "      <td>2020-01-04</td>\n",
              "      <td>2020</td>\n",
              "      <td>1</td>\n",
              "      <td>4</td>\n",
              "      <td>36.8</td>\n",
              "      <td>100.7</td>\n",
              "      <td>Unhealthy for Sensitive Groups</td>\n",
              "      <td>36.2</td>\n",
              "      <td>UG/M3</td>\n",
              "      <td>Valid</td>\n",
              "    </tr>\n",
              "    <tr>\n",
              "      <th>4</th>\n",
              "      <td>Beijing</td>\n",
              "      <td>PM2.5 - Principal</td>\n",
              "      <td>2020-01-05</td>\n",
              "      <td>2020</td>\n",
              "      <td>1</td>\n",
              "      <td>5</td>\n",
              "      <td>61.5</td>\n",
              "      <td>153.8</td>\n",
              "      <td>Unhealthy</td>\n",
              "      <td>62.0</td>\n",
              "      <td>UG/M3</td>\n",
              "      <td>Valid</td>\n",
              "    </tr>\n",
              "    <tr>\n",
              "      <th>...</th>\n",
              "      <td>...</td>\n",
              "      <td>...</td>\n",
              "      <td>...</td>\n",
              "      <td>...</td>\n",
              "      <td>...</td>\n",
              "      <td>...</td>\n",
              "      <td>...</td>\n",
              "      <td>...</td>\n",
              "      <td>...</td>\n",
              "      <td>...</td>\n",
              "      <td>...</td>\n",
              "      <td>...</td>\n",
              "    </tr>\n",
              "    <tr>\n",
              "      <th>716</th>\n",
              "      <td>Shanghai</td>\n",
              "      <td>PM2.5 - Principal</td>\n",
              "      <td>2021-12-27</td>\n",
              "      <td>2021</td>\n",
              "      <td>12</td>\n",
              "      <td>27</td>\n",
              "      <td>32.2</td>\n",
              "      <td>93.9</td>\n",
              "      <td>Moderate</td>\n",
              "      <td>33.7</td>\n",
              "      <td>UG/M3</td>\n",
              "      <td>Valid</td>\n",
              "    </tr>\n",
              "    <tr>\n",
              "      <th>717</th>\n",
              "      <td>Shanghai</td>\n",
              "      <td>PM2.5 - Principal</td>\n",
              "      <td>2021-12-28</td>\n",
              "      <td>2021</td>\n",
              "      <td>12</td>\n",
              "      <td>28</td>\n",
              "      <td>51.8</td>\n",
              "      <td>140.4</td>\n",
              "      <td>Unhealthy for Sensitive Groups</td>\n",
              "      <td>52.9</td>\n",
              "      <td>UG/M3</td>\n",
              "      <td>Valid</td>\n",
              "    </tr>\n",
              "    <tr>\n",
              "      <th>718</th>\n",
              "      <td>Shanghai</td>\n",
              "      <td>PM2.5 - Principal</td>\n",
              "      <td>2021-12-29</td>\n",
              "      <td>2021</td>\n",
              "      <td>12</td>\n",
              "      <td>29</td>\n",
              "      <td>61.6</td>\n",
              "      <td>153.2</td>\n",
              "      <td>Unhealthy</td>\n",
              "      <td>63.0</td>\n",
              "      <td>UG/M3</td>\n",
              "      <td>Valid</td>\n",
              "    </tr>\n",
              "    <tr>\n",
              "      <th>719</th>\n",
              "      <td>Shanghai</td>\n",
              "      <td>PM2.5 - Principal</td>\n",
              "      <td>2021-12-30</td>\n",
              "      <td>2021</td>\n",
              "      <td>12</td>\n",
              "      <td>30</td>\n",
              "      <td>84.8</td>\n",
              "      <td>166.1</td>\n",
              "      <td>Unhealthy</td>\n",
              "      <td>87.1</td>\n",
              "      <td>UG/M3</td>\n",
              "      <td>Valid</td>\n",
              "    </tr>\n",
              "    <tr>\n",
              "      <th>720</th>\n",
              "      <td>Shanghai</td>\n",
              "      <td>PM2.5 - Principal</td>\n",
              "      <td>2021-12-31</td>\n",
              "      <td>2021</td>\n",
              "      <td>12</td>\n",
              "      <td>31</td>\n",
              "      <td>63.6</td>\n",
              "      <td>133.8</td>\n",
              "      <td>Unhealthy for Sensitive Groups</td>\n",
              "      <td>59.8</td>\n",
              "      <td>UG/M3</td>\n",
              "      <td>Valid</td>\n",
              "    </tr>\n",
              "  </tbody>\n",
              "</table>\n",
              "<p>1450 rows × 12 columns</p>\n",
              "</div>\n",
              "      <button class=\"colab-df-convert\" onclick=\"convertToInteractive('df-c7b71337-6874-4948-b944-c95126fc894b')\"\n",
              "              title=\"Convert this dataframe to an interactive table.\"\n",
              "              style=\"display:none;\">\n",
              "        \n",
              "  <svg xmlns=\"http://www.w3.org/2000/svg\" height=\"24px\"viewBox=\"0 0 24 24\"\n",
              "       width=\"24px\">\n",
              "    <path d=\"M0 0h24v24H0V0z\" fill=\"none\"/>\n",
              "    <path d=\"M18.56 5.44l.94 2.06.94-2.06 2.06-.94-2.06-.94-.94-2.06-.94 2.06-2.06.94zm-11 1L8.5 8.5l.94-2.06 2.06-.94-2.06-.94L8.5 2.5l-.94 2.06-2.06.94zm10 10l.94 2.06.94-2.06 2.06-.94-2.06-.94-.94-2.06-.94 2.06-2.06.94z\"/><path d=\"M17.41 7.96l-1.37-1.37c-.4-.4-.92-.59-1.43-.59-.52 0-1.04.2-1.43.59L10.3 9.45l-7.72 7.72c-.78.78-.78 2.05 0 2.83L4 21.41c.39.39.9.59 1.41.59.51 0 1.02-.2 1.41-.59l7.78-7.78 2.81-2.81c.8-.78.8-2.07 0-2.86zM5.41 20L4 18.59l7.72-7.72 1.47 1.35L5.41 20z\"/>\n",
              "  </svg>\n",
              "      </button>\n",
              "      \n",
              "  <style>\n",
              "    .colab-df-container {\n",
              "      display:flex;\n",
              "      flex-wrap:wrap;\n",
              "      gap: 12px;\n",
              "    }\n",
              "\n",
              "    .colab-df-convert {\n",
              "      background-color: #E8F0FE;\n",
              "      border: none;\n",
              "      border-radius: 50%;\n",
              "      cursor: pointer;\n",
              "      display: none;\n",
              "      fill: #1967D2;\n",
              "      height: 32px;\n",
              "      padding: 0 0 0 0;\n",
              "      width: 32px;\n",
              "    }\n",
              "\n",
              "    .colab-df-convert:hover {\n",
              "      background-color: #E2EBFA;\n",
              "      box-shadow: 0px 1px 2px rgba(60, 64, 67, 0.3), 0px 1px 3px 1px rgba(60, 64, 67, 0.15);\n",
              "      fill: #174EA6;\n",
              "    }\n",
              "\n",
              "    [theme=dark] .colab-df-convert {\n",
              "      background-color: #3B4455;\n",
              "      fill: #D2E3FC;\n",
              "    }\n",
              "\n",
              "    [theme=dark] .colab-df-convert:hover {\n",
              "      background-color: #434B5C;\n",
              "      box-shadow: 0px 1px 3px 1px rgba(0, 0, 0, 0.15);\n",
              "      filter: drop-shadow(0px 1px 2px rgba(0, 0, 0, 0.3));\n",
              "      fill: #FFFFFF;\n",
              "    }\n",
              "  </style>\n",
              "\n",
              "      <script>\n",
              "        const buttonEl =\n",
              "          document.querySelector('#df-c7b71337-6874-4948-b944-c95126fc894b button.colab-df-convert');\n",
              "        buttonEl.style.display =\n",
              "          google.colab.kernel.accessAllowed ? 'block' : 'none';\n",
              "\n",
              "        async function convertToInteractive(key) {\n",
              "          const element = document.querySelector('#df-c7b71337-6874-4948-b944-c95126fc894b');\n",
              "          const dataTable =\n",
              "            await google.colab.kernel.invokeFunction('convertToInteractive',\n",
              "                                                     [key], {});\n",
              "          if (!dataTable) return;\n",
              "\n",
              "          const docLinkHtml = 'Like what you see? Visit the ' +\n",
              "            '<a target=\"_blank\" href=https://colab.research.google.com/notebooks/data_table.ipynb>data table notebook</a>'\n",
              "            + ' to learn more about interactive tables.';\n",
              "          element.innerHTML = '';\n",
              "          dataTable['output_type'] = 'display_data';\n",
              "          await google.colab.output.renderOutput(dataTable, element);\n",
              "          const docLink = document.createElement('div');\n",
              "          docLink.innerHTML = docLinkHtml;\n",
              "          element.appendChild(docLink);\n",
              "        }\n",
              "      </script>\n",
              "    </div>\n",
              "  </div>\n",
              "  "
            ]
          },
          "metadata": {}
        }
      ]
    },
    {
      "cell_type": "markdown",
      "source": [
        "Let's check the data types again."
      ],
      "metadata": {
        "id": "swNdErMxLINk"
      }
    },
    {
      "cell_type": "code",
      "source": [
        "China.dtypes"
      ],
      "metadata": {
        "colab": {
          "base_uri": "https://localhost:8080/"
        },
        "id": "XDffnNv5LMVx",
        "outputId": "303343af-414a-45cb-d713-4a72a6e597d9"
      },
      "execution_count": null,
      "outputs": [
        {
          "output_type": "execute_result",
          "data": {
            "text/plain": [
              "City              object\n",
              "Parameter         object\n",
              "Date (LT)         object\n",
              "Year               int64\n",
              "Month              int64\n",
              "Day                int64\n",
              "NowCast Conc.    float64\n",
              "AQI              float64\n",
              "AQI Category      object\n",
              "Raw Conc.        float64\n",
              "Conc. Unit        object\n",
              "QC Name           object\n",
              "dtype: object"
            ]
          },
          "metadata": {},
          "execution_count": 44
        }
      ]
    },
    {
      "cell_type": "markdown",
      "source": [
        "Let's convert the Date to datetime again."
      ],
      "metadata": {
        "id": "miS33sJWLVIg"
      }
    },
    {
      "cell_type": "code",
      "source": [
        "China['Date (LT)'] = pd.to_datetime(China['Date (LT)'])"
      ],
      "metadata": {
        "id": "XEjkm8ccLZB7"
      },
      "execution_count": null,
      "outputs": []
    },
    {
      "cell_type": "markdown",
      "source": [
        "Let's check if our final dataframe has any missing values."
      ],
      "metadata": {
        "id": "NlZ59hJn6izj"
      }
    },
    {
      "cell_type": "code",
      "source": [
        "China.isna().sum()"
      ],
      "metadata": {
        "colab": {
          "base_uri": "https://localhost:8080/"
        },
        "id": "-DBVJQVxqgOs",
        "outputId": "a0545d10-c747-4f44-c302-958a0e504cf9"
      },
      "execution_count": null,
      "outputs": [
        {
          "output_type": "execute_result",
          "data": {
            "text/plain": [
              "City             0\n",
              "Parameter        0\n",
              "Date (LT)        0\n",
              "Year             0\n",
              "Month            0\n",
              "Day              0\n",
              "NowCast Conc.    0\n",
              "AQI              0\n",
              "AQI Category     0\n",
              "Raw Conc.        0\n",
              "Conc. Unit       0\n",
              "QC Name          0\n",
              "dtype: int64"
            ]
          },
          "metadata": {},
          "execution_count": 46
        }
      ]
    },
    {
      "cell_type": "markdown",
      "source": [
        "Now that we have cleaned and transformed our AQI data, let's continue with the screening of the COVID-19 datasets."
      ],
      "metadata": {
        "id": "fzNBfFXMLcB0"
      }
    },
    {
      "cell_type": "markdown",
      "source": [
        "# COVID-19 Data Sets Screening"
      ],
      "metadata": {
        "id": "oDaBC22469xN"
      }
    },
    {
      "cell_type": "markdown",
      "source": [
        "Before continuing with the cleaning and transformations, let's import the COVID-19 data sets."
      ],
      "metadata": {
        "id": "PhRaKWl-6uZe"
      }
    },
    {
      "cell_type": "code",
      "source": [
        "# Importing confirmed cases data\n",
        "cases_df = pd.read_csv('/content/drive/MyDrive/Team Project/time_series_covid19_confirmed_global.csv')\n",
        "cases_df.head()"
      ],
      "metadata": {
        "id": "YFVnW_yFiv7p",
        "colab": {
          "base_uri": "https://localhost:8080/"
        },
        "outputId": "6e1322d0-936b-4633-9a83-9c7fd8494eda"
      },
      "execution_count": null,
      "outputs": [
        {
          "output_type": "execute_result",
          "data": {
            "text/plain": [
              "  Province/State Country/Region       Lat       Long  1/22/20  1/23/20  \\\n",
              "0            NaN    Afghanistan  33.93911  67.709953        0        0   \n",
              "1            NaN        Albania  41.15330  20.168300        0        0   \n",
              "2            NaN        Algeria  28.03390   1.659600        0        0   \n",
              "3            NaN        Andorra  42.50630   1.521800        0        0   \n",
              "4            NaN         Angola -11.20270  17.873900        0        0   \n",
              "\n",
              "   1/24/20  1/25/20  1/26/20  1/27/20  ...  6/8/21  6/9/21  6/10/21  6/11/21  \\\n",
              "0        0        0        0        0  ...   82326   84050    85892    87716   \n",
              "1        0        0        0        0  ...  132397  132415   132426   132437   \n",
              "2        0        0        0        0  ...  131647  132034   132355   132727   \n",
              "3        0        0        0        0  ...   13781   13791    13805    13813   \n",
              "4        0        0        0        0  ...   36004   36115    36325    36455   \n",
              "\n",
              "   6/12/21  6/13/21  6/14/21  6/15/21  6/16/21  6/17/21  \n",
              "0    88740    89861    91458    93272    93288    96531  \n",
              "1   132449   132459   132461   132469   132476   132481  \n",
              "2   133070   133388   133742   134115   134458   134840  \n",
              "3    13813    13813    13826    13828    13836    13839  \n",
              "4    36600    36705    36790    36921    37094    37289  \n",
              "\n",
              "[5 rows x 517 columns]"
            ],
            "text/html": [
              "\n",
              "  <div id=\"df-06a0ba66-e5fa-474d-83f6-1ff7c2954c48\">\n",
              "    <div class=\"colab-df-container\">\n",
              "      <div>\n",
              "<style scoped>\n",
              "    .dataframe tbody tr th:only-of-type {\n",
              "        vertical-align: middle;\n",
              "    }\n",
              "\n",
              "    .dataframe tbody tr th {\n",
              "        vertical-align: top;\n",
              "    }\n",
              "\n",
              "    .dataframe thead th {\n",
              "        text-align: right;\n",
              "    }\n",
              "</style>\n",
              "<table border=\"1\" class=\"dataframe\">\n",
              "  <thead>\n",
              "    <tr style=\"text-align: right;\">\n",
              "      <th></th>\n",
              "      <th>Province/State</th>\n",
              "      <th>Country/Region</th>\n",
              "      <th>Lat</th>\n",
              "      <th>Long</th>\n",
              "      <th>1/22/20</th>\n",
              "      <th>1/23/20</th>\n",
              "      <th>1/24/20</th>\n",
              "      <th>1/25/20</th>\n",
              "      <th>1/26/20</th>\n",
              "      <th>1/27/20</th>\n",
              "      <th>...</th>\n",
              "      <th>6/8/21</th>\n",
              "      <th>6/9/21</th>\n",
              "      <th>6/10/21</th>\n",
              "      <th>6/11/21</th>\n",
              "      <th>6/12/21</th>\n",
              "      <th>6/13/21</th>\n",
              "      <th>6/14/21</th>\n",
              "      <th>6/15/21</th>\n",
              "      <th>6/16/21</th>\n",
              "      <th>6/17/21</th>\n",
              "    </tr>\n",
              "  </thead>\n",
              "  <tbody>\n",
              "    <tr>\n",
              "      <th>0</th>\n",
              "      <td>NaN</td>\n",
              "      <td>Afghanistan</td>\n",
              "      <td>33.93911</td>\n",
              "      <td>67.709953</td>\n",
              "      <td>0</td>\n",
              "      <td>0</td>\n",
              "      <td>0</td>\n",
              "      <td>0</td>\n",
              "      <td>0</td>\n",
              "      <td>0</td>\n",
              "      <td>...</td>\n",
              "      <td>82326</td>\n",
              "      <td>84050</td>\n",
              "      <td>85892</td>\n",
              "      <td>87716</td>\n",
              "      <td>88740</td>\n",
              "      <td>89861</td>\n",
              "      <td>91458</td>\n",
              "      <td>93272</td>\n",
              "      <td>93288</td>\n",
              "      <td>96531</td>\n",
              "    </tr>\n",
              "    <tr>\n",
              "      <th>1</th>\n",
              "      <td>NaN</td>\n",
              "      <td>Albania</td>\n",
              "      <td>41.15330</td>\n",
              "      <td>20.168300</td>\n",
              "      <td>0</td>\n",
              "      <td>0</td>\n",
              "      <td>0</td>\n",
              "      <td>0</td>\n",
              "      <td>0</td>\n",
              "      <td>0</td>\n",
              "      <td>...</td>\n",
              "      <td>132397</td>\n",
              "      <td>132415</td>\n",
              "      <td>132426</td>\n",
              "      <td>132437</td>\n",
              "      <td>132449</td>\n",
              "      <td>132459</td>\n",
              "      <td>132461</td>\n",
              "      <td>132469</td>\n",
              "      <td>132476</td>\n",
              "      <td>132481</td>\n",
              "    </tr>\n",
              "    <tr>\n",
              "      <th>2</th>\n",
              "      <td>NaN</td>\n",
              "      <td>Algeria</td>\n",
              "      <td>28.03390</td>\n",
              "      <td>1.659600</td>\n",
              "      <td>0</td>\n",
              "      <td>0</td>\n",
              "      <td>0</td>\n",
              "      <td>0</td>\n",
              "      <td>0</td>\n",
              "      <td>0</td>\n",
              "      <td>...</td>\n",
              "      <td>131647</td>\n",
              "      <td>132034</td>\n",
              "      <td>132355</td>\n",
              "      <td>132727</td>\n",
              "      <td>133070</td>\n",
              "      <td>133388</td>\n",
              "      <td>133742</td>\n",
              "      <td>134115</td>\n",
              "      <td>134458</td>\n",
              "      <td>134840</td>\n",
              "    </tr>\n",
              "    <tr>\n",
              "      <th>3</th>\n",
              "      <td>NaN</td>\n",
              "      <td>Andorra</td>\n",
              "      <td>42.50630</td>\n",
              "      <td>1.521800</td>\n",
              "      <td>0</td>\n",
              "      <td>0</td>\n",
              "      <td>0</td>\n",
              "      <td>0</td>\n",
              "      <td>0</td>\n",
              "      <td>0</td>\n",
              "      <td>...</td>\n",
              "      <td>13781</td>\n",
              "      <td>13791</td>\n",
              "      <td>13805</td>\n",
              "      <td>13813</td>\n",
              "      <td>13813</td>\n",
              "      <td>13813</td>\n",
              "      <td>13826</td>\n",
              "      <td>13828</td>\n",
              "      <td>13836</td>\n",
              "      <td>13839</td>\n",
              "    </tr>\n",
              "    <tr>\n",
              "      <th>4</th>\n",
              "      <td>NaN</td>\n",
              "      <td>Angola</td>\n",
              "      <td>-11.20270</td>\n",
              "      <td>17.873900</td>\n",
              "      <td>0</td>\n",
              "      <td>0</td>\n",
              "      <td>0</td>\n",
              "      <td>0</td>\n",
              "      <td>0</td>\n",
              "      <td>0</td>\n",
              "      <td>...</td>\n",
              "      <td>36004</td>\n",
              "      <td>36115</td>\n",
              "      <td>36325</td>\n",
              "      <td>36455</td>\n",
              "      <td>36600</td>\n",
              "      <td>36705</td>\n",
              "      <td>36790</td>\n",
              "      <td>36921</td>\n",
              "      <td>37094</td>\n",
              "      <td>37289</td>\n",
              "    </tr>\n",
              "  </tbody>\n",
              "</table>\n",
              "<p>5 rows × 517 columns</p>\n",
              "</div>\n",
              "      <button class=\"colab-df-convert\" onclick=\"convertToInteractive('df-06a0ba66-e5fa-474d-83f6-1ff7c2954c48')\"\n",
              "              title=\"Convert this dataframe to an interactive table.\"\n",
              "              style=\"display:none;\">\n",
              "        \n",
              "  <svg xmlns=\"http://www.w3.org/2000/svg\" height=\"24px\"viewBox=\"0 0 24 24\"\n",
              "       width=\"24px\">\n",
              "    <path d=\"M0 0h24v24H0V0z\" fill=\"none\"/>\n",
              "    <path d=\"M18.56 5.44l.94 2.06.94-2.06 2.06-.94-2.06-.94-.94-2.06-.94 2.06-2.06.94zm-11 1L8.5 8.5l.94-2.06 2.06-.94-2.06-.94L8.5 2.5l-.94 2.06-2.06.94zm10 10l.94 2.06.94-2.06 2.06-.94-2.06-.94-.94-2.06-.94 2.06-2.06.94z\"/><path d=\"M17.41 7.96l-1.37-1.37c-.4-.4-.92-.59-1.43-.59-.52 0-1.04.2-1.43.59L10.3 9.45l-7.72 7.72c-.78.78-.78 2.05 0 2.83L4 21.41c.39.39.9.59 1.41.59.51 0 1.02-.2 1.41-.59l7.78-7.78 2.81-2.81c.8-.78.8-2.07 0-2.86zM5.41 20L4 18.59l7.72-7.72 1.47 1.35L5.41 20z\"/>\n",
              "  </svg>\n",
              "      </button>\n",
              "      \n",
              "  <style>\n",
              "    .colab-df-container {\n",
              "      display:flex;\n",
              "      flex-wrap:wrap;\n",
              "      gap: 12px;\n",
              "    }\n",
              "\n",
              "    .colab-df-convert {\n",
              "      background-color: #E8F0FE;\n",
              "      border: none;\n",
              "      border-radius: 50%;\n",
              "      cursor: pointer;\n",
              "      display: none;\n",
              "      fill: #1967D2;\n",
              "      height: 32px;\n",
              "      padding: 0 0 0 0;\n",
              "      width: 32px;\n",
              "    }\n",
              "\n",
              "    .colab-df-convert:hover {\n",
              "      background-color: #E2EBFA;\n",
              "      box-shadow: 0px 1px 2px rgba(60, 64, 67, 0.3), 0px 1px 3px 1px rgba(60, 64, 67, 0.15);\n",
              "      fill: #174EA6;\n",
              "    }\n",
              "\n",
              "    [theme=dark] .colab-df-convert {\n",
              "      background-color: #3B4455;\n",
              "      fill: #D2E3FC;\n",
              "    }\n",
              "\n",
              "    [theme=dark] .colab-df-convert:hover {\n",
              "      background-color: #434B5C;\n",
              "      box-shadow: 0px 1px 3px 1px rgba(0, 0, 0, 0.15);\n",
              "      filter: drop-shadow(0px 1px 2px rgba(0, 0, 0, 0.3));\n",
              "      fill: #FFFFFF;\n",
              "    }\n",
              "  </style>\n",
              "\n",
              "      <script>\n",
              "        const buttonEl =\n",
              "          document.querySelector('#df-06a0ba66-e5fa-474d-83f6-1ff7c2954c48 button.colab-df-convert');\n",
              "        buttonEl.style.display =\n",
              "          google.colab.kernel.accessAllowed ? 'block' : 'none';\n",
              "\n",
              "        async function convertToInteractive(key) {\n",
              "          const element = document.querySelector('#df-06a0ba66-e5fa-474d-83f6-1ff7c2954c48');\n",
              "          const dataTable =\n",
              "            await google.colab.kernel.invokeFunction('convertToInteractive',\n",
              "                                                     [key], {});\n",
              "          if (!dataTable) return;\n",
              "\n",
              "          const docLinkHtml = 'Like what you see? Visit the ' +\n",
              "            '<a target=\"_blank\" href=https://colab.research.google.com/notebooks/data_table.ipynb>data table notebook</a>'\n",
              "            + ' to learn more about interactive tables.';\n",
              "          element.innerHTML = '';\n",
              "          dataTable['output_type'] = 'display_data';\n",
              "          await google.colab.output.renderOutput(dataTable, element);\n",
              "          const docLink = document.createElement('div');\n",
              "          docLink.innerHTML = docLinkHtml;\n",
              "          element.appendChild(docLink);\n",
              "        }\n",
              "      </script>\n",
              "    </div>\n",
              "  </div>\n",
              "  "
            ]
          },
          "metadata": {},
          "execution_count": 47
        }
      ]
    },
    {
      "cell_type": "code",
      "source": [
        "print(\"The covid-19 confirmed cases data set has\", cases_df.shape[0],\"rows and\", cases_df.shape[1], \"columns.\")"
      ],
      "metadata": {
        "colab": {
          "base_uri": "https://localhost:8080/"
        },
        "id": "4xRHfhY3-vBx",
        "outputId": "5306ffb5-56f7-4d45-c2aa-47c0a0374842"
      },
      "execution_count": null,
      "outputs": [
        {
          "output_type": "stream",
          "name": "stdout",
          "text": [
            "The covid-19 confirmed cases data set has 278 rows and 517 columns.\n"
          ]
        }
      ]
    },
    {
      "cell_type": "markdown",
      "source": [
        "Let's check if our dataframe has any missing values."
      ],
      "metadata": {
        "id": "rKUriHJs67rK"
      }
    },
    {
      "cell_type": "code",
      "source": [
        "# Checking the missing values for each variable\n",
        "cases_df.isna().sum()"
      ],
      "metadata": {
        "colab": {
          "base_uri": "https://localhost:8080/"
        },
        "id": "3K3vDiXsAkOi",
        "outputId": "1bcc0bff-e20a-4c15-8775-0549903dcf10"
      },
      "execution_count": null,
      "outputs": [
        {
          "output_type": "execute_result",
          "data": {
            "text/plain": [
              "Province/State    191\n",
              "Country/Region      0\n",
              "Lat                 2\n",
              "Long                2\n",
              "1/22/20             0\n",
              "                 ... \n",
              "6/13/21             0\n",
              "6/14/21             0\n",
              "6/15/21             0\n",
              "6/16/21             0\n",
              "6/17/21             0\n",
              "Length: 517, dtype: int64"
            ]
          },
          "metadata": {},
          "execution_count": 49
        }
      ]
    },
    {
      "cell_type": "markdown",
      "source": [
        "We can see that the column Province/State has 191 missing values, Lat and Long both are missing 2 values. However, we'll only use the cities Beijing and Shanghai. Let's see if we have them in the data."
      ],
      "metadata": {
        "id": "-bkE4n2xArUa"
      }
    },
    {
      "cell_type": "code",
      "source": [
        "cases_df['Province/State'].isin(['Beijing','Shanghai']).sum()"
      ],
      "metadata": {
        "colab": {
          "base_uri": "https://localhost:8080/"
        },
        "id": "eshiLFgcEw6F",
        "outputId": "dfff40e6-3c84-4868-d3e4-272249829390"
      },
      "execution_count": null,
      "outputs": [
        {
          "output_type": "execute_result",
          "data": {
            "text/plain": [
              "2"
            ]
          },
          "metadata": {},
          "execution_count": 50
        }
      ]
    },
    {
      "cell_type": "code",
      "source": [
        "cases_df[(cases_df['Province/State']=='Beijing') | (cases_df['Province/State']=='Shanghai')]"
      ],
      "metadata": {
        "colab": {
          "base_uri": "https://localhost:8080/"
        },
        "id": "CzHuFcu8FM4C",
        "outputId": "800bddfe-8d28-483b-b25e-087fa6f3a623"
      },
      "execution_count": null,
      "outputs": [
        {
          "output_type": "execute_result",
          "data": {
            "text/plain": [
              "   Province/State Country/Region      Lat      Long  1/22/20  1/23/20  \\\n",
              "59        Beijing          China  40.1824  116.4142       14       22   \n",
              "83       Shanghai          China  31.2020  121.4491        9       16   \n",
              "\n",
              "    1/24/20  1/25/20  1/26/20  1/27/20  ...  6/8/21  6/9/21  6/10/21  6/11/21  \\\n",
              "59       36       41       68       80  ...    1067    1067     1068     1069   \n",
              "83       20       33       40       53  ...    2132    2139     2141     2149   \n",
              "\n",
              "    6/12/21  6/13/21  6/14/21  6/15/21  6/16/21  6/17/21  \n",
              "59     1069     1070     1071     1071     1072     1072  \n",
              "83     2155     2160     2165     2168     2170     2173  \n",
              "\n",
              "[2 rows x 517 columns]"
            ],
            "text/html": [
              "\n",
              "  <div id=\"df-605eed75-f5a8-47a4-b886-c86467a7086b\">\n",
              "    <div class=\"colab-df-container\">\n",
              "      <div>\n",
              "<style scoped>\n",
              "    .dataframe tbody tr th:only-of-type {\n",
              "        vertical-align: middle;\n",
              "    }\n",
              "\n",
              "    .dataframe tbody tr th {\n",
              "        vertical-align: top;\n",
              "    }\n",
              "\n",
              "    .dataframe thead th {\n",
              "        text-align: right;\n",
              "    }\n",
              "</style>\n",
              "<table border=\"1\" class=\"dataframe\">\n",
              "  <thead>\n",
              "    <tr style=\"text-align: right;\">\n",
              "      <th></th>\n",
              "      <th>Province/State</th>\n",
              "      <th>Country/Region</th>\n",
              "      <th>Lat</th>\n",
              "      <th>Long</th>\n",
              "      <th>1/22/20</th>\n",
              "      <th>1/23/20</th>\n",
              "      <th>1/24/20</th>\n",
              "      <th>1/25/20</th>\n",
              "      <th>1/26/20</th>\n",
              "      <th>1/27/20</th>\n",
              "      <th>...</th>\n",
              "      <th>6/8/21</th>\n",
              "      <th>6/9/21</th>\n",
              "      <th>6/10/21</th>\n",
              "      <th>6/11/21</th>\n",
              "      <th>6/12/21</th>\n",
              "      <th>6/13/21</th>\n",
              "      <th>6/14/21</th>\n",
              "      <th>6/15/21</th>\n",
              "      <th>6/16/21</th>\n",
              "      <th>6/17/21</th>\n",
              "    </tr>\n",
              "  </thead>\n",
              "  <tbody>\n",
              "    <tr>\n",
              "      <th>59</th>\n",
              "      <td>Beijing</td>\n",
              "      <td>China</td>\n",
              "      <td>40.1824</td>\n",
              "      <td>116.4142</td>\n",
              "      <td>14</td>\n",
              "      <td>22</td>\n",
              "      <td>36</td>\n",
              "      <td>41</td>\n",
              "      <td>68</td>\n",
              "      <td>80</td>\n",
              "      <td>...</td>\n",
              "      <td>1067</td>\n",
              "      <td>1067</td>\n",
              "      <td>1068</td>\n",
              "      <td>1069</td>\n",
              "      <td>1069</td>\n",
              "      <td>1070</td>\n",
              "      <td>1071</td>\n",
              "      <td>1071</td>\n",
              "      <td>1072</td>\n",
              "      <td>1072</td>\n",
              "    </tr>\n",
              "    <tr>\n",
              "      <th>83</th>\n",
              "      <td>Shanghai</td>\n",
              "      <td>China</td>\n",
              "      <td>31.2020</td>\n",
              "      <td>121.4491</td>\n",
              "      <td>9</td>\n",
              "      <td>16</td>\n",
              "      <td>20</td>\n",
              "      <td>33</td>\n",
              "      <td>40</td>\n",
              "      <td>53</td>\n",
              "      <td>...</td>\n",
              "      <td>2132</td>\n",
              "      <td>2139</td>\n",
              "      <td>2141</td>\n",
              "      <td>2149</td>\n",
              "      <td>2155</td>\n",
              "      <td>2160</td>\n",
              "      <td>2165</td>\n",
              "      <td>2168</td>\n",
              "      <td>2170</td>\n",
              "      <td>2173</td>\n",
              "    </tr>\n",
              "  </tbody>\n",
              "</table>\n",
              "<p>2 rows × 517 columns</p>\n",
              "</div>\n",
              "      <button class=\"colab-df-convert\" onclick=\"convertToInteractive('df-605eed75-f5a8-47a4-b886-c86467a7086b')\"\n",
              "              title=\"Convert this dataframe to an interactive table.\"\n",
              "              style=\"display:none;\">\n",
              "        \n",
              "  <svg xmlns=\"http://www.w3.org/2000/svg\" height=\"24px\"viewBox=\"0 0 24 24\"\n",
              "       width=\"24px\">\n",
              "    <path d=\"M0 0h24v24H0V0z\" fill=\"none\"/>\n",
              "    <path d=\"M18.56 5.44l.94 2.06.94-2.06 2.06-.94-2.06-.94-.94-2.06-.94 2.06-2.06.94zm-11 1L8.5 8.5l.94-2.06 2.06-.94-2.06-.94L8.5 2.5l-.94 2.06-2.06.94zm10 10l.94 2.06.94-2.06 2.06-.94-2.06-.94-.94-2.06-.94 2.06-2.06.94z\"/><path d=\"M17.41 7.96l-1.37-1.37c-.4-.4-.92-.59-1.43-.59-.52 0-1.04.2-1.43.59L10.3 9.45l-7.72 7.72c-.78.78-.78 2.05 0 2.83L4 21.41c.39.39.9.59 1.41.59.51 0 1.02-.2 1.41-.59l7.78-7.78 2.81-2.81c.8-.78.8-2.07 0-2.86zM5.41 20L4 18.59l7.72-7.72 1.47 1.35L5.41 20z\"/>\n",
              "  </svg>\n",
              "      </button>\n",
              "      \n",
              "  <style>\n",
              "    .colab-df-container {\n",
              "      display:flex;\n",
              "      flex-wrap:wrap;\n",
              "      gap: 12px;\n",
              "    }\n",
              "\n",
              "    .colab-df-convert {\n",
              "      background-color: #E8F0FE;\n",
              "      border: none;\n",
              "      border-radius: 50%;\n",
              "      cursor: pointer;\n",
              "      display: none;\n",
              "      fill: #1967D2;\n",
              "      height: 32px;\n",
              "      padding: 0 0 0 0;\n",
              "      width: 32px;\n",
              "    }\n",
              "\n",
              "    .colab-df-convert:hover {\n",
              "      background-color: #E2EBFA;\n",
              "      box-shadow: 0px 1px 2px rgba(60, 64, 67, 0.3), 0px 1px 3px 1px rgba(60, 64, 67, 0.15);\n",
              "      fill: #174EA6;\n",
              "    }\n",
              "\n",
              "    [theme=dark] .colab-df-convert {\n",
              "      background-color: #3B4455;\n",
              "      fill: #D2E3FC;\n",
              "    }\n",
              "\n",
              "    [theme=dark] .colab-df-convert:hover {\n",
              "      background-color: #434B5C;\n",
              "      box-shadow: 0px 1px 3px 1px rgba(0, 0, 0, 0.15);\n",
              "      filter: drop-shadow(0px 1px 2px rgba(0, 0, 0, 0.3));\n",
              "      fill: #FFFFFF;\n",
              "    }\n",
              "  </style>\n",
              "\n",
              "      <script>\n",
              "        const buttonEl =\n",
              "          document.querySelector('#df-605eed75-f5a8-47a4-b886-c86467a7086b button.colab-df-convert');\n",
              "        buttonEl.style.display =\n",
              "          google.colab.kernel.accessAllowed ? 'block' : 'none';\n",
              "\n",
              "        async function convertToInteractive(key) {\n",
              "          const element = document.querySelector('#df-605eed75-f5a8-47a4-b886-c86467a7086b');\n",
              "          const dataTable =\n",
              "            await google.colab.kernel.invokeFunction('convertToInteractive',\n",
              "                                                     [key], {});\n",
              "          if (!dataTable) return;\n",
              "\n",
              "          const docLinkHtml = 'Like what you see? Visit the ' +\n",
              "            '<a target=\"_blank\" href=https://colab.research.google.com/notebooks/data_table.ipynb>data table notebook</a>'\n",
              "            + ' to learn more about interactive tables.';\n",
              "          element.innerHTML = '';\n",
              "          dataTable['output_type'] = 'display_data';\n",
              "          await google.colab.output.renderOutput(dataTable, element);\n",
              "          const docLink = document.createElement('div');\n",
              "          docLink.innerHTML = docLinkHtml;\n",
              "          element.appendChild(docLink);\n",
              "        }\n",
              "      </script>\n",
              "    </div>\n",
              "  </div>\n",
              "  "
            ]
          },
          "metadata": {},
          "execution_count": 51
        }
      ]
    },
    {
      "cell_type": "markdown",
      "source": [
        "As can be seen above, both of the cities are included in the data set. \n",
        "\n",
        "Additionally, the COVID-19 confirmed cases data is in a wide format. To be able to join this data with the AQI data, we need to filter the rows of the cities we're interested in -Beijing and Shanghai- and turn this data to long format."
      ],
      "metadata": {
        "id": "CM9TYeW33o7X"
      }
    },
    {
      "cell_type": "code",
      "source": [
        "# Filtering cities Beijing and Shanghai\n",
        "cases_df = cases_df[(cases_df['Province/State']=='Beijing')|\n",
        "         (cases_df['Province/State']=='Shanghai')]\n",
        "         "
      ],
      "metadata": {
        "id": "NP7VqKhT3OgM"
      },
      "execution_count": null,
      "outputs": []
    },
    {
      "cell_type": "code",
      "source": [
        "print(\"cases_df now has\", cases_df.shape[0], \"rows and\", cases_df.shape[1], \"columns.\")"
      ],
      "metadata": {
        "colab": {
          "base_uri": "https://localhost:8080/"
        },
        "id": "up1RwnP3BH_z",
        "outputId": "47d734f1-d0a9-4a81-feb0-d2383afaa207"
      },
      "execution_count": null,
      "outputs": [
        {
          "output_type": "stream",
          "name": "stdout",
          "text": [
            "cases_df now has 2 rows and 517 columns.\n"
          ]
        }
      ]
    },
    {
      "cell_type": "code",
      "source": [
        "# Reshaping cases_df to long format\n",
        "cases_df = pd.melt(cases_df, id_vars=['Province/State','Country/Region','Lat','Long'], var_name='Date', value_name='confirmed_cases')\n",
        "cases_df.head()"
      ],
      "metadata": {
        "colab": {
          "base_uri": "https://localhost:8080/"
        },
        "id": "PuqbVDM_BTP6",
        "outputId": "7e0e32a7-11bb-4a13-8812-4b97dca1e2f6"
      },
      "execution_count": null,
      "outputs": [
        {
          "output_type": "execute_result",
          "data": {
            "text/plain": [
              "  Province/State Country/Region      Lat      Long     Date  confirmed_cases\n",
              "0        Beijing          China  40.1824  116.4142  1/22/20               14\n",
              "1       Shanghai          China  31.2020  121.4491  1/22/20                9\n",
              "2        Beijing          China  40.1824  116.4142  1/23/20               22\n",
              "3       Shanghai          China  31.2020  121.4491  1/23/20               16\n",
              "4        Beijing          China  40.1824  116.4142  1/24/20               36"
            ],
            "text/html": [
              "\n",
              "  <div id=\"df-1a126a08-4e0f-4dda-9f45-f8d4d78aa012\">\n",
              "    <div class=\"colab-df-container\">\n",
              "      <div>\n",
              "<style scoped>\n",
              "    .dataframe tbody tr th:only-of-type {\n",
              "        vertical-align: middle;\n",
              "    }\n",
              "\n",
              "    .dataframe tbody tr th {\n",
              "        vertical-align: top;\n",
              "    }\n",
              "\n",
              "    .dataframe thead th {\n",
              "        text-align: right;\n",
              "    }\n",
              "</style>\n",
              "<table border=\"1\" class=\"dataframe\">\n",
              "  <thead>\n",
              "    <tr style=\"text-align: right;\">\n",
              "      <th></th>\n",
              "      <th>Province/State</th>\n",
              "      <th>Country/Region</th>\n",
              "      <th>Lat</th>\n",
              "      <th>Long</th>\n",
              "      <th>Date</th>\n",
              "      <th>confirmed_cases</th>\n",
              "    </tr>\n",
              "  </thead>\n",
              "  <tbody>\n",
              "    <tr>\n",
              "      <th>0</th>\n",
              "      <td>Beijing</td>\n",
              "      <td>China</td>\n",
              "      <td>40.1824</td>\n",
              "      <td>116.4142</td>\n",
              "      <td>1/22/20</td>\n",
              "      <td>14</td>\n",
              "    </tr>\n",
              "    <tr>\n",
              "      <th>1</th>\n",
              "      <td>Shanghai</td>\n",
              "      <td>China</td>\n",
              "      <td>31.2020</td>\n",
              "      <td>121.4491</td>\n",
              "      <td>1/22/20</td>\n",
              "      <td>9</td>\n",
              "    </tr>\n",
              "    <tr>\n",
              "      <th>2</th>\n",
              "      <td>Beijing</td>\n",
              "      <td>China</td>\n",
              "      <td>40.1824</td>\n",
              "      <td>116.4142</td>\n",
              "      <td>1/23/20</td>\n",
              "      <td>22</td>\n",
              "    </tr>\n",
              "    <tr>\n",
              "      <th>3</th>\n",
              "      <td>Shanghai</td>\n",
              "      <td>China</td>\n",
              "      <td>31.2020</td>\n",
              "      <td>121.4491</td>\n",
              "      <td>1/23/20</td>\n",
              "      <td>16</td>\n",
              "    </tr>\n",
              "    <tr>\n",
              "      <th>4</th>\n",
              "      <td>Beijing</td>\n",
              "      <td>China</td>\n",
              "      <td>40.1824</td>\n",
              "      <td>116.4142</td>\n",
              "      <td>1/24/20</td>\n",
              "      <td>36</td>\n",
              "    </tr>\n",
              "  </tbody>\n",
              "</table>\n",
              "</div>\n",
              "      <button class=\"colab-df-convert\" onclick=\"convertToInteractive('df-1a126a08-4e0f-4dda-9f45-f8d4d78aa012')\"\n",
              "              title=\"Convert this dataframe to an interactive table.\"\n",
              "              style=\"display:none;\">\n",
              "        \n",
              "  <svg xmlns=\"http://www.w3.org/2000/svg\" height=\"24px\"viewBox=\"0 0 24 24\"\n",
              "       width=\"24px\">\n",
              "    <path d=\"M0 0h24v24H0V0z\" fill=\"none\"/>\n",
              "    <path d=\"M18.56 5.44l.94 2.06.94-2.06 2.06-.94-2.06-.94-.94-2.06-.94 2.06-2.06.94zm-11 1L8.5 8.5l.94-2.06 2.06-.94-2.06-.94L8.5 2.5l-.94 2.06-2.06.94zm10 10l.94 2.06.94-2.06 2.06-.94-2.06-.94-.94-2.06-.94 2.06-2.06.94z\"/><path d=\"M17.41 7.96l-1.37-1.37c-.4-.4-.92-.59-1.43-.59-.52 0-1.04.2-1.43.59L10.3 9.45l-7.72 7.72c-.78.78-.78 2.05 0 2.83L4 21.41c.39.39.9.59 1.41.59.51 0 1.02-.2 1.41-.59l7.78-7.78 2.81-2.81c.8-.78.8-2.07 0-2.86zM5.41 20L4 18.59l7.72-7.72 1.47 1.35L5.41 20z\"/>\n",
              "  </svg>\n",
              "      </button>\n",
              "      \n",
              "  <style>\n",
              "    .colab-df-container {\n",
              "      display:flex;\n",
              "      flex-wrap:wrap;\n",
              "      gap: 12px;\n",
              "    }\n",
              "\n",
              "    .colab-df-convert {\n",
              "      background-color: #E8F0FE;\n",
              "      border: none;\n",
              "      border-radius: 50%;\n",
              "      cursor: pointer;\n",
              "      display: none;\n",
              "      fill: #1967D2;\n",
              "      height: 32px;\n",
              "      padding: 0 0 0 0;\n",
              "      width: 32px;\n",
              "    }\n",
              "\n",
              "    .colab-df-convert:hover {\n",
              "      background-color: #E2EBFA;\n",
              "      box-shadow: 0px 1px 2px rgba(60, 64, 67, 0.3), 0px 1px 3px 1px rgba(60, 64, 67, 0.15);\n",
              "      fill: #174EA6;\n",
              "    }\n",
              "\n",
              "    [theme=dark] .colab-df-convert {\n",
              "      background-color: #3B4455;\n",
              "      fill: #D2E3FC;\n",
              "    }\n",
              "\n",
              "    [theme=dark] .colab-df-convert:hover {\n",
              "      background-color: #434B5C;\n",
              "      box-shadow: 0px 1px 3px 1px rgba(0, 0, 0, 0.15);\n",
              "      filter: drop-shadow(0px 1px 2px rgba(0, 0, 0, 0.3));\n",
              "      fill: #FFFFFF;\n",
              "    }\n",
              "  </style>\n",
              "\n",
              "      <script>\n",
              "        const buttonEl =\n",
              "          document.querySelector('#df-1a126a08-4e0f-4dda-9f45-f8d4d78aa012 button.colab-df-convert');\n",
              "        buttonEl.style.display =\n",
              "          google.colab.kernel.accessAllowed ? 'block' : 'none';\n",
              "\n",
              "        async function convertToInteractive(key) {\n",
              "          const element = document.querySelector('#df-1a126a08-4e0f-4dda-9f45-f8d4d78aa012');\n",
              "          const dataTable =\n",
              "            await google.colab.kernel.invokeFunction('convertToInteractive',\n",
              "                                                     [key], {});\n",
              "          if (!dataTable) return;\n",
              "\n",
              "          const docLinkHtml = 'Like what you see? Visit the ' +\n",
              "            '<a target=\"_blank\" href=https://colab.research.google.com/notebooks/data_table.ipynb>data table notebook</a>'\n",
              "            + ' to learn more about interactive tables.';\n",
              "          element.innerHTML = '';\n",
              "          dataTable['output_type'] = 'display_data';\n",
              "          await google.colab.output.renderOutput(dataTable, element);\n",
              "          const docLink = document.createElement('div');\n",
              "          docLink.innerHTML = docLinkHtml;\n",
              "          element.appendChild(docLink);\n",
              "        }\n",
              "      </script>\n",
              "    </div>\n",
              "  </div>\n",
              "  "
            ]
          },
          "metadata": {},
          "execution_count": 54
        }
      ]
    },
    {
      "cell_type": "code",
      "source": [
        "print(\"cases_df now has\", cases_df.shape[0], \"rows and\", cases_df.shape[1], \"columns.\")"
      ],
      "metadata": {
        "colab": {
          "base_uri": "https://localhost:8080/"
        },
        "id": "5rhppcd9DXNL",
        "outputId": "87bb032e-f119-4511-f0e7-97e7fedb29ca"
      },
      "execution_count": null,
      "outputs": [
        {
          "output_type": "stream",
          "name": "stdout",
          "text": [
            "cases_df now has 1026 rows and 6 columns.\n"
          ]
        }
      ]
    },
    {
      "cell_type": "markdown",
      "source": [
        "Let's check the data types of each of our columns."
      ],
      "metadata": {
        "id": "Mrk3P-Fn7zwn"
      }
    },
    {
      "cell_type": "code",
      "source": [
        "# Getting the types of the columns for cases_df\n",
        "cases_df.dtypes"
      ],
      "metadata": {
        "colab": {
          "base_uri": "https://localhost:8080/"
        },
        "id": "lKOItRMWDflQ",
        "outputId": "cf4c41cb-f967-47cd-92b8-72978b707939"
      },
      "execution_count": null,
      "outputs": [
        {
          "output_type": "execute_result",
          "data": {
            "text/plain": [
              "Province/State      object\n",
              "Country/Region      object\n",
              "Lat                float64\n",
              "Long               float64\n",
              "Date                object\n",
              "confirmed_cases      int64\n",
              "dtype: object"
            ]
          },
          "metadata": {},
          "execution_count": 56
        }
      ]
    },
    {
      "cell_type": "markdown",
      "source": [
        "From the output above, we can see that Province/State and Date have object type of data. We have to format Date as datetime format and Province/State as string."
      ],
      "metadata": {
        "id": "O8Ran74JEnji"
      }
    },
    {
      "cell_type": "code",
      "source": [
        "# formatting 'Province/State' as string\n",
        "cases_df['Province/State'] = cases_df['Province/State'].astype(\"string\")"
      ],
      "metadata": {
        "id": "3IKGDfLfEeFX"
      },
      "execution_count": null,
      "outputs": []
    },
    {
      "cell_type": "code",
      "source": [
        "# formatting 'Date' as datetime\n",
        "cases_df['Date'] = pd.to_datetime(cases_df['Date'], format=\"%m/%d/%y\")"
      ],
      "metadata": {
        "id": "89psoE42F1o4"
      },
      "execution_count": null,
      "outputs": []
    },
    {
      "cell_type": "markdown",
      "source": [
        "Let's check the types again. And visualize the changes to the Date column."
      ],
      "metadata": {
        "id": "LLzZdH3P8eEZ"
      }
    },
    {
      "cell_type": "code",
      "source": [
        "cases_df.dtypes"
      ],
      "metadata": {
        "colab": {
          "base_uri": "https://localhost:8080/"
        },
        "id": "hujC8Vmh8l8l",
        "outputId": "a3984ba4-6f69-4379-b5fb-eadcf1e9ae11"
      },
      "execution_count": null,
      "outputs": [
        {
          "output_type": "execute_result",
          "data": {
            "text/plain": [
              "Province/State             string\n",
              "Country/Region             object\n",
              "Lat                       float64\n",
              "Long                      float64\n",
              "Date               datetime64[ns]\n",
              "confirmed_cases             int64\n",
              "dtype: object"
            ]
          },
          "metadata": {},
          "execution_count": 59
        }
      ]
    },
    {
      "cell_type": "code",
      "source": [
        "# visualizing the changes\n",
        "cases_df.head()"
      ],
      "metadata": {
        "colab": {
          "base_uri": "https://localhost:8080/"
        },
        "id": "CoxwZaBUMpTS",
        "outputId": "2a4ef6e9-78c3-47c3-a62b-ae94293fb8b5"
      },
      "execution_count": null,
      "outputs": [
        {
          "output_type": "execute_result",
          "data": {
            "text/plain": [
              "  Province/State Country/Region      Lat      Long       Date  confirmed_cases\n",
              "0        Beijing          China  40.1824  116.4142 2020-01-22               14\n",
              "1       Shanghai          China  31.2020  121.4491 2020-01-22                9\n",
              "2        Beijing          China  40.1824  116.4142 2020-01-23               22\n",
              "3       Shanghai          China  31.2020  121.4491 2020-01-23               16\n",
              "4        Beijing          China  40.1824  116.4142 2020-01-24               36"
            ],
            "text/html": [
              "\n",
              "  <div id=\"df-e45396ba-93a6-4575-b8e7-cec300edf8b3\">\n",
              "    <div class=\"colab-df-container\">\n",
              "      <div>\n",
              "<style scoped>\n",
              "    .dataframe tbody tr th:only-of-type {\n",
              "        vertical-align: middle;\n",
              "    }\n",
              "\n",
              "    .dataframe tbody tr th {\n",
              "        vertical-align: top;\n",
              "    }\n",
              "\n",
              "    .dataframe thead th {\n",
              "        text-align: right;\n",
              "    }\n",
              "</style>\n",
              "<table border=\"1\" class=\"dataframe\">\n",
              "  <thead>\n",
              "    <tr style=\"text-align: right;\">\n",
              "      <th></th>\n",
              "      <th>Province/State</th>\n",
              "      <th>Country/Region</th>\n",
              "      <th>Lat</th>\n",
              "      <th>Long</th>\n",
              "      <th>Date</th>\n",
              "      <th>confirmed_cases</th>\n",
              "    </tr>\n",
              "  </thead>\n",
              "  <tbody>\n",
              "    <tr>\n",
              "      <th>0</th>\n",
              "      <td>Beijing</td>\n",
              "      <td>China</td>\n",
              "      <td>40.1824</td>\n",
              "      <td>116.4142</td>\n",
              "      <td>2020-01-22</td>\n",
              "      <td>14</td>\n",
              "    </tr>\n",
              "    <tr>\n",
              "      <th>1</th>\n",
              "      <td>Shanghai</td>\n",
              "      <td>China</td>\n",
              "      <td>31.2020</td>\n",
              "      <td>121.4491</td>\n",
              "      <td>2020-01-22</td>\n",
              "      <td>9</td>\n",
              "    </tr>\n",
              "    <tr>\n",
              "      <th>2</th>\n",
              "      <td>Beijing</td>\n",
              "      <td>China</td>\n",
              "      <td>40.1824</td>\n",
              "      <td>116.4142</td>\n",
              "      <td>2020-01-23</td>\n",
              "      <td>22</td>\n",
              "    </tr>\n",
              "    <tr>\n",
              "      <th>3</th>\n",
              "      <td>Shanghai</td>\n",
              "      <td>China</td>\n",
              "      <td>31.2020</td>\n",
              "      <td>121.4491</td>\n",
              "      <td>2020-01-23</td>\n",
              "      <td>16</td>\n",
              "    </tr>\n",
              "    <tr>\n",
              "      <th>4</th>\n",
              "      <td>Beijing</td>\n",
              "      <td>China</td>\n",
              "      <td>40.1824</td>\n",
              "      <td>116.4142</td>\n",
              "      <td>2020-01-24</td>\n",
              "      <td>36</td>\n",
              "    </tr>\n",
              "  </tbody>\n",
              "</table>\n",
              "</div>\n",
              "      <button class=\"colab-df-convert\" onclick=\"convertToInteractive('df-e45396ba-93a6-4575-b8e7-cec300edf8b3')\"\n",
              "              title=\"Convert this dataframe to an interactive table.\"\n",
              "              style=\"display:none;\">\n",
              "        \n",
              "  <svg xmlns=\"http://www.w3.org/2000/svg\" height=\"24px\"viewBox=\"0 0 24 24\"\n",
              "       width=\"24px\">\n",
              "    <path d=\"M0 0h24v24H0V0z\" fill=\"none\"/>\n",
              "    <path d=\"M18.56 5.44l.94 2.06.94-2.06 2.06-.94-2.06-.94-.94-2.06-.94 2.06-2.06.94zm-11 1L8.5 8.5l.94-2.06 2.06-.94-2.06-.94L8.5 2.5l-.94 2.06-2.06.94zm10 10l.94 2.06.94-2.06 2.06-.94-2.06-.94-.94-2.06-.94 2.06-2.06.94z\"/><path d=\"M17.41 7.96l-1.37-1.37c-.4-.4-.92-.59-1.43-.59-.52 0-1.04.2-1.43.59L10.3 9.45l-7.72 7.72c-.78.78-.78 2.05 0 2.83L4 21.41c.39.39.9.59 1.41.59.51 0 1.02-.2 1.41-.59l7.78-7.78 2.81-2.81c.8-.78.8-2.07 0-2.86zM5.41 20L4 18.59l7.72-7.72 1.47 1.35L5.41 20z\"/>\n",
              "  </svg>\n",
              "      </button>\n",
              "      \n",
              "  <style>\n",
              "    .colab-df-container {\n",
              "      display:flex;\n",
              "      flex-wrap:wrap;\n",
              "      gap: 12px;\n",
              "    }\n",
              "\n",
              "    .colab-df-convert {\n",
              "      background-color: #E8F0FE;\n",
              "      border: none;\n",
              "      border-radius: 50%;\n",
              "      cursor: pointer;\n",
              "      display: none;\n",
              "      fill: #1967D2;\n",
              "      height: 32px;\n",
              "      padding: 0 0 0 0;\n",
              "      width: 32px;\n",
              "    }\n",
              "\n",
              "    .colab-df-convert:hover {\n",
              "      background-color: #E2EBFA;\n",
              "      box-shadow: 0px 1px 2px rgba(60, 64, 67, 0.3), 0px 1px 3px 1px rgba(60, 64, 67, 0.15);\n",
              "      fill: #174EA6;\n",
              "    }\n",
              "\n",
              "    [theme=dark] .colab-df-convert {\n",
              "      background-color: #3B4455;\n",
              "      fill: #D2E3FC;\n",
              "    }\n",
              "\n",
              "    [theme=dark] .colab-df-convert:hover {\n",
              "      background-color: #434B5C;\n",
              "      box-shadow: 0px 1px 3px 1px rgba(0, 0, 0, 0.15);\n",
              "      filter: drop-shadow(0px 1px 2px rgba(0, 0, 0, 0.3));\n",
              "      fill: #FFFFFF;\n",
              "    }\n",
              "  </style>\n",
              "\n",
              "      <script>\n",
              "        const buttonEl =\n",
              "          document.querySelector('#df-e45396ba-93a6-4575-b8e7-cec300edf8b3 button.colab-df-convert');\n",
              "        buttonEl.style.display =\n",
              "          google.colab.kernel.accessAllowed ? 'block' : 'none';\n",
              "\n",
              "        async function convertToInteractive(key) {\n",
              "          const element = document.querySelector('#df-e45396ba-93a6-4575-b8e7-cec300edf8b3');\n",
              "          const dataTable =\n",
              "            await google.colab.kernel.invokeFunction('convertToInteractive',\n",
              "                                                     [key], {});\n",
              "          if (!dataTable) return;\n",
              "\n",
              "          const docLinkHtml = 'Like what you see? Visit the ' +\n",
              "            '<a target=\"_blank\" href=https://colab.research.google.com/notebooks/data_table.ipynb>data table notebook</a>'\n",
              "            + ' to learn more about interactive tables.';\n",
              "          element.innerHTML = '';\n",
              "          dataTable['output_type'] = 'display_data';\n",
              "          await google.colab.output.renderOutput(dataTable, element);\n",
              "          const docLink = document.createElement('div');\n",
              "          docLink.innerHTML = docLinkHtml;\n",
              "          element.appendChild(docLink);\n",
              "        }\n",
              "      </script>\n",
              "    </div>\n",
              "  </div>\n",
              "  "
            ]
          },
          "metadata": {},
          "execution_count": 60
        }
      ]
    },
    {
      "cell_type": "markdown",
      "source": [
        "Now that we have the variables in the correct format, to follow the naming convention mentioned above, let's rename 'Province/State' to City.\n"
      ],
      "metadata": {
        "id": "T6ixC95KHsUp"
      }
    },
    {
      "cell_type": "code",
      "source": [
        "cases_df.rename(columns={\"Province/State\": \"City\"}, inplace=True)\n",
        "cases_df.columns"
      ],
      "metadata": {
        "colab": {
          "base_uri": "https://localhost:8080/"
        },
        "id": "qx7VeNpGHrpC",
        "outputId": "4dec724c-6b93-4efd-d680-2899c31d95c7"
      },
      "execution_count": null,
      "outputs": [
        {
          "output_type": "execute_result",
          "data": {
            "text/plain": [
              "Index(['City', 'Country/Region', 'Lat', 'Long', 'Date', 'confirmed_cases'], dtype='object')"
            ]
          },
          "metadata": {},
          "execution_count": 61
        }
      ]
    },
    {
      "cell_type": "markdown",
      "source": [
        "Finally, let's drop the columns 'Country/Region', 'Lat' and 'Long' as they won't be needed for further analysis."
      ],
      "metadata": {
        "id": "VcEkGmXK-G-z"
      }
    },
    {
      "cell_type": "code",
      "source": [
        "# Dropping columns 'Country/Region', 'Lat' and 'Long'\n",
        "cases_df = cases_df.drop(columns=['Country/Region','Lat','Long'])\n",
        "cases_df.head()"
      ],
      "metadata": {
        "colab": {
          "base_uri": "https://localhost:8080/"
        },
        "id": "0Z8kfJjFhpoM",
        "outputId": "33566a88-c703-4905-ae09-1c1d1327e4ef"
      },
      "execution_count": null,
      "outputs": [
        {
          "output_type": "execute_result",
          "data": {
            "text/plain": [
              "       City       Date  confirmed_cases\n",
              "0   Beijing 2020-01-22               14\n",
              "1  Shanghai 2020-01-22                9\n",
              "2   Beijing 2020-01-23               22\n",
              "3  Shanghai 2020-01-23               16\n",
              "4   Beijing 2020-01-24               36"
            ],
            "text/html": [
              "\n",
              "  <div id=\"df-195976af-95d6-4245-a554-265c408037e2\">\n",
              "    <div class=\"colab-df-container\">\n",
              "      <div>\n",
              "<style scoped>\n",
              "    .dataframe tbody tr th:only-of-type {\n",
              "        vertical-align: middle;\n",
              "    }\n",
              "\n",
              "    .dataframe tbody tr th {\n",
              "        vertical-align: top;\n",
              "    }\n",
              "\n",
              "    .dataframe thead th {\n",
              "        text-align: right;\n",
              "    }\n",
              "</style>\n",
              "<table border=\"1\" class=\"dataframe\">\n",
              "  <thead>\n",
              "    <tr style=\"text-align: right;\">\n",
              "      <th></th>\n",
              "      <th>City</th>\n",
              "      <th>Date</th>\n",
              "      <th>confirmed_cases</th>\n",
              "    </tr>\n",
              "  </thead>\n",
              "  <tbody>\n",
              "    <tr>\n",
              "      <th>0</th>\n",
              "      <td>Beijing</td>\n",
              "      <td>2020-01-22</td>\n",
              "      <td>14</td>\n",
              "    </tr>\n",
              "    <tr>\n",
              "      <th>1</th>\n",
              "      <td>Shanghai</td>\n",
              "      <td>2020-01-22</td>\n",
              "      <td>9</td>\n",
              "    </tr>\n",
              "    <tr>\n",
              "      <th>2</th>\n",
              "      <td>Beijing</td>\n",
              "      <td>2020-01-23</td>\n",
              "      <td>22</td>\n",
              "    </tr>\n",
              "    <tr>\n",
              "      <th>3</th>\n",
              "      <td>Shanghai</td>\n",
              "      <td>2020-01-23</td>\n",
              "      <td>16</td>\n",
              "    </tr>\n",
              "    <tr>\n",
              "      <th>4</th>\n",
              "      <td>Beijing</td>\n",
              "      <td>2020-01-24</td>\n",
              "      <td>36</td>\n",
              "    </tr>\n",
              "  </tbody>\n",
              "</table>\n",
              "</div>\n",
              "      <button class=\"colab-df-convert\" onclick=\"convertToInteractive('df-195976af-95d6-4245-a554-265c408037e2')\"\n",
              "              title=\"Convert this dataframe to an interactive table.\"\n",
              "              style=\"display:none;\">\n",
              "        \n",
              "  <svg xmlns=\"http://www.w3.org/2000/svg\" height=\"24px\"viewBox=\"0 0 24 24\"\n",
              "       width=\"24px\">\n",
              "    <path d=\"M0 0h24v24H0V0z\" fill=\"none\"/>\n",
              "    <path d=\"M18.56 5.44l.94 2.06.94-2.06 2.06-.94-2.06-.94-.94-2.06-.94 2.06-2.06.94zm-11 1L8.5 8.5l.94-2.06 2.06-.94-2.06-.94L8.5 2.5l-.94 2.06-2.06.94zm10 10l.94 2.06.94-2.06 2.06-.94-2.06-.94-.94-2.06-.94 2.06-2.06.94z\"/><path d=\"M17.41 7.96l-1.37-1.37c-.4-.4-.92-.59-1.43-.59-.52 0-1.04.2-1.43.59L10.3 9.45l-7.72 7.72c-.78.78-.78 2.05 0 2.83L4 21.41c.39.39.9.59 1.41.59.51 0 1.02-.2 1.41-.59l7.78-7.78 2.81-2.81c.8-.78.8-2.07 0-2.86zM5.41 20L4 18.59l7.72-7.72 1.47 1.35L5.41 20z\"/>\n",
              "  </svg>\n",
              "      </button>\n",
              "      \n",
              "  <style>\n",
              "    .colab-df-container {\n",
              "      display:flex;\n",
              "      flex-wrap:wrap;\n",
              "      gap: 12px;\n",
              "    }\n",
              "\n",
              "    .colab-df-convert {\n",
              "      background-color: #E8F0FE;\n",
              "      border: none;\n",
              "      border-radius: 50%;\n",
              "      cursor: pointer;\n",
              "      display: none;\n",
              "      fill: #1967D2;\n",
              "      height: 32px;\n",
              "      padding: 0 0 0 0;\n",
              "      width: 32px;\n",
              "    }\n",
              "\n",
              "    .colab-df-convert:hover {\n",
              "      background-color: #E2EBFA;\n",
              "      box-shadow: 0px 1px 2px rgba(60, 64, 67, 0.3), 0px 1px 3px 1px rgba(60, 64, 67, 0.15);\n",
              "      fill: #174EA6;\n",
              "    }\n",
              "\n",
              "    [theme=dark] .colab-df-convert {\n",
              "      background-color: #3B4455;\n",
              "      fill: #D2E3FC;\n",
              "    }\n",
              "\n",
              "    [theme=dark] .colab-df-convert:hover {\n",
              "      background-color: #434B5C;\n",
              "      box-shadow: 0px 1px 3px 1px rgba(0, 0, 0, 0.15);\n",
              "      filter: drop-shadow(0px 1px 2px rgba(0, 0, 0, 0.3));\n",
              "      fill: #FFFFFF;\n",
              "    }\n",
              "  </style>\n",
              "\n",
              "      <script>\n",
              "        const buttonEl =\n",
              "          document.querySelector('#df-195976af-95d6-4245-a554-265c408037e2 button.colab-df-convert');\n",
              "        buttonEl.style.display =\n",
              "          google.colab.kernel.accessAllowed ? 'block' : 'none';\n",
              "\n",
              "        async function convertToInteractive(key) {\n",
              "          const element = document.querySelector('#df-195976af-95d6-4245-a554-265c408037e2');\n",
              "          const dataTable =\n",
              "            await google.colab.kernel.invokeFunction('convertToInteractive',\n",
              "                                                     [key], {});\n",
              "          if (!dataTable) return;\n",
              "\n",
              "          const docLinkHtml = 'Like what you see? Visit the ' +\n",
              "            '<a target=\"_blank\" href=https://colab.research.google.com/notebooks/data_table.ipynb>data table notebook</a>'\n",
              "            + ' to learn more about interactive tables.';\n",
              "          element.innerHTML = '';\n",
              "          dataTable['output_type'] = 'display_data';\n",
              "          await google.colab.output.renderOutput(dataTable, element);\n",
              "          const docLink = document.createElement('div');\n",
              "          docLink.innerHTML = docLinkHtml;\n",
              "          element.appendChild(docLink);\n",
              "        }\n",
              "      </script>\n",
              "    </div>\n",
              "  </div>\n",
              "  "
            ]
          },
          "metadata": {},
          "execution_count": 62
        }
      ]
    },
    {
      "cell_type": "code",
      "source": [
        "print(\"cases_df now has\", cases_df.shape[0], \"rows and\", cases_df.shape[1], \"columns.\")"
      ],
      "metadata": {
        "colab": {
          "base_uri": "https://localhost:8080/"
        },
        "id": "4mAqksxnIeVq",
        "outputId": "270c5733-cde2-41ff-c056-6a7dd0a13742"
      },
      "execution_count": null,
      "outputs": [
        {
          "output_type": "stream",
          "name": "stdout",
          "text": [
            "cases_df now has 1026 rows and 3 columns.\n"
          ]
        }
      ]
    },
    {
      "cell_type": "markdown",
      "source": [
        "Now that our confirmed cases dataframe has the same naming convention as the AQI dataframe and we have transformed and cleaned the data, let's apply all of the same transformations and cleaning to the deaths data set.\n",
        "\n",
        "First, let's import our deaths data.\n",
        "\n"
      ],
      "metadata": {
        "id": "5lPk0GDfI2QO"
      }
    },
    {
      "cell_type": "code",
      "source": [
        "# Importing deaths data\n",
        "deaths_df = pd.read_csv('/content/drive/MyDrive/Team Project/time_series_covid19_deaths_global.csv')\n",
        "deaths_df.head()"
      ],
      "metadata": {
        "colab": {
          "base_uri": "https://localhost:8080/"
        },
        "id": "TZw7jinUJMxx",
        "outputId": "d5ca1ad6-5ae4-45a0-d3ba-cbc86de0b761"
      },
      "execution_count": null,
      "outputs": [
        {
          "output_type": "execute_result",
          "data": {
            "text/plain": [
              "  Province/State Country/Region       Lat       Long  1/22/20  1/23/20  \\\n",
              "0            NaN    Afghanistan  33.93911  67.709953        0        0   \n",
              "1            NaN        Albania  41.15330  20.168300        0        0   \n",
              "2            NaN        Algeria  28.03390   1.659600        0        0   \n",
              "3            NaN        Andorra  42.50630   1.521800        0        0   \n",
              "4            NaN         Angola -11.20270  17.873900        0        0   \n",
              "\n",
              "   1/24/20  1/25/20  1/26/20  1/27/20  ...  6/8/21  6/9/21  6/10/21  6/11/21  \\\n",
              "0        0        0        0        0  ...    3251    3305     3356     3412   \n",
              "1        0        0        0        0  ...    2452    2452     2452     2453   \n",
              "2        0        0        0        0  ...    3537    3544     3552     3560   \n",
              "3        0        0        0        0  ...     127     127      127      127   \n",
              "4        0        0        0        0  ...     803     811      815      819   \n",
              "\n",
              "   6/12/21  6/13/21  6/14/21  6/15/21  6/16/21  6/17/21  \n",
              "0     3449     3527     3612     3683     3683     3842  \n",
              "1     2453     2453     2453     2454     2454     2454  \n",
              "2     3565     3571     3579     3588     3598     3605  \n",
              "3      127      127      127      127      127      127  \n",
              "4      825      831      836      842      847      851  \n",
              "\n",
              "[5 rows x 517 columns]"
            ],
            "text/html": [
              "\n",
              "  <div id=\"df-dc9c9254-67e1-48df-91fe-e7f4d5826bda\">\n",
              "    <div class=\"colab-df-container\">\n",
              "      <div>\n",
              "<style scoped>\n",
              "    .dataframe tbody tr th:only-of-type {\n",
              "        vertical-align: middle;\n",
              "    }\n",
              "\n",
              "    .dataframe tbody tr th {\n",
              "        vertical-align: top;\n",
              "    }\n",
              "\n",
              "    .dataframe thead th {\n",
              "        text-align: right;\n",
              "    }\n",
              "</style>\n",
              "<table border=\"1\" class=\"dataframe\">\n",
              "  <thead>\n",
              "    <tr style=\"text-align: right;\">\n",
              "      <th></th>\n",
              "      <th>Province/State</th>\n",
              "      <th>Country/Region</th>\n",
              "      <th>Lat</th>\n",
              "      <th>Long</th>\n",
              "      <th>1/22/20</th>\n",
              "      <th>1/23/20</th>\n",
              "      <th>1/24/20</th>\n",
              "      <th>1/25/20</th>\n",
              "      <th>1/26/20</th>\n",
              "      <th>1/27/20</th>\n",
              "      <th>...</th>\n",
              "      <th>6/8/21</th>\n",
              "      <th>6/9/21</th>\n",
              "      <th>6/10/21</th>\n",
              "      <th>6/11/21</th>\n",
              "      <th>6/12/21</th>\n",
              "      <th>6/13/21</th>\n",
              "      <th>6/14/21</th>\n",
              "      <th>6/15/21</th>\n",
              "      <th>6/16/21</th>\n",
              "      <th>6/17/21</th>\n",
              "    </tr>\n",
              "  </thead>\n",
              "  <tbody>\n",
              "    <tr>\n",
              "      <th>0</th>\n",
              "      <td>NaN</td>\n",
              "      <td>Afghanistan</td>\n",
              "      <td>33.93911</td>\n",
              "      <td>67.709953</td>\n",
              "      <td>0</td>\n",
              "      <td>0</td>\n",
              "      <td>0</td>\n",
              "      <td>0</td>\n",
              "      <td>0</td>\n",
              "      <td>0</td>\n",
              "      <td>...</td>\n",
              "      <td>3251</td>\n",
              "      <td>3305</td>\n",
              "      <td>3356</td>\n",
              "      <td>3412</td>\n",
              "      <td>3449</td>\n",
              "      <td>3527</td>\n",
              "      <td>3612</td>\n",
              "      <td>3683</td>\n",
              "      <td>3683</td>\n",
              "      <td>3842</td>\n",
              "    </tr>\n",
              "    <tr>\n",
              "      <th>1</th>\n",
              "      <td>NaN</td>\n",
              "      <td>Albania</td>\n",
              "      <td>41.15330</td>\n",
              "      <td>20.168300</td>\n",
              "      <td>0</td>\n",
              "      <td>0</td>\n",
              "      <td>0</td>\n",
              "      <td>0</td>\n",
              "      <td>0</td>\n",
              "      <td>0</td>\n",
              "      <td>...</td>\n",
              "      <td>2452</td>\n",
              "      <td>2452</td>\n",
              "      <td>2452</td>\n",
              "      <td>2453</td>\n",
              "      <td>2453</td>\n",
              "      <td>2453</td>\n",
              "      <td>2453</td>\n",
              "      <td>2454</td>\n",
              "      <td>2454</td>\n",
              "      <td>2454</td>\n",
              "    </tr>\n",
              "    <tr>\n",
              "      <th>2</th>\n",
              "      <td>NaN</td>\n",
              "      <td>Algeria</td>\n",
              "      <td>28.03390</td>\n",
              "      <td>1.659600</td>\n",
              "      <td>0</td>\n",
              "      <td>0</td>\n",
              "      <td>0</td>\n",
              "      <td>0</td>\n",
              "      <td>0</td>\n",
              "      <td>0</td>\n",
              "      <td>...</td>\n",
              "      <td>3537</td>\n",
              "      <td>3544</td>\n",
              "      <td>3552</td>\n",
              "      <td>3560</td>\n",
              "      <td>3565</td>\n",
              "      <td>3571</td>\n",
              "      <td>3579</td>\n",
              "      <td>3588</td>\n",
              "      <td>3598</td>\n",
              "      <td>3605</td>\n",
              "    </tr>\n",
              "    <tr>\n",
              "      <th>3</th>\n",
              "      <td>NaN</td>\n",
              "      <td>Andorra</td>\n",
              "      <td>42.50630</td>\n",
              "      <td>1.521800</td>\n",
              "      <td>0</td>\n",
              "      <td>0</td>\n",
              "      <td>0</td>\n",
              "      <td>0</td>\n",
              "      <td>0</td>\n",
              "      <td>0</td>\n",
              "      <td>...</td>\n",
              "      <td>127</td>\n",
              "      <td>127</td>\n",
              "      <td>127</td>\n",
              "      <td>127</td>\n",
              "      <td>127</td>\n",
              "      <td>127</td>\n",
              "      <td>127</td>\n",
              "      <td>127</td>\n",
              "      <td>127</td>\n",
              "      <td>127</td>\n",
              "    </tr>\n",
              "    <tr>\n",
              "      <th>4</th>\n",
              "      <td>NaN</td>\n",
              "      <td>Angola</td>\n",
              "      <td>-11.20270</td>\n",
              "      <td>17.873900</td>\n",
              "      <td>0</td>\n",
              "      <td>0</td>\n",
              "      <td>0</td>\n",
              "      <td>0</td>\n",
              "      <td>0</td>\n",
              "      <td>0</td>\n",
              "      <td>...</td>\n",
              "      <td>803</td>\n",
              "      <td>811</td>\n",
              "      <td>815</td>\n",
              "      <td>819</td>\n",
              "      <td>825</td>\n",
              "      <td>831</td>\n",
              "      <td>836</td>\n",
              "      <td>842</td>\n",
              "      <td>847</td>\n",
              "      <td>851</td>\n",
              "    </tr>\n",
              "  </tbody>\n",
              "</table>\n",
              "<p>5 rows × 517 columns</p>\n",
              "</div>\n",
              "      <button class=\"colab-df-convert\" onclick=\"convertToInteractive('df-dc9c9254-67e1-48df-91fe-e7f4d5826bda')\"\n",
              "              title=\"Convert this dataframe to an interactive table.\"\n",
              "              style=\"display:none;\">\n",
              "        \n",
              "  <svg xmlns=\"http://www.w3.org/2000/svg\" height=\"24px\"viewBox=\"0 0 24 24\"\n",
              "       width=\"24px\">\n",
              "    <path d=\"M0 0h24v24H0V0z\" fill=\"none\"/>\n",
              "    <path d=\"M18.56 5.44l.94 2.06.94-2.06 2.06-.94-2.06-.94-.94-2.06-.94 2.06-2.06.94zm-11 1L8.5 8.5l.94-2.06 2.06-.94-2.06-.94L8.5 2.5l-.94 2.06-2.06.94zm10 10l.94 2.06.94-2.06 2.06-.94-2.06-.94-.94-2.06-.94 2.06-2.06.94z\"/><path d=\"M17.41 7.96l-1.37-1.37c-.4-.4-.92-.59-1.43-.59-.52 0-1.04.2-1.43.59L10.3 9.45l-7.72 7.72c-.78.78-.78 2.05 0 2.83L4 21.41c.39.39.9.59 1.41.59.51 0 1.02-.2 1.41-.59l7.78-7.78 2.81-2.81c.8-.78.8-2.07 0-2.86zM5.41 20L4 18.59l7.72-7.72 1.47 1.35L5.41 20z\"/>\n",
              "  </svg>\n",
              "      </button>\n",
              "      \n",
              "  <style>\n",
              "    .colab-df-container {\n",
              "      display:flex;\n",
              "      flex-wrap:wrap;\n",
              "      gap: 12px;\n",
              "    }\n",
              "\n",
              "    .colab-df-convert {\n",
              "      background-color: #E8F0FE;\n",
              "      border: none;\n",
              "      border-radius: 50%;\n",
              "      cursor: pointer;\n",
              "      display: none;\n",
              "      fill: #1967D2;\n",
              "      height: 32px;\n",
              "      padding: 0 0 0 0;\n",
              "      width: 32px;\n",
              "    }\n",
              "\n",
              "    .colab-df-convert:hover {\n",
              "      background-color: #E2EBFA;\n",
              "      box-shadow: 0px 1px 2px rgba(60, 64, 67, 0.3), 0px 1px 3px 1px rgba(60, 64, 67, 0.15);\n",
              "      fill: #174EA6;\n",
              "    }\n",
              "\n",
              "    [theme=dark] .colab-df-convert {\n",
              "      background-color: #3B4455;\n",
              "      fill: #D2E3FC;\n",
              "    }\n",
              "\n",
              "    [theme=dark] .colab-df-convert:hover {\n",
              "      background-color: #434B5C;\n",
              "      box-shadow: 0px 1px 3px 1px rgba(0, 0, 0, 0.15);\n",
              "      filter: drop-shadow(0px 1px 2px rgba(0, 0, 0, 0.3));\n",
              "      fill: #FFFFFF;\n",
              "    }\n",
              "  </style>\n",
              "\n",
              "      <script>\n",
              "        const buttonEl =\n",
              "          document.querySelector('#df-dc9c9254-67e1-48df-91fe-e7f4d5826bda button.colab-df-convert');\n",
              "        buttonEl.style.display =\n",
              "          google.colab.kernel.accessAllowed ? 'block' : 'none';\n",
              "\n",
              "        async function convertToInteractive(key) {\n",
              "          const element = document.querySelector('#df-dc9c9254-67e1-48df-91fe-e7f4d5826bda');\n",
              "          const dataTable =\n",
              "            await google.colab.kernel.invokeFunction('convertToInteractive',\n",
              "                                                     [key], {});\n",
              "          if (!dataTable) return;\n",
              "\n",
              "          const docLinkHtml = 'Like what you see? Visit the ' +\n",
              "            '<a target=\"_blank\" href=https://colab.research.google.com/notebooks/data_table.ipynb>data table notebook</a>'\n",
              "            + ' to learn more about interactive tables.';\n",
              "          element.innerHTML = '';\n",
              "          dataTable['output_type'] = 'display_data';\n",
              "          await google.colab.output.renderOutput(dataTable, element);\n",
              "          const docLink = document.createElement('div');\n",
              "          docLink.innerHTML = docLinkHtml;\n",
              "          element.appendChild(docLink);\n",
              "        }\n",
              "      </script>\n",
              "    </div>\n",
              "  </div>\n",
              "  "
            ]
          },
          "metadata": {},
          "execution_count": 64
        }
      ]
    },
    {
      "cell_type": "code",
      "source": [
        "print(\"The covid-19 deaths data set has\", deaths_df.shape[0],\"rows and\", deaths_df.shape[1], \"columns.\")"
      ],
      "metadata": {
        "colab": {
          "base_uri": "https://localhost:8080/"
        },
        "id": "6KRNhELXJjJ6",
        "outputId": "600be241-ea2f-4fd4-e0c6-061fc124b1c7"
      },
      "execution_count": null,
      "outputs": [
        {
          "output_type": "stream",
          "name": "stdout",
          "text": [
            "The covid-19 deaths data set has 278 rows and 517 columns.\n"
          ]
        }
      ]
    },
    {
      "cell_type": "markdown",
      "source": [
        "Let's check if our dataframe has any missing values."
      ],
      "metadata": {
        "id": "W7bjx56Q9F-8"
      }
    },
    {
      "cell_type": "code",
      "source": [
        "# Checking the missing values for each variable\n",
        "deaths_df.isna().sum()"
      ],
      "metadata": {
        "colab": {
          "base_uri": "https://localhost:8080/"
        },
        "id": "R_EAB7aaGJiW",
        "outputId": "d27ceeb3-f22f-4b9e-90dc-23730e72c871"
      },
      "execution_count": null,
      "outputs": [
        {
          "output_type": "execute_result",
          "data": {
            "text/plain": [
              "Province/State    191\n",
              "Country/Region      0\n",
              "Lat                 2\n",
              "Long                2\n",
              "1/22/20             0\n",
              "                 ... \n",
              "6/13/21             0\n",
              "6/14/21             0\n",
              "6/15/21             0\n",
              "6/16/21             0\n",
              "6/17/21             0\n",
              "Length: 517, dtype: int64"
            ]
          },
          "metadata": {},
          "execution_count": 66
        }
      ]
    },
    {
      "cell_type": "markdown",
      "source": [
        "We can see that the column Province/State has 191 missing values, Lat and Long both are missing 2 values. However, as before, we'll only use the cities Beijing and Shanghai. Let's see if we have them in the data."
      ],
      "metadata": {
        "id": "gkXUEefsGZq7"
      }
    },
    {
      "cell_type": "code",
      "source": [
        "deaths_df['Province/State'].isin(['Beijing','Shanghai']).sum()"
      ],
      "metadata": {
        "colab": {
          "base_uri": "https://localhost:8080/"
        },
        "id": "EXJ8iawrGiqt",
        "outputId": "ce73d28b-cf04-444a-89ec-80f6c7646618"
      },
      "execution_count": null,
      "outputs": [
        {
          "output_type": "execute_result",
          "data": {
            "text/plain": [
              "2"
            ]
          },
          "metadata": {},
          "execution_count": 67
        }
      ]
    },
    {
      "cell_type": "code",
      "source": [
        "deaths_df[(deaths_df['Province/State']=='Beijing') | (deaths_df['Province/State']=='Shanghai')]"
      ],
      "metadata": {
        "colab": {
          "base_uri": "https://localhost:8080/"
        },
        "id": "AZzvMGCdGxK0",
        "outputId": "7d71f81f-8a71-4791-df21-fe8e0a65f7d3"
      },
      "execution_count": null,
      "outputs": [
        {
          "output_type": "execute_result",
          "data": {
            "text/plain": [
              "   Province/State Country/Region      Lat      Long  1/22/20  1/23/20  \\\n",
              "59        Beijing          China  40.1824  116.4142        0        0   \n",
              "83       Shanghai          China  31.2020  121.4491        0        0   \n",
              "\n",
              "    1/24/20  1/25/20  1/26/20  1/27/20  ...  6/8/21  6/9/21  6/10/21  6/11/21  \\\n",
              "59        0        0        0        1  ...       9       9        9        9   \n",
              "83        0        0        1        1  ...       7       7        7        7   \n",
              "\n",
              "    6/12/21  6/13/21  6/14/21  6/15/21  6/16/21  6/17/21  \n",
              "59        9        9        9        9        9        9  \n",
              "83        7        7        7        7        7        7  \n",
              "\n",
              "[2 rows x 517 columns]"
            ],
            "text/html": [
              "\n",
              "  <div id=\"df-21b1cf91-1cfd-4d45-92d6-7a9f054e6cd7\">\n",
              "    <div class=\"colab-df-container\">\n",
              "      <div>\n",
              "<style scoped>\n",
              "    .dataframe tbody tr th:only-of-type {\n",
              "        vertical-align: middle;\n",
              "    }\n",
              "\n",
              "    .dataframe tbody tr th {\n",
              "        vertical-align: top;\n",
              "    }\n",
              "\n",
              "    .dataframe thead th {\n",
              "        text-align: right;\n",
              "    }\n",
              "</style>\n",
              "<table border=\"1\" class=\"dataframe\">\n",
              "  <thead>\n",
              "    <tr style=\"text-align: right;\">\n",
              "      <th></th>\n",
              "      <th>Province/State</th>\n",
              "      <th>Country/Region</th>\n",
              "      <th>Lat</th>\n",
              "      <th>Long</th>\n",
              "      <th>1/22/20</th>\n",
              "      <th>1/23/20</th>\n",
              "      <th>1/24/20</th>\n",
              "      <th>1/25/20</th>\n",
              "      <th>1/26/20</th>\n",
              "      <th>1/27/20</th>\n",
              "      <th>...</th>\n",
              "      <th>6/8/21</th>\n",
              "      <th>6/9/21</th>\n",
              "      <th>6/10/21</th>\n",
              "      <th>6/11/21</th>\n",
              "      <th>6/12/21</th>\n",
              "      <th>6/13/21</th>\n",
              "      <th>6/14/21</th>\n",
              "      <th>6/15/21</th>\n",
              "      <th>6/16/21</th>\n",
              "      <th>6/17/21</th>\n",
              "    </tr>\n",
              "  </thead>\n",
              "  <tbody>\n",
              "    <tr>\n",
              "      <th>59</th>\n",
              "      <td>Beijing</td>\n",
              "      <td>China</td>\n",
              "      <td>40.1824</td>\n",
              "      <td>116.4142</td>\n",
              "      <td>0</td>\n",
              "      <td>0</td>\n",
              "      <td>0</td>\n",
              "      <td>0</td>\n",
              "      <td>0</td>\n",
              "      <td>1</td>\n",
              "      <td>...</td>\n",
              "      <td>9</td>\n",
              "      <td>9</td>\n",
              "      <td>9</td>\n",
              "      <td>9</td>\n",
              "      <td>9</td>\n",
              "      <td>9</td>\n",
              "      <td>9</td>\n",
              "      <td>9</td>\n",
              "      <td>9</td>\n",
              "      <td>9</td>\n",
              "    </tr>\n",
              "    <tr>\n",
              "      <th>83</th>\n",
              "      <td>Shanghai</td>\n",
              "      <td>China</td>\n",
              "      <td>31.2020</td>\n",
              "      <td>121.4491</td>\n",
              "      <td>0</td>\n",
              "      <td>0</td>\n",
              "      <td>0</td>\n",
              "      <td>0</td>\n",
              "      <td>1</td>\n",
              "      <td>1</td>\n",
              "      <td>...</td>\n",
              "      <td>7</td>\n",
              "      <td>7</td>\n",
              "      <td>7</td>\n",
              "      <td>7</td>\n",
              "      <td>7</td>\n",
              "      <td>7</td>\n",
              "      <td>7</td>\n",
              "      <td>7</td>\n",
              "      <td>7</td>\n",
              "      <td>7</td>\n",
              "    </tr>\n",
              "  </tbody>\n",
              "</table>\n",
              "<p>2 rows × 517 columns</p>\n",
              "</div>\n",
              "      <button class=\"colab-df-convert\" onclick=\"convertToInteractive('df-21b1cf91-1cfd-4d45-92d6-7a9f054e6cd7')\"\n",
              "              title=\"Convert this dataframe to an interactive table.\"\n",
              "              style=\"display:none;\">\n",
              "        \n",
              "  <svg xmlns=\"http://www.w3.org/2000/svg\" height=\"24px\"viewBox=\"0 0 24 24\"\n",
              "       width=\"24px\">\n",
              "    <path d=\"M0 0h24v24H0V0z\" fill=\"none\"/>\n",
              "    <path d=\"M18.56 5.44l.94 2.06.94-2.06 2.06-.94-2.06-.94-.94-2.06-.94 2.06-2.06.94zm-11 1L8.5 8.5l.94-2.06 2.06-.94-2.06-.94L8.5 2.5l-.94 2.06-2.06.94zm10 10l.94 2.06.94-2.06 2.06-.94-2.06-.94-.94-2.06-.94 2.06-2.06.94z\"/><path d=\"M17.41 7.96l-1.37-1.37c-.4-.4-.92-.59-1.43-.59-.52 0-1.04.2-1.43.59L10.3 9.45l-7.72 7.72c-.78.78-.78 2.05 0 2.83L4 21.41c.39.39.9.59 1.41.59.51 0 1.02-.2 1.41-.59l7.78-7.78 2.81-2.81c.8-.78.8-2.07 0-2.86zM5.41 20L4 18.59l7.72-7.72 1.47 1.35L5.41 20z\"/>\n",
              "  </svg>\n",
              "      </button>\n",
              "      \n",
              "  <style>\n",
              "    .colab-df-container {\n",
              "      display:flex;\n",
              "      flex-wrap:wrap;\n",
              "      gap: 12px;\n",
              "    }\n",
              "\n",
              "    .colab-df-convert {\n",
              "      background-color: #E8F0FE;\n",
              "      border: none;\n",
              "      border-radius: 50%;\n",
              "      cursor: pointer;\n",
              "      display: none;\n",
              "      fill: #1967D2;\n",
              "      height: 32px;\n",
              "      padding: 0 0 0 0;\n",
              "      width: 32px;\n",
              "    }\n",
              "\n",
              "    .colab-df-convert:hover {\n",
              "      background-color: #E2EBFA;\n",
              "      box-shadow: 0px 1px 2px rgba(60, 64, 67, 0.3), 0px 1px 3px 1px rgba(60, 64, 67, 0.15);\n",
              "      fill: #174EA6;\n",
              "    }\n",
              "\n",
              "    [theme=dark] .colab-df-convert {\n",
              "      background-color: #3B4455;\n",
              "      fill: #D2E3FC;\n",
              "    }\n",
              "\n",
              "    [theme=dark] .colab-df-convert:hover {\n",
              "      background-color: #434B5C;\n",
              "      box-shadow: 0px 1px 3px 1px rgba(0, 0, 0, 0.15);\n",
              "      filter: drop-shadow(0px 1px 2px rgba(0, 0, 0, 0.3));\n",
              "      fill: #FFFFFF;\n",
              "    }\n",
              "  </style>\n",
              "\n",
              "      <script>\n",
              "        const buttonEl =\n",
              "          document.querySelector('#df-21b1cf91-1cfd-4d45-92d6-7a9f054e6cd7 button.colab-df-convert');\n",
              "        buttonEl.style.display =\n",
              "          google.colab.kernel.accessAllowed ? 'block' : 'none';\n",
              "\n",
              "        async function convertToInteractive(key) {\n",
              "          const element = document.querySelector('#df-21b1cf91-1cfd-4d45-92d6-7a9f054e6cd7');\n",
              "          const dataTable =\n",
              "            await google.colab.kernel.invokeFunction('convertToInteractive',\n",
              "                                                     [key], {});\n",
              "          if (!dataTable) return;\n",
              "\n",
              "          const docLinkHtml = 'Like what you see? Visit the ' +\n",
              "            '<a target=\"_blank\" href=https://colab.research.google.com/notebooks/data_table.ipynb>data table notebook</a>'\n",
              "            + ' to learn more about interactive tables.';\n",
              "          element.innerHTML = '';\n",
              "          dataTable['output_type'] = 'display_data';\n",
              "          await google.colab.output.renderOutput(dataTable, element);\n",
              "          const docLink = document.createElement('div');\n",
              "          docLink.innerHTML = docLinkHtml;\n",
              "          element.appendChild(docLink);\n",
              "        }\n",
              "      </script>\n",
              "    </div>\n",
              "  </div>\n",
              "  "
            ]
          },
          "metadata": {},
          "execution_count": 68
        }
      ]
    },
    {
      "cell_type": "markdown",
      "source": [
        "As can be seen above, both of the cities are included in the data set. Additionally, the COVID-19 deaths data is also in a wide format. To be able to join this data with the confirmed cases and AQI data, we need to filter the rows of the cities we're interested in -Beijing and Shanghai- and turn this data to long format."
      ],
      "metadata": {
        "id": "aJSjv-5qJu4T"
      }
    },
    {
      "cell_type": "code",
      "source": [
        "# Filtering cities Beijing and Shanghai\n",
        "deaths_df = deaths_df[(deaths_df['Province/State']=='Beijing')|\n",
        "         (deaths_df['Province/State']=='Shanghai')]\n",
        "         "
      ],
      "metadata": {
        "id": "DhljXgJDJpqf"
      },
      "execution_count": null,
      "outputs": []
    },
    {
      "cell_type": "code",
      "source": [
        "print(\"deaths_df now has\", deaths_df.shape[0], \"rows and\", deaths_df.shape[1], \"columns.\")"
      ],
      "metadata": {
        "id": "9bNPfNj5KNd8",
        "colab": {
          "base_uri": "https://localhost:8080/"
        },
        "outputId": "b25f3acc-3f48-4140-b766-9232689c2d6e"
      },
      "execution_count": null,
      "outputs": [
        {
          "output_type": "stream",
          "name": "stdout",
          "text": [
            "deaths_df now has 2 rows and 517 columns.\n"
          ]
        }
      ]
    },
    {
      "cell_type": "code",
      "source": [
        "# Reshaping deaths_df to long format\n",
        "deaths_df = pd.melt(deaths_df, id_vars=['Province/State','Country/Region','Lat','Long'], var_name='Date', value_name='deaths')\n",
        "deaths_df.head()"
      ],
      "metadata": {
        "id": "U-Gh4uasKdq_",
        "colab": {
          "base_uri": "https://localhost:8080/"
        },
        "outputId": "0b1b6f0d-c29f-4ab6-f60d-ece4abbd7ccd"
      },
      "execution_count": null,
      "outputs": [
        {
          "output_type": "execute_result",
          "data": {
            "text/plain": [
              "  Province/State Country/Region      Lat      Long     Date  deaths\n",
              "0        Beijing          China  40.1824  116.4142  1/22/20       0\n",
              "1       Shanghai          China  31.2020  121.4491  1/22/20       0\n",
              "2        Beijing          China  40.1824  116.4142  1/23/20       0\n",
              "3       Shanghai          China  31.2020  121.4491  1/23/20       0\n",
              "4        Beijing          China  40.1824  116.4142  1/24/20       0"
            ],
            "text/html": [
              "\n",
              "  <div id=\"df-765aea10-dfc4-455a-9b2b-bee797d8cd8f\">\n",
              "    <div class=\"colab-df-container\">\n",
              "      <div>\n",
              "<style scoped>\n",
              "    .dataframe tbody tr th:only-of-type {\n",
              "        vertical-align: middle;\n",
              "    }\n",
              "\n",
              "    .dataframe tbody tr th {\n",
              "        vertical-align: top;\n",
              "    }\n",
              "\n",
              "    .dataframe thead th {\n",
              "        text-align: right;\n",
              "    }\n",
              "</style>\n",
              "<table border=\"1\" class=\"dataframe\">\n",
              "  <thead>\n",
              "    <tr style=\"text-align: right;\">\n",
              "      <th></th>\n",
              "      <th>Province/State</th>\n",
              "      <th>Country/Region</th>\n",
              "      <th>Lat</th>\n",
              "      <th>Long</th>\n",
              "      <th>Date</th>\n",
              "      <th>deaths</th>\n",
              "    </tr>\n",
              "  </thead>\n",
              "  <tbody>\n",
              "    <tr>\n",
              "      <th>0</th>\n",
              "      <td>Beijing</td>\n",
              "      <td>China</td>\n",
              "      <td>40.1824</td>\n",
              "      <td>116.4142</td>\n",
              "      <td>1/22/20</td>\n",
              "      <td>0</td>\n",
              "    </tr>\n",
              "    <tr>\n",
              "      <th>1</th>\n",
              "      <td>Shanghai</td>\n",
              "      <td>China</td>\n",
              "      <td>31.2020</td>\n",
              "      <td>121.4491</td>\n",
              "      <td>1/22/20</td>\n",
              "      <td>0</td>\n",
              "    </tr>\n",
              "    <tr>\n",
              "      <th>2</th>\n",
              "      <td>Beijing</td>\n",
              "      <td>China</td>\n",
              "      <td>40.1824</td>\n",
              "      <td>116.4142</td>\n",
              "      <td>1/23/20</td>\n",
              "      <td>0</td>\n",
              "    </tr>\n",
              "    <tr>\n",
              "      <th>3</th>\n",
              "      <td>Shanghai</td>\n",
              "      <td>China</td>\n",
              "      <td>31.2020</td>\n",
              "      <td>121.4491</td>\n",
              "      <td>1/23/20</td>\n",
              "      <td>0</td>\n",
              "    </tr>\n",
              "    <tr>\n",
              "      <th>4</th>\n",
              "      <td>Beijing</td>\n",
              "      <td>China</td>\n",
              "      <td>40.1824</td>\n",
              "      <td>116.4142</td>\n",
              "      <td>1/24/20</td>\n",
              "      <td>0</td>\n",
              "    </tr>\n",
              "  </tbody>\n",
              "</table>\n",
              "</div>\n",
              "      <button class=\"colab-df-convert\" onclick=\"convertToInteractive('df-765aea10-dfc4-455a-9b2b-bee797d8cd8f')\"\n",
              "              title=\"Convert this dataframe to an interactive table.\"\n",
              "              style=\"display:none;\">\n",
              "        \n",
              "  <svg xmlns=\"http://www.w3.org/2000/svg\" height=\"24px\"viewBox=\"0 0 24 24\"\n",
              "       width=\"24px\">\n",
              "    <path d=\"M0 0h24v24H0V0z\" fill=\"none\"/>\n",
              "    <path d=\"M18.56 5.44l.94 2.06.94-2.06 2.06-.94-2.06-.94-.94-2.06-.94 2.06-2.06.94zm-11 1L8.5 8.5l.94-2.06 2.06-.94-2.06-.94L8.5 2.5l-.94 2.06-2.06.94zm10 10l.94 2.06.94-2.06 2.06-.94-2.06-.94-.94-2.06-.94 2.06-2.06.94z\"/><path d=\"M17.41 7.96l-1.37-1.37c-.4-.4-.92-.59-1.43-.59-.52 0-1.04.2-1.43.59L10.3 9.45l-7.72 7.72c-.78.78-.78 2.05 0 2.83L4 21.41c.39.39.9.59 1.41.59.51 0 1.02-.2 1.41-.59l7.78-7.78 2.81-2.81c.8-.78.8-2.07 0-2.86zM5.41 20L4 18.59l7.72-7.72 1.47 1.35L5.41 20z\"/>\n",
              "  </svg>\n",
              "      </button>\n",
              "      \n",
              "  <style>\n",
              "    .colab-df-container {\n",
              "      display:flex;\n",
              "      flex-wrap:wrap;\n",
              "      gap: 12px;\n",
              "    }\n",
              "\n",
              "    .colab-df-convert {\n",
              "      background-color: #E8F0FE;\n",
              "      border: none;\n",
              "      border-radius: 50%;\n",
              "      cursor: pointer;\n",
              "      display: none;\n",
              "      fill: #1967D2;\n",
              "      height: 32px;\n",
              "      padding: 0 0 0 0;\n",
              "      width: 32px;\n",
              "    }\n",
              "\n",
              "    .colab-df-convert:hover {\n",
              "      background-color: #E2EBFA;\n",
              "      box-shadow: 0px 1px 2px rgba(60, 64, 67, 0.3), 0px 1px 3px 1px rgba(60, 64, 67, 0.15);\n",
              "      fill: #174EA6;\n",
              "    }\n",
              "\n",
              "    [theme=dark] .colab-df-convert {\n",
              "      background-color: #3B4455;\n",
              "      fill: #D2E3FC;\n",
              "    }\n",
              "\n",
              "    [theme=dark] .colab-df-convert:hover {\n",
              "      background-color: #434B5C;\n",
              "      box-shadow: 0px 1px 3px 1px rgba(0, 0, 0, 0.15);\n",
              "      filter: drop-shadow(0px 1px 2px rgba(0, 0, 0, 0.3));\n",
              "      fill: #FFFFFF;\n",
              "    }\n",
              "  </style>\n",
              "\n",
              "      <script>\n",
              "        const buttonEl =\n",
              "          document.querySelector('#df-765aea10-dfc4-455a-9b2b-bee797d8cd8f button.colab-df-convert');\n",
              "        buttonEl.style.display =\n",
              "          google.colab.kernel.accessAllowed ? 'block' : 'none';\n",
              "\n",
              "        async function convertToInteractive(key) {\n",
              "          const element = document.querySelector('#df-765aea10-dfc4-455a-9b2b-bee797d8cd8f');\n",
              "          const dataTable =\n",
              "            await google.colab.kernel.invokeFunction('convertToInteractive',\n",
              "                                                     [key], {});\n",
              "          if (!dataTable) return;\n",
              "\n",
              "          const docLinkHtml = 'Like what you see? Visit the ' +\n",
              "            '<a target=\"_blank\" href=https://colab.research.google.com/notebooks/data_table.ipynb>data table notebook</a>'\n",
              "            + ' to learn more about interactive tables.';\n",
              "          element.innerHTML = '';\n",
              "          dataTable['output_type'] = 'display_data';\n",
              "          await google.colab.output.renderOutput(dataTable, element);\n",
              "          const docLink = document.createElement('div');\n",
              "          docLink.innerHTML = docLinkHtml;\n",
              "          element.appendChild(docLink);\n",
              "        }\n",
              "      </script>\n",
              "    </div>\n",
              "  </div>\n",
              "  "
            ]
          },
          "metadata": {},
          "execution_count": 71
        }
      ]
    },
    {
      "cell_type": "code",
      "source": [
        "print(\"deaths_df now has\", deaths_df.shape[0], \"rows and\", deaths_df.shape[1], \"columns.\")"
      ],
      "metadata": {
        "id": "aIEwmfI_Kpy6",
        "colab": {
          "base_uri": "https://localhost:8080/"
        },
        "outputId": "8e08acc1-fba2-4a09-c431-b8cc8e9e57dd"
      },
      "execution_count": null,
      "outputs": [
        {
          "output_type": "stream",
          "name": "stdout",
          "text": [
            "deaths_df now has 1026 rows and 6 columns.\n"
          ]
        }
      ]
    },
    {
      "cell_type": "markdown",
      "source": [
        "Let's check the data types of each of our columns."
      ],
      "metadata": {
        "id": "rtdxB2y09bGe"
      }
    },
    {
      "cell_type": "code",
      "source": [
        "# Getting the types of the columns for deaths_df\n",
        "deaths_df.dtypes"
      ],
      "metadata": {
        "id": "PAJV2u-NKxRh",
        "colab": {
          "base_uri": "https://localhost:8080/"
        },
        "outputId": "a86ecaec-7307-45a2-e056-b3a1a8d10e53"
      },
      "execution_count": null,
      "outputs": [
        {
          "output_type": "execute_result",
          "data": {
            "text/plain": [
              "Province/State     object\n",
              "Country/Region     object\n",
              "Lat               float64\n",
              "Long              float64\n",
              "Date               object\n",
              "deaths              int64\n",
              "dtype: object"
            ]
          },
          "metadata": {},
          "execution_count": 73
        }
      ]
    },
    {
      "cell_type": "markdown",
      "source": [
        "As with the confirmed cases data, from the output above, we can see that for deaths data, Province/State and Date have object type of data. We have to format Date as datetime format and Province/State as string."
      ],
      "metadata": {
        "id": "CBQkH2jPK67s"
      }
    },
    {
      "cell_type": "code",
      "source": [
        "# formatting 'Province/State' as string\n",
        "deaths_df['Province/State'] = deaths_df['Province/State'].astype(\"string\")"
      ],
      "metadata": {
        "id": "ydXc_rFqLFy5"
      },
      "execution_count": null,
      "outputs": []
    },
    {
      "cell_type": "code",
      "source": [
        "# formatting 'Date' as datetime\n",
        "deaths_df['Date'] = pd.to_datetime(deaths_df['Date'], format=\"%m/%d/%y\")"
      ],
      "metadata": {
        "id": "h8o-VjJfLJtZ"
      },
      "execution_count": null,
      "outputs": []
    },
    {
      "cell_type": "markdown",
      "source": [
        "Let's check the types again. And visualize the changes to the Date column."
      ],
      "metadata": {
        "id": "Wd3DV6GV94A_"
      }
    },
    {
      "cell_type": "code",
      "source": [
        "deaths_df.dtypes"
      ],
      "metadata": {
        "colab": {
          "base_uri": "https://localhost:8080/"
        },
        "id": "ymKE1ic196Hi",
        "outputId": "6f35bf10-a734-4904-8fbd-bb946e27c1ad"
      },
      "execution_count": null,
      "outputs": [
        {
          "output_type": "execute_result",
          "data": {
            "text/plain": [
              "Province/State            string\n",
              "Country/Region            object\n",
              "Lat                      float64\n",
              "Long                     float64\n",
              "Date              datetime64[ns]\n",
              "deaths                     int64\n",
              "dtype: object"
            ]
          },
          "metadata": {},
          "execution_count": 76
        }
      ]
    },
    {
      "cell_type": "code",
      "source": [
        "# visualizing the changes\n",
        "deaths_df.head()"
      ],
      "metadata": {
        "id": "zU-97ELXMfOy",
        "colab": {
          "base_uri": "https://localhost:8080/"
        },
        "outputId": "a103d559-ca74-44b4-ade2-7482c89598d3"
      },
      "execution_count": null,
      "outputs": [
        {
          "output_type": "execute_result",
          "data": {
            "text/plain": [
              "  Province/State Country/Region      Lat      Long       Date  deaths\n",
              "0        Beijing          China  40.1824  116.4142 2020-01-22       0\n",
              "1       Shanghai          China  31.2020  121.4491 2020-01-22       0\n",
              "2        Beijing          China  40.1824  116.4142 2020-01-23       0\n",
              "3       Shanghai          China  31.2020  121.4491 2020-01-23       0\n",
              "4        Beijing          China  40.1824  116.4142 2020-01-24       0"
            ],
            "text/html": [
              "\n",
              "  <div id=\"df-0abc696b-5ca9-4dc1-9fc2-4fc68d011830\">\n",
              "    <div class=\"colab-df-container\">\n",
              "      <div>\n",
              "<style scoped>\n",
              "    .dataframe tbody tr th:only-of-type {\n",
              "        vertical-align: middle;\n",
              "    }\n",
              "\n",
              "    .dataframe tbody tr th {\n",
              "        vertical-align: top;\n",
              "    }\n",
              "\n",
              "    .dataframe thead th {\n",
              "        text-align: right;\n",
              "    }\n",
              "</style>\n",
              "<table border=\"1\" class=\"dataframe\">\n",
              "  <thead>\n",
              "    <tr style=\"text-align: right;\">\n",
              "      <th></th>\n",
              "      <th>Province/State</th>\n",
              "      <th>Country/Region</th>\n",
              "      <th>Lat</th>\n",
              "      <th>Long</th>\n",
              "      <th>Date</th>\n",
              "      <th>deaths</th>\n",
              "    </tr>\n",
              "  </thead>\n",
              "  <tbody>\n",
              "    <tr>\n",
              "      <th>0</th>\n",
              "      <td>Beijing</td>\n",
              "      <td>China</td>\n",
              "      <td>40.1824</td>\n",
              "      <td>116.4142</td>\n",
              "      <td>2020-01-22</td>\n",
              "      <td>0</td>\n",
              "    </tr>\n",
              "    <tr>\n",
              "      <th>1</th>\n",
              "      <td>Shanghai</td>\n",
              "      <td>China</td>\n",
              "      <td>31.2020</td>\n",
              "      <td>121.4491</td>\n",
              "      <td>2020-01-22</td>\n",
              "      <td>0</td>\n",
              "    </tr>\n",
              "    <tr>\n",
              "      <th>2</th>\n",
              "      <td>Beijing</td>\n",
              "      <td>China</td>\n",
              "      <td>40.1824</td>\n",
              "      <td>116.4142</td>\n",
              "      <td>2020-01-23</td>\n",
              "      <td>0</td>\n",
              "    </tr>\n",
              "    <tr>\n",
              "      <th>3</th>\n",
              "      <td>Shanghai</td>\n",
              "      <td>China</td>\n",
              "      <td>31.2020</td>\n",
              "      <td>121.4491</td>\n",
              "      <td>2020-01-23</td>\n",
              "      <td>0</td>\n",
              "    </tr>\n",
              "    <tr>\n",
              "      <th>4</th>\n",
              "      <td>Beijing</td>\n",
              "      <td>China</td>\n",
              "      <td>40.1824</td>\n",
              "      <td>116.4142</td>\n",
              "      <td>2020-01-24</td>\n",
              "      <td>0</td>\n",
              "    </tr>\n",
              "  </tbody>\n",
              "</table>\n",
              "</div>\n",
              "      <button class=\"colab-df-convert\" onclick=\"convertToInteractive('df-0abc696b-5ca9-4dc1-9fc2-4fc68d011830')\"\n",
              "              title=\"Convert this dataframe to an interactive table.\"\n",
              "              style=\"display:none;\">\n",
              "        \n",
              "  <svg xmlns=\"http://www.w3.org/2000/svg\" height=\"24px\"viewBox=\"0 0 24 24\"\n",
              "       width=\"24px\">\n",
              "    <path d=\"M0 0h24v24H0V0z\" fill=\"none\"/>\n",
              "    <path d=\"M18.56 5.44l.94 2.06.94-2.06 2.06-.94-2.06-.94-.94-2.06-.94 2.06-2.06.94zm-11 1L8.5 8.5l.94-2.06 2.06-.94-2.06-.94L8.5 2.5l-.94 2.06-2.06.94zm10 10l.94 2.06.94-2.06 2.06-.94-2.06-.94-.94-2.06-.94 2.06-2.06.94z\"/><path d=\"M17.41 7.96l-1.37-1.37c-.4-.4-.92-.59-1.43-.59-.52 0-1.04.2-1.43.59L10.3 9.45l-7.72 7.72c-.78.78-.78 2.05 0 2.83L4 21.41c.39.39.9.59 1.41.59.51 0 1.02-.2 1.41-.59l7.78-7.78 2.81-2.81c.8-.78.8-2.07 0-2.86zM5.41 20L4 18.59l7.72-7.72 1.47 1.35L5.41 20z\"/>\n",
              "  </svg>\n",
              "      </button>\n",
              "      \n",
              "  <style>\n",
              "    .colab-df-container {\n",
              "      display:flex;\n",
              "      flex-wrap:wrap;\n",
              "      gap: 12px;\n",
              "    }\n",
              "\n",
              "    .colab-df-convert {\n",
              "      background-color: #E8F0FE;\n",
              "      border: none;\n",
              "      border-radius: 50%;\n",
              "      cursor: pointer;\n",
              "      display: none;\n",
              "      fill: #1967D2;\n",
              "      height: 32px;\n",
              "      padding: 0 0 0 0;\n",
              "      width: 32px;\n",
              "    }\n",
              "\n",
              "    .colab-df-convert:hover {\n",
              "      background-color: #E2EBFA;\n",
              "      box-shadow: 0px 1px 2px rgba(60, 64, 67, 0.3), 0px 1px 3px 1px rgba(60, 64, 67, 0.15);\n",
              "      fill: #174EA6;\n",
              "    }\n",
              "\n",
              "    [theme=dark] .colab-df-convert {\n",
              "      background-color: #3B4455;\n",
              "      fill: #D2E3FC;\n",
              "    }\n",
              "\n",
              "    [theme=dark] .colab-df-convert:hover {\n",
              "      background-color: #434B5C;\n",
              "      box-shadow: 0px 1px 3px 1px rgba(0, 0, 0, 0.15);\n",
              "      filter: drop-shadow(0px 1px 2px rgba(0, 0, 0, 0.3));\n",
              "      fill: #FFFFFF;\n",
              "    }\n",
              "  </style>\n",
              "\n",
              "      <script>\n",
              "        const buttonEl =\n",
              "          document.querySelector('#df-0abc696b-5ca9-4dc1-9fc2-4fc68d011830 button.colab-df-convert');\n",
              "        buttonEl.style.display =\n",
              "          google.colab.kernel.accessAllowed ? 'block' : 'none';\n",
              "\n",
              "        async function convertToInteractive(key) {\n",
              "          const element = document.querySelector('#df-0abc696b-5ca9-4dc1-9fc2-4fc68d011830');\n",
              "          const dataTable =\n",
              "            await google.colab.kernel.invokeFunction('convertToInteractive',\n",
              "                                                     [key], {});\n",
              "          if (!dataTable) return;\n",
              "\n",
              "          const docLinkHtml = 'Like what you see? Visit the ' +\n",
              "            '<a target=\"_blank\" href=https://colab.research.google.com/notebooks/data_table.ipynb>data table notebook</a>'\n",
              "            + ' to learn more about interactive tables.';\n",
              "          element.innerHTML = '';\n",
              "          dataTable['output_type'] = 'display_data';\n",
              "          await google.colab.output.renderOutput(dataTable, element);\n",
              "          const docLink = document.createElement('div');\n",
              "          docLink.innerHTML = docLinkHtml;\n",
              "          element.appendChild(docLink);\n",
              "        }\n",
              "      </script>\n",
              "    </div>\n",
              "  </div>\n",
              "  "
            ]
          },
          "metadata": {},
          "execution_count": 77
        }
      ]
    },
    {
      "cell_type": "markdown",
      "source": [
        "Now that we have all the variables in the correct format, let's rename 'Province/State' to City."
      ],
      "metadata": {
        "id": "q3YrtkUaLai_"
      }
    },
    {
      "cell_type": "code",
      "source": [
        "deaths_df.rename(columns={\"Province/State\": \"City\"}, inplace=True)\n",
        "deaths_df.columns"
      ],
      "metadata": {
        "id": "UVcJSuojLbz_",
        "colab": {
          "base_uri": "https://localhost:8080/"
        },
        "outputId": "69523be2-c29c-4f97-e217-ef3bac5336e9"
      },
      "execution_count": null,
      "outputs": [
        {
          "output_type": "execute_result",
          "data": {
            "text/plain": [
              "Index(['City', 'Country/Region', 'Lat', 'Long', 'Date', 'deaths'], dtype='object')"
            ]
          },
          "metadata": {},
          "execution_count": 78
        }
      ]
    },
    {
      "cell_type": "markdown",
      "source": [
        "Same as before, let's drop the columns 'Country/Region', 'Lat' and 'Long' as they won't be needed for further analysis."
      ],
      "metadata": {
        "id": "JMJA9Qnr-S3A"
      }
    },
    {
      "cell_type": "code",
      "source": [
        "# Dropping columns 'Country/Region', 'Lat' and 'Long'\n",
        "deaths_df = deaths_df.drop(columns=['Country/Region','Lat','Long'])\n",
        "deaths_df.head()"
      ],
      "metadata": {
        "id": "-tzs_WJCKEAp",
        "colab": {
          "base_uri": "https://localhost:8080/"
        },
        "outputId": "d98eed4f-2370-4a33-8ac4-a749b4981b2a"
      },
      "execution_count": null,
      "outputs": [
        {
          "output_type": "execute_result",
          "data": {
            "text/plain": [
              "       City       Date  deaths\n",
              "0   Beijing 2020-01-22       0\n",
              "1  Shanghai 2020-01-22       0\n",
              "2   Beijing 2020-01-23       0\n",
              "3  Shanghai 2020-01-23       0\n",
              "4   Beijing 2020-01-24       0"
            ],
            "text/html": [
              "\n",
              "  <div id=\"df-ec055b4b-3d41-495e-8c4e-547ecb72ea59\">\n",
              "    <div class=\"colab-df-container\">\n",
              "      <div>\n",
              "<style scoped>\n",
              "    .dataframe tbody tr th:only-of-type {\n",
              "        vertical-align: middle;\n",
              "    }\n",
              "\n",
              "    .dataframe tbody tr th {\n",
              "        vertical-align: top;\n",
              "    }\n",
              "\n",
              "    .dataframe thead th {\n",
              "        text-align: right;\n",
              "    }\n",
              "</style>\n",
              "<table border=\"1\" class=\"dataframe\">\n",
              "  <thead>\n",
              "    <tr style=\"text-align: right;\">\n",
              "      <th></th>\n",
              "      <th>City</th>\n",
              "      <th>Date</th>\n",
              "      <th>deaths</th>\n",
              "    </tr>\n",
              "  </thead>\n",
              "  <tbody>\n",
              "    <tr>\n",
              "      <th>0</th>\n",
              "      <td>Beijing</td>\n",
              "      <td>2020-01-22</td>\n",
              "      <td>0</td>\n",
              "    </tr>\n",
              "    <tr>\n",
              "      <th>1</th>\n",
              "      <td>Shanghai</td>\n",
              "      <td>2020-01-22</td>\n",
              "      <td>0</td>\n",
              "    </tr>\n",
              "    <tr>\n",
              "      <th>2</th>\n",
              "      <td>Beijing</td>\n",
              "      <td>2020-01-23</td>\n",
              "      <td>0</td>\n",
              "    </tr>\n",
              "    <tr>\n",
              "      <th>3</th>\n",
              "      <td>Shanghai</td>\n",
              "      <td>2020-01-23</td>\n",
              "      <td>0</td>\n",
              "    </tr>\n",
              "    <tr>\n",
              "      <th>4</th>\n",
              "      <td>Beijing</td>\n",
              "      <td>2020-01-24</td>\n",
              "      <td>0</td>\n",
              "    </tr>\n",
              "  </tbody>\n",
              "</table>\n",
              "</div>\n",
              "      <button class=\"colab-df-convert\" onclick=\"convertToInteractive('df-ec055b4b-3d41-495e-8c4e-547ecb72ea59')\"\n",
              "              title=\"Convert this dataframe to an interactive table.\"\n",
              "              style=\"display:none;\">\n",
              "        \n",
              "  <svg xmlns=\"http://www.w3.org/2000/svg\" height=\"24px\"viewBox=\"0 0 24 24\"\n",
              "       width=\"24px\">\n",
              "    <path d=\"M0 0h24v24H0V0z\" fill=\"none\"/>\n",
              "    <path d=\"M18.56 5.44l.94 2.06.94-2.06 2.06-.94-2.06-.94-.94-2.06-.94 2.06-2.06.94zm-11 1L8.5 8.5l.94-2.06 2.06-.94-2.06-.94L8.5 2.5l-.94 2.06-2.06.94zm10 10l.94 2.06.94-2.06 2.06-.94-2.06-.94-.94-2.06-.94 2.06-2.06.94z\"/><path d=\"M17.41 7.96l-1.37-1.37c-.4-.4-.92-.59-1.43-.59-.52 0-1.04.2-1.43.59L10.3 9.45l-7.72 7.72c-.78.78-.78 2.05 0 2.83L4 21.41c.39.39.9.59 1.41.59.51 0 1.02-.2 1.41-.59l7.78-7.78 2.81-2.81c.8-.78.8-2.07 0-2.86zM5.41 20L4 18.59l7.72-7.72 1.47 1.35L5.41 20z\"/>\n",
              "  </svg>\n",
              "      </button>\n",
              "      \n",
              "  <style>\n",
              "    .colab-df-container {\n",
              "      display:flex;\n",
              "      flex-wrap:wrap;\n",
              "      gap: 12px;\n",
              "    }\n",
              "\n",
              "    .colab-df-convert {\n",
              "      background-color: #E8F0FE;\n",
              "      border: none;\n",
              "      border-radius: 50%;\n",
              "      cursor: pointer;\n",
              "      display: none;\n",
              "      fill: #1967D2;\n",
              "      height: 32px;\n",
              "      padding: 0 0 0 0;\n",
              "      width: 32px;\n",
              "    }\n",
              "\n",
              "    .colab-df-convert:hover {\n",
              "      background-color: #E2EBFA;\n",
              "      box-shadow: 0px 1px 2px rgba(60, 64, 67, 0.3), 0px 1px 3px 1px rgba(60, 64, 67, 0.15);\n",
              "      fill: #174EA6;\n",
              "    }\n",
              "\n",
              "    [theme=dark] .colab-df-convert {\n",
              "      background-color: #3B4455;\n",
              "      fill: #D2E3FC;\n",
              "    }\n",
              "\n",
              "    [theme=dark] .colab-df-convert:hover {\n",
              "      background-color: #434B5C;\n",
              "      box-shadow: 0px 1px 3px 1px rgba(0, 0, 0, 0.15);\n",
              "      filter: drop-shadow(0px 1px 2px rgba(0, 0, 0, 0.3));\n",
              "      fill: #FFFFFF;\n",
              "    }\n",
              "  </style>\n",
              "\n",
              "      <script>\n",
              "        const buttonEl =\n",
              "          document.querySelector('#df-ec055b4b-3d41-495e-8c4e-547ecb72ea59 button.colab-df-convert');\n",
              "        buttonEl.style.display =\n",
              "          google.colab.kernel.accessAllowed ? 'block' : 'none';\n",
              "\n",
              "        async function convertToInteractive(key) {\n",
              "          const element = document.querySelector('#df-ec055b4b-3d41-495e-8c4e-547ecb72ea59');\n",
              "          const dataTable =\n",
              "            await google.colab.kernel.invokeFunction('convertToInteractive',\n",
              "                                                     [key], {});\n",
              "          if (!dataTable) return;\n",
              "\n",
              "          const docLinkHtml = 'Like what you see? Visit the ' +\n",
              "            '<a target=\"_blank\" href=https://colab.research.google.com/notebooks/data_table.ipynb>data table notebook</a>'\n",
              "            + ' to learn more about interactive tables.';\n",
              "          element.innerHTML = '';\n",
              "          dataTable['output_type'] = 'display_data';\n",
              "          await google.colab.output.renderOutput(dataTable, element);\n",
              "          const docLink = document.createElement('div');\n",
              "          docLink.innerHTML = docLinkHtml;\n",
              "          element.appendChild(docLink);\n",
              "        }\n",
              "      </script>\n",
              "    </div>\n",
              "  </div>\n",
              "  "
            ]
          },
          "metadata": {},
          "execution_count": 79
        }
      ]
    },
    {
      "cell_type": "code",
      "source": [
        "print(\"deaths_df now has\", deaths_df.shape[0], \"rows and\", deaths_df.shape[1], \"columns.\")"
      ],
      "metadata": {
        "colab": {
          "base_uri": "https://localhost:8080/"
        },
        "id": "ebX4zlxKocsM",
        "outputId": "ef89ff91-cc0d-4e34-bec5-3d5f5c356542"
      },
      "execution_count": null,
      "outputs": [
        {
          "output_type": "stream",
          "name": "stdout",
          "text": [
            "deaths_df now has 1026 rows and 3 columns.\n"
          ]
        }
      ]
    },
    {
      "cell_type": "markdown",
      "source": [
        "Now that our deaths dataframe has the same naming convention as the confirmed cases, and we have transformed and cleaned the data, let's join confirmed cases and deaths into a master COVID-19 dataframe, that will then be joined to the AQI dataframe.\n"
      ],
      "metadata": {
        "id": "icQkk8EiL96a"
      }
    },
    {
      "cell_type": "code",
      "source": [
        "covid_df = pd.merge(cases_df, deaths_df,  how='inner', left_on=['City','Date'], right_on = ['City','Date'])\n",
        "covid_df.head()\n"
      ],
      "metadata": {
        "id": "h5vH0eD2L9lT",
        "colab": {
          "base_uri": "https://localhost:8080/"
        },
        "outputId": "e98b1d1f-d935-4492-8516-bb3a09abd6f2"
      },
      "execution_count": null,
      "outputs": [
        {
          "output_type": "execute_result",
          "data": {
            "text/plain": [
              "       City       Date  confirmed_cases  deaths\n",
              "0   Beijing 2020-01-22               14       0\n",
              "1  Shanghai 2020-01-22                9       0\n",
              "2   Beijing 2020-01-23               22       0\n",
              "3  Shanghai 2020-01-23               16       0\n",
              "4   Beijing 2020-01-24               36       0"
            ],
            "text/html": [
              "\n",
              "  <div id=\"df-3bd2a224-f1c8-4050-9a34-a6d2c3169f6d\">\n",
              "    <div class=\"colab-df-container\">\n",
              "      <div>\n",
              "<style scoped>\n",
              "    .dataframe tbody tr th:only-of-type {\n",
              "        vertical-align: middle;\n",
              "    }\n",
              "\n",
              "    .dataframe tbody tr th {\n",
              "        vertical-align: top;\n",
              "    }\n",
              "\n",
              "    .dataframe thead th {\n",
              "        text-align: right;\n",
              "    }\n",
              "</style>\n",
              "<table border=\"1\" class=\"dataframe\">\n",
              "  <thead>\n",
              "    <tr style=\"text-align: right;\">\n",
              "      <th></th>\n",
              "      <th>City</th>\n",
              "      <th>Date</th>\n",
              "      <th>confirmed_cases</th>\n",
              "      <th>deaths</th>\n",
              "    </tr>\n",
              "  </thead>\n",
              "  <tbody>\n",
              "    <tr>\n",
              "      <th>0</th>\n",
              "      <td>Beijing</td>\n",
              "      <td>2020-01-22</td>\n",
              "      <td>14</td>\n",
              "      <td>0</td>\n",
              "    </tr>\n",
              "    <tr>\n",
              "      <th>1</th>\n",
              "      <td>Shanghai</td>\n",
              "      <td>2020-01-22</td>\n",
              "      <td>9</td>\n",
              "      <td>0</td>\n",
              "    </tr>\n",
              "    <tr>\n",
              "      <th>2</th>\n",
              "      <td>Beijing</td>\n",
              "      <td>2020-01-23</td>\n",
              "      <td>22</td>\n",
              "      <td>0</td>\n",
              "    </tr>\n",
              "    <tr>\n",
              "      <th>3</th>\n",
              "      <td>Shanghai</td>\n",
              "      <td>2020-01-23</td>\n",
              "      <td>16</td>\n",
              "      <td>0</td>\n",
              "    </tr>\n",
              "    <tr>\n",
              "      <th>4</th>\n",
              "      <td>Beijing</td>\n",
              "      <td>2020-01-24</td>\n",
              "      <td>36</td>\n",
              "      <td>0</td>\n",
              "    </tr>\n",
              "  </tbody>\n",
              "</table>\n",
              "</div>\n",
              "      <button class=\"colab-df-convert\" onclick=\"convertToInteractive('df-3bd2a224-f1c8-4050-9a34-a6d2c3169f6d')\"\n",
              "              title=\"Convert this dataframe to an interactive table.\"\n",
              "              style=\"display:none;\">\n",
              "        \n",
              "  <svg xmlns=\"http://www.w3.org/2000/svg\" height=\"24px\"viewBox=\"0 0 24 24\"\n",
              "       width=\"24px\">\n",
              "    <path d=\"M0 0h24v24H0V0z\" fill=\"none\"/>\n",
              "    <path d=\"M18.56 5.44l.94 2.06.94-2.06 2.06-.94-2.06-.94-.94-2.06-.94 2.06-2.06.94zm-11 1L8.5 8.5l.94-2.06 2.06-.94-2.06-.94L8.5 2.5l-.94 2.06-2.06.94zm10 10l.94 2.06.94-2.06 2.06-.94-2.06-.94-.94-2.06-.94 2.06-2.06.94z\"/><path d=\"M17.41 7.96l-1.37-1.37c-.4-.4-.92-.59-1.43-.59-.52 0-1.04.2-1.43.59L10.3 9.45l-7.72 7.72c-.78.78-.78 2.05 0 2.83L4 21.41c.39.39.9.59 1.41.59.51 0 1.02-.2 1.41-.59l7.78-7.78 2.81-2.81c.8-.78.8-2.07 0-2.86zM5.41 20L4 18.59l7.72-7.72 1.47 1.35L5.41 20z\"/>\n",
              "  </svg>\n",
              "      </button>\n",
              "      \n",
              "  <style>\n",
              "    .colab-df-container {\n",
              "      display:flex;\n",
              "      flex-wrap:wrap;\n",
              "      gap: 12px;\n",
              "    }\n",
              "\n",
              "    .colab-df-convert {\n",
              "      background-color: #E8F0FE;\n",
              "      border: none;\n",
              "      border-radius: 50%;\n",
              "      cursor: pointer;\n",
              "      display: none;\n",
              "      fill: #1967D2;\n",
              "      height: 32px;\n",
              "      padding: 0 0 0 0;\n",
              "      width: 32px;\n",
              "    }\n",
              "\n",
              "    .colab-df-convert:hover {\n",
              "      background-color: #E2EBFA;\n",
              "      box-shadow: 0px 1px 2px rgba(60, 64, 67, 0.3), 0px 1px 3px 1px rgba(60, 64, 67, 0.15);\n",
              "      fill: #174EA6;\n",
              "    }\n",
              "\n",
              "    [theme=dark] .colab-df-convert {\n",
              "      background-color: #3B4455;\n",
              "      fill: #D2E3FC;\n",
              "    }\n",
              "\n",
              "    [theme=dark] .colab-df-convert:hover {\n",
              "      background-color: #434B5C;\n",
              "      box-shadow: 0px 1px 3px 1px rgba(0, 0, 0, 0.15);\n",
              "      filter: drop-shadow(0px 1px 2px rgba(0, 0, 0, 0.3));\n",
              "      fill: #FFFFFF;\n",
              "    }\n",
              "  </style>\n",
              "\n",
              "      <script>\n",
              "        const buttonEl =\n",
              "          document.querySelector('#df-3bd2a224-f1c8-4050-9a34-a6d2c3169f6d button.colab-df-convert');\n",
              "        buttonEl.style.display =\n",
              "          google.colab.kernel.accessAllowed ? 'block' : 'none';\n",
              "\n",
              "        async function convertToInteractive(key) {\n",
              "          const element = document.querySelector('#df-3bd2a224-f1c8-4050-9a34-a6d2c3169f6d');\n",
              "          const dataTable =\n",
              "            await google.colab.kernel.invokeFunction('convertToInteractive',\n",
              "                                                     [key], {});\n",
              "          if (!dataTable) return;\n",
              "\n",
              "          const docLinkHtml = 'Like what you see? Visit the ' +\n",
              "            '<a target=\"_blank\" href=https://colab.research.google.com/notebooks/data_table.ipynb>data table notebook</a>'\n",
              "            + ' to learn more about interactive tables.';\n",
              "          element.innerHTML = '';\n",
              "          dataTable['output_type'] = 'display_data';\n",
              "          await google.colab.output.renderOutput(dataTable, element);\n",
              "          const docLink = document.createElement('div');\n",
              "          docLink.innerHTML = docLinkHtml;\n",
              "          element.appendChild(docLink);\n",
              "        }\n",
              "      </script>\n",
              "    </div>\n",
              "  </div>\n",
              "  "
            ]
          },
          "metadata": {},
          "execution_count": 81
        }
      ]
    },
    {
      "cell_type": "markdown",
      "source": [
        "Our final dataframe has the following four columns."
      ],
      "metadata": {
        "id": "7x9MmvMA-1XD"
      }
    },
    {
      "cell_type": "code",
      "source": [
        "covid_df.columns"
      ],
      "metadata": {
        "colab": {
          "base_uri": "https://localhost:8080/"
        },
        "id": "yUWLPCRwGXbM",
        "outputId": "661beec2-0c74-4b90-aab7-225463bf525f"
      },
      "execution_count": null,
      "outputs": [
        {
          "output_type": "execute_result",
          "data": {
            "text/plain": [
              "Index(['City', 'Date', 'confirmed_cases', 'deaths'], dtype='object')"
            ]
          },
          "metadata": {},
          "execution_count": 82
        }
      ]
    },
    {
      "cell_type": "markdown",
      "source": [
        "Let's check if our final dataframe has any missing values."
      ],
      "metadata": {
        "id": "8kZOlhOR-j_r"
      }
    },
    {
      "cell_type": "code",
      "source": [
        "covid_df.isna().sum()"
      ],
      "metadata": {
        "colab": {
          "base_uri": "https://localhost:8080/"
        },
        "id": "wpzOM0uEGexg",
        "outputId": "594281a3-93ff-456e-e1ef-1472eeb99b4c"
      },
      "execution_count": null,
      "outputs": [
        {
          "output_type": "execute_result",
          "data": {
            "text/plain": [
              "City               0\n",
              "Date               0\n",
              "confirmed_cases    0\n",
              "deaths             0\n",
              "dtype: int64"
            ]
          },
          "metadata": {},
          "execution_count": 83
        }
      ]
    },
    {
      "cell_type": "code",
      "source": [
        "print(\"The COVID-19 dataframe has\", covid_df.shape[0], \"rows and\", covid_df.shape[1], \"columns.\")"
      ],
      "metadata": {
        "id": "4pyP-0LuI9HN",
        "colab": {
          "base_uri": "https://localhost:8080/"
        },
        "outputId": "ce3f90a8-d12e-46c0-9015-b2cc54f6aed2"
      },
      "execution_count": null,
      "outputs": [
        {
          "output_type": "stream",
          "name": "stdout",
          "text": [
            "The COVID-19 dataframe has 1026 rows and 4 columns.\n"
          ]
        }
      ]
    },
    {
      "cell_type": "markdown",
      "source": [
        "Now that we have completed the cleaning and transformations for both our AQI and COVID-19 data. Let's get to know the data a little more."
      ],
      "metadata": {
        "id": "eLqRSDuqLmdR"
      }
    },
    {
      "cell_type": "markdown",
      "source": [
        "# Descriptive Statistics"
      ],
      "metadata": {
        "id": "Q6cpJluhNlU5"
      }
    },
    {
      "cell_type": "markdown",
      "source": [
        "Now, let's understand the data a little. Let's see the yearly average AQI for each city."
      ],
      "metadata": {
        "id": "IwGH4vmtKe-c"
      }
    },
    {
      "cell_type": "code",
      "source": [
        "China.groupby(['City','Year'])[['AQI']].mean()"
      ],
      "metadata": {
        "colab": {
          "base_uri": "https://localhost:8080/"
        },
        "id": "bWGtCycRKo3k",
        "outputId": "7c4ac861-9379-4278-8202-b9a765498913"
      },
      "execution_count": null,
      "outputs": [
        {
          "output_type": "execute_result",
          "data": {
            "text/plain": [
              "                     AQI\n",
              "City     Year           \n",
              "Beijing  2020  94.218082\n",
              "         2021  95.793132\n",
              "Shanghai 2020  84.248634\n",
              "         2021  80.520282"
            ],
            "text/html": [
              "\n",
              "  <div id=\"df-d8e244c5-eafb-4f8c-abb9-6b1ce04fbf43\">\n",
              "    <div class=\"colab-df-container\">\n",
              "      <div>\n",
              "<style scoped>\n",
              "    .dataframe tbody tr th:only-of-type {\n",
              "        vertical-align: middle;\n",
              "    }\n",
              "\n",
              "    .dataframe tbody tr th {\n",
              "        vertical-align: top;\n",
              "    }\n",
              "\n",
              "    .dataframe thead th {\n",
              "        text-align: right;\n",
              "    }\n",
              "</style>\n",
              "<table border=\"1\" class=\"dataframe\">\n",
              "  <thead>\n",
              "    <tr style=\"text-align: right;\">\n",
              "      <th></th>\n",
              "      <th></th>\n",
              "      <th>AQI</th>\n",
              "    </tr>\n",
              "    <tr>\n",
              "      <th>City</th>\n",
              "      <th>Year</th>\n",
              "      <th></th>\n",
              "    </tr>\n",
              "  </thead>\n",
              "  <tbody>\n",
              "    <tr>\n",
              "      <th rowspan=\"2\" valign=\"top\">Beijing</th>\n",
              "      <th>2020</th>\n",
              "      <td>94.218082</td>\n",
              "    </tr>\n",
              "    <tr>\n",
              "      <th>2021</th>\n",
              "      <td>95.793132</td>\n",
              "    </tr>\n",
              "    <tr>\n",
              "      <th rowspan=\"2\" valign=\"top\">Shanghai</th>\n",
              "      <th>2020</th>\n",
              "      <td>84.248634</td>\n",
              "    </tr>\n",
              "    <tr>\n",
              "      <th>2021</th>\n",
              "      <td>80.520282</td>\n",
              "    </tr>\n",
              "  </tbody>\n",
              "</table>\n",
              "</div>\n",
              "      <button class=\"colab-df-convert\" onclick=\"convertToInteractive('df-d8e244c5-eafb-4f8c-abb9-6b1ce04fbf43')\"\n",
              "              title=\"Convert this dataframe to an interactive table.\"\n",
              "              style=\"display:none;\">\n",
              "        \n",
              "  <svg xmlns=\"http://www.w3.org/2000/svg\" height=\"24px\"viewBox=\"0 0 24 24\"\n",
              "       width=\"24px\">\n",
              "    <path d=\"M0 0h24v24H0V0z\" fill=\"none\"/>\n",
              "    <path d=\"M18.56 5.44l.94 2.06.94-2.06 2.06-.94-2.06-.94-.94-2.06-.94 2.06-2.06.94zm-11 1L8.5 8.5l.94-2.06 2.06-.94-2.06-.94L8.5 2.5l-.94 2.06-2.06.94zm10 10l.94 2.06.94-2.06 2.06-.94-2.06-.94-.94-2.06-.94 2.06-2.06.94z\"/><path d=\"M17.41 7.96l-1.37-1.37c-.4-.4-.92-.59-1.43-.59-.52 0-1.04.2-1.43.59L10.3 9.45l-7.72 7.72c-.78.78-.78 2.05 0 2.83L4 21.41c.39.39.9.59 1.41.59.51 0 1.02-.2 1.41-.59l7.78-7.78 2.81-2.81c.8-.78.8-2.07 0-2.86zM5.41 20L4 18.59l7.72-7.72 1.47 1.35L5.41 20z\"/>\n",
              "  </svg>\n",
              "      </button>\n",
              "      \n",
              "  <style>\n",
              "    .colab-df-container {\n",
              "      display:flex;\n",
              "      flex-wrap:wrap;\n",
              "      gap: 12px;\n",
              "    }\n",
              "\n",
              "    .colab-df-convert {\n",
              "      background-color: #E8F0FE;\n",
              "      border: none;\n",
              "      border-radius: 50%;\n",
              "      cursor: pointer;\n",
              "      display: none;\n",
              "      fill: #1967D2;\n",
              "      height: 32px;\n",
              "      padding: 0 0 0 0;\n",
              "      width: 32px;\n",
              "    }\n",
              "\n",
              "    .colab-df-convert:hover {\n",
              "      background-color: #E2EBFA;\n",
              "      box-shadow: 0px 1px 2px rgba(60, 64, 67, 0.3), 0px 1px 3px 1px rgba(60, 64, 67, 0.15);\n",
              "      fill: #174EA6;\n",
              "    }\n",
              "\n",
              "    [theme=dark] .colab-df-convert {\n",
              "      background-color: #3B4455;\n",
              "      fill: #D2E3FC;\n",
              "    }\n",
              "\n",
              "    [theme=dark] .colab-df-convert:hover {\n",
              "      background-color: #434B5C;\n",
              "      box-shadow: 0px 1px 3px 1px rgba(0, 0, 0, 0.15);\n",
              "      filter: drop-shadow(0px 1px 2px rgba(0, 0, 0, 0.3));\n",
              "      fill: #FFFFFF;\n",
              "    }\n",
              "  </style>\n",
              "\n",
              "      <script>\n",
              "        const buttonEl =\n",
              "          document.querySelector('#df-d8e244c5-eafb-4f8c-abb9-6b1ce04fbf43 button.colab-df-convert');\n",
              "        buttonEl.style.display =\n",
              "          google.colab.kernel.accessAllowed ? 'block' : 'none';\n",
              "\n",
              "        async function convertToInteractive(key) {\n",
              "          const element = document.querySelector('#df-d8e244c5-eafb-4f8c-abb9-6b1ce04fbf43');\n",
              "          const dataTable =\n",
              "            await google.colab.kernel.invokeFunction('convertToInteractive',\n",
              "                                                     [key], {});\n",
              "          if (!dataTable) return;\n",
              "\n",
              "          const docLinkHtml = 'Like what you see? Visit the ' +\n",
              "            '<a target=\"_blank\" href=https://colab.research.google.com/notebooks/data_table.ipynb>data table notebook</a>'\n",
              "            + ' to learn more about interactive tables.';\n",
              "          element.innerHTML = '';\n",
              "          dataTable['output_type'] = 'display_data';\n",
              "          await google.colab.output.renderOutput(dataTable, element);\n",
              "          const docLink = document.createElement('div');\n",
              "          docLink.innerHTML = docLinkHtml;\n",
              "          element.appendChild(docLink);\n",
              "        }\n",
              "      </script>\n",
              "    </div>\n",
              "  </div>\n",
              "  "
            ]
          },
          "metadata": {},
          "execution_count": 85
        }
      ]
    },
    {
      "cell_type": "markdown",
      "source": [
        "We can see that Beijing has overall worst air quality than Shanghai. Let's now see the evolution of AQI with a line chart."
      ],
      "metadata": {
        "id": "p2pdB1poOdLy"
      }
    },
    {
      "cell_type": "code",
      "source": [
        "China.groupby(['Year','Month'])['AQI'].mean().plot(ylabel = 'Average AQI', title = 'Monthly Average AQI')"
      ],
      "metadata": {
        "colab": {
          "base_uri": "https://localhost:8080/"
        },
        "id": "NvWbYOf1Rbow",
        "outputId": "069a2551-259b-466a-b9a8-87daa0c3f196"
      },
      "execution_count": null,
      "outputs": [
        {
          "output_type": "execute_result",
          "data": {
            "text/plain": [
              "<matplotlib.axes._subplots.AxesSubplot at 0x7f11b0d76890>"
            ]
          },
          "metadata": {},
          "execution_count": 86
        },
        {
          "output_type": "display_data",
          "data": {
            "text/plain": [
              "<Figure size 432x288 with 1 Axes>"
            ],
            "image/png": "[encoded data removed]"
          },
          "metadata": {
            "needs_background": "light"
          }
        }
      ]
    },
    {
      "cell_type": "markdown",
      "source": [
        "The graph before represents the monthly average AQI for both cities, now let's see how it changes for each city separately."
      ],
      "metadata": {
        "id": "xJKPz7ctRn3E"
      }
    },
    {
      "cell_type": "code",
      "source": [
        "China[China['City']=='Beijing'].groupby(['Year','Month'])['AQI'].mean().plot(ylabel = 'Average AQI', title = 'Monthly Average AQI for Beijing')"
      ],
      "metadata": {
        "colab": {
          "base_uri": "https://localhost:8080/"
        },
        "id": "TLCDI3P3RxIR",
        "outputId": "55465170-cdc2-4ade-936d-36af3b39e365"
      },
      "execution_count": null,
      "outputs": [
        {
          "output_type": "execute_result",
          "data": {
            "text/plain": [
              "<matplotlib.axes._subplots.AxesSubplot at 0x7f11b0d32bd0>"
            ]
          },
          "metadata": {},
          "execution_count": 87
        },
        {
          "output_type": "display_data",
          "data": {
            "text/plain": [
              "<Figure size 432x288 with 1 Axes>"
            ],
            "image/png": "[encoded data removed]"
          },
          "metadata": {
            "needs_background": "light"
          }
        }
      ]
    },
    {
      "cell_type": "code",
      "source": [
        "China[China['City']=='Shanghai'].groupby(['Year','Month'])['AQI'].mean().plot(ylabel = 'Average AQI', title = 'Monthly Average AQI for Shanghai')"
      ],
      "metadata": {
        "colab": {
          "base_uri": "https://localhost:8080/"
        },
        "id": "lgN0O4QQR37I",
        "outputId": "9d973f51-7a34-448b-e340-03bbcb1d2275"
      },
      "execution_count": null,
      "outputs": [
        {
          "output_type": "execute_result",
          "data": {
            "text/plain": [
              "<matplotlib.axes._subplots.AxesSubplot at 0x7f11b0859150>"
            ]
          },
          "metadata": {},
          "execution_count": 88
        },
        {
          "output_type": "display_data",
          "data": {
            "text/plain": [
              "<Figure size 432x288 with 1 Axes>"
            ],
            "image/png": "[encoded data removed]"
          },
          "metadata": {
            "needs_background": "light"
          }
        }
      ]
    },
    {
      "cell_type": "markdown",
      "source": [
        "Now, let's see the total of cases and deaths for each year and each city using the groupby method."
      ],
      "metadata": {
        "id": "3t1PK0xTMi-n"
      }
    },
    {
      "cell_type": "code",
      "source": [
        "covid_df.groupby(['City',covid_df['Date'].dt.year]).sum()"
      ],
      "metadata": {
        "colab": {
          "base_uri": "https://localhost:8080/"
        },
        "id": "DwhYv12iPvJu",
        "outputId": "14dffc81-688c-4922-e73d-a0b2743212c6"
      },
      "execution_count": null,
      "outputs": [
        {
          "output_type": "execute_result",
          "data": {
            "text/plain": [
              "               confirmed_cases  deaths\n",
              "City     Date                         \n",
              "Beijing  2020           256540    2796\n",
              "         2021           175691    1512\n",
              "Shanghai 2020           273506    2082\n",
              "         2021           313776    1176"
            ],
            "text/html": [
              "\n",
              "  <div id=\"df-60f33801-cdfd-4006-95de-ed4159a5e11c\">\n",
              "    <div class=\"colab-df-container\">\n",
              "      <div>\n",
              "<style scoped>\n",
              "    .dataframe tbody tr th:only-of-type {\n",
              "        vertical-align: middle;\n",
              "    }\n",
              "\n",
              "    .dataframe tbody tr th {\n",
              "        vertical-align: top;\n",
              "    }\n",
              "\n",
              "    .dataframe thead th {\n",
              "        text-align: right;\n",
              "    }\n",
              "</style>\n",
              "<table border=\"1\" class=\"dataframe\">\n",
              "  <thead>\n",
              "    <tr style=\"text-align: right;\">\n",
              "      <th></th>\n",
              "      <th></th>\n",
              "      <th>confirmed_cases</th>\n",
              "      <th>deaths</th>\n",
              "    </tr>\n",
              "    <tr>\n",
              "      <th>City</th>\n",
              "      <th>Date</th>\n",
              "      <th></th>\n",
              "      <th></th>\n",
              "    </tr>\n",
              "  </thead>\n",
              "  <tbody>\n",
              "    <tr>\n",
              "      <th rowspan=\"2\" valign=\"top\">Beijing</th>\n",
              "      <th>2020</th>\n",
              "      <td>256540</td>\n",
              "      <td>2796</td>\n",
              "    </tr>\n",
              "    <tr>\n",
              "      <th>2021</th>\n",
              "      <td>175691</td>\n",
              "      <td>1512</td>\n",
              "    </tr>\n",
              "    <tr>\n",
              "      <th rowspan=\"2\" valign=\"top\">Shanghai</th>\n",
              "      <th>2020</th>\n",
              "      <td>273506</td>\n",
              "      <td>2082</td>\n",
              "    </tr>\n",
              "    <tr>\n",
              "      <th>2021</th>\n",
              "      <td>313776</td>\n",
              "      <td>1176</td>\n",
              "    </tr>\n",
              "  </tbody>\n",
              "</table>\n",
              "</div>\n",
              "      <button class=\"colab-df-convert\" onclick=\"convertToInteractive('df-60f33801-cdfd-4006-95de-ed4159a5e11c')\"\n",
              "              title=\"Convert this dataframe to an interactive table.\"\n",
              "              style=\"display:none;\">\n",
              "        \n",
              "  <svg xmlns=\"http://www.w3.org/2000/svg\" height=\"24px\"viewBox=\"0 0 24 24\"\n",
              "       width=\"24px\">\n",
              "    <path d=\"M0 0h24v24H0V0z\" fill=\"none\"/>\n",
              "    <path d=\"M18.56 5.44l.94 2.06.94-2.06 2.06-.94-2.06-.94-.94-2.06-.94 2.06-2.06.94zm-11 1L8.5 8.5l.94-2.06 2.06-.94-2.06-.94L8.5 2.5l-.94 2.06-2.06.94zm10 10l.94 2.06.94-2.06 2.06-.94-2.06-.94-.94-2.06-.94 2.06-2.06.94z\"/><path d=\"M17.41 7.96l-1.37-1.37c-.4-.4-.92-.59-1.43-.59-.52 0-1.04.2-1.43.59L10.3 9.45l-7.72 7.72c-.78.78-.78 2.05 0 2.83L4 21.41c.39.39.9.59 1.41.59.51 0 1.02-.2 1.41-.59l7.78-7.78 2.81-2.81c.8-.78.8-2.07 0-2.86zM5.41 20L4 18.59l7.72-7.72 1.47 1.35L5.41 20z\"/>\n",
              "  </svg>\n",
              "      </button>\n",
              "      \n",
              "  <style>\n",
              "    .colab-df-container {\n",
              "      display:flex;\n",
              "      flex-wrap:wrap;\n",
              "      gap: 12px;\n",
              "    }\n",
              "\n",
              "    .colab-df-convert {\n",
              "      background-color: #E8F0FE;\n",
              "      border: none;\n",
              "      border-radius: 50%;\n",
              "      cursor: pointer;\n",
              "      display: none;\n",
              "      fill: #1967D2;\n",
              "      height: 32px;\n",
              "      padding: 0 0 0 0;\n",
              "      width: 32px;\n",
              "    }\n",
              "\n",
              "    .colab-df-convert:hover {\n",
              "      background-color: #E2EBFA;\n",
              "      box-shadow: 0px 1px 2px rgba(60, 64, 67, 0.3), 0px 1px 3px 1px rgba(60, 64, 67, 0.15);\n",
              "      fill: #174EA6;\n",
              "    }\n",
              "\n",
              "    [theme=dark] .colab-df-convert {\n",
              "      background-color: #3B4455;\n",
              "      fill: #D2E3FC;\n",
              "    }\n",
              "\n",
              "    [theme=dark] .colab-df-convert:hover {\n",
              "      background-color: #434B5C;\n",
              "      box-shadow: 0px 1px 3px 1px rgba(0, 0, 0, 0.15);\n",
              "      filter: drop-shadow(0px 1px 2px rgba(0, 0, 0, 0.3));\n",
              "      fill: #FFFFFF;\n",
              "    }\n",
              "  </style>\n",
              "\n",
              "      <script>\n",
              "        const buttonEl =\n",
              "          document.querySelector('#df-60f33801-cdfd-4006-95de-ed4159a5e11c button.colab-df-convert');\n",
              "        buttonEl.style.display =\n",
              "          google.colab.kernel.accessAllowed ? 'block' : 'none';\n",
              "\n",
              "        async function convertToInteractive(key) {\n",
              "          const element = document.querySelector('#df-60f33801-cdfd-4006-95de-ed4159a5e11c');\n",
              "          const dataTable =\n",
              "            await google.colab.kernel.invokeFunction('convertToInteractive',\n",
              "                                                     [key], {});\n",
              "          if (!dataTable) return;\n",
              "\n",
              "          const docLinkHtml = 'Like what you see? Visit the ' +\n",
              "            '<a target=\"_blank\" href=https://colab.research.google.com/notebooks/data_table.ipynb>data table notebook</a>'\n",
              "            + ' to learn more about interactive tables.';\n",
              "          element.innerHTML = '';\n",
              "          dataTable['output_type'] = 'display_data';\n",
              "          await google.colab.output.renderOutput(dataTable, element);\n",
              "          const docLink = document.createElement('div');\n",
              "          docLink.innerHTML = docLinkHtml;\n",
              "          element.appendChild(docLink);\n",
              "        }\n",
              "      </script>\n",
              "    </div>\n",
              "  </div>\n",
              "  "
            ]
          },
          "metadata": {},
          "execution_count": 89
        }
      ]
    },
    {
      "cell_type": "markdown",
      "source": [
        "For both years, confirmed cases were higher in the city of Shanghai. However, deaths were higher in the city of Beijing. Let's visualize the evolution of cases in a line chart.\n",
        "\n",
        "First, let's see the trends for both cities combined."
      ],
      "metadata": {
        "id": "aiCi50zMP_5y"
      }
    },
    {
      "cell_type": "code",
      "source": [
        "covid_df.groupby([covid_df['Date'].dt.year,covid_df['Date'].dt.month])['confirmed_cases'].sum().plot(xlabel = '(Year, Month)', ylabel = 'Number of Confirmed Cases', \n",
        "                                                                                                                                  title = 'Total Number of Confirmed Cases')"
      ],
      "metadata": {
        "colab": {
          "base_uri": "https://localhost:8080/"
        },
        "id": "OGfdwCHaYN24",
        "outputId": "eee4a5e9-edd6-4f3c-aed7-f886b43c52dc"
      },
      "execution_count": null,
      "outputs": [
        {
          "output_type": "execute_result",
          "data": {
            "text/plain": [
              "<matplotlib.axes._subplots.AxesSubplot at 0x7f11b07cc210>"
            ]
          },
          "metadata": {},
          "execution_count": 90
        },
        {
          "output_type": "display_data",
          "data": {
            "text/plain": [
              "<Figure size 432x288 with 1 Axes>"
            ],
            "image/png": "[encoded data removed]"
          },
          "metadata": {
            "needs_background": "light"
          }
        }
      ]
    },
    {
      "cell_type": "code",
      "source": [
        "covid_df.groupby([covid_df['Date'].dt.year,covid_df['Date'].dt.month])['deaths'].sum().plot(xlabel = '(Year, Month)', ylabel = 'Number of Deaths',\n",
        "                                                                                                                         title = 'Total Number of Deaths')"
      ],
      "metadata": {
        "colab": {
          "base_uri": "https://localhost:8080/"
        },
        "id": "PRqBkE6bYTVo",
        "outputId": "792e2862-0e9e-4973-a503-5da497f2caeb"
      },
      "execution_count": null,
      "outputs": [
        {
          "output_type": "execute_result",
          "data": {
            "text/plain": [
              "<matplotlib.axes._subplots.AxesSubplot at 0x7f11b07cc350>"
            ]
          },
          "metadata": {},
          "execution_count": 91
        },
        {
          "output_type": "display_data",
          "data": {
            "text/plain": [
              "<Figure size 432x288 with 1 Axes>"
            ],
            "image/png": "[encoded data removed]"
          },
          "metadata": {
            "needs_background": "light"
          }
        }
      ]
    },
    {
      "cell_type": "code",
      "source": [
        "covid_df.groupby([covid_df['Date'].dt.year,covid_df['Date'].dt.month]).sum().plot(xlabel = '(Year, Month)', ylabel = 'Number of Cases and Deaths',\n",
        "                                                                                                               title = 'Total Number of Confirmed Cases and Deaths')"
      ],
      "metadata": {
        "colab": {
          "base_uri": "https://localhost:8080/"
        },
        "id": "N6L21N6gYbtU",
        "outputId": "52931d3c-5b85-46fa-ff22-c6a6fb73ecfd"
      },
      "execution_count": null,
      "outputs": [
        {
          "output_type": "execute_result",
          "data": {
            "text/plain": [
              "<matplotlib.axes._subplots.AxesSubplot at 0x7f11b06b0910>"
            ]
          },
          "metadata": {},
          "execution_count": 92
        },
        {
          "output_type": "display_data",
          "data": {
            "text/plain": [
              "<Figure size 432x288 with 1 Axes>"
            ],
            "image/png": "[encoded data removed]"
          },
          "metadata": {
            "needs_background": "light"
          }
        }
      ]
    },
    {
      "cell_type": "markdown",
      "source": [
        "Now, let's see the trend for the city of Beijing."
      ],
      "metadata": {
        "id": "LtYx19pJYgOU"
      }
    },
    {
      "cell_type": "code",
      "source": [
        "covid_df[covid_df['City']=='Beijing'].groupby([covid_df['Date'].dt.year,covid_df['Date'].dt.month])['confirmed_cases'].sum().plot(xlabel = '(Year, Month)', ylabel = 'Number of Confirmed Cases', \n",
        "                                                                                                                                  title = 'Total Number of Confirmed Cases for Beijing')"
      ],
      "metadata": {
        "colab": {
          "base_uri": "https://localhost:8080/"
        },
        "id": "XyOjjJPGMn-d",
        "outputId": "dfed837f-b66d-492b-b082-b74ae1ea9ccc"
      },
      "execution_count": null,
      "outputs": [
        {
          "output_type": "execute_result",
          "data": {
            "text/plain": [
              "<matplotlib.axes._subplots.AxesSubplot at 0x7f11b06a0bd0>"
            ]
          },
          "metadata": {},
          "execution_count": 93
        },
        {
          "output_type": "display_data",
          "data": {
            "text/plain": [
              "<Figure size 432x288 with 1 Axes>"
            ],
            "image/png": "[encoded data removed]"
          },
          "metadata": {
            "needs_background": "light"
          }
        }
      ]
    },
    {
      "cell_type": "code",
      "source": [
        "covid_df[covid_df['City']=='Beijing'].groupby([covid_df['Date'].dt.year,covid_df['Date'].dt.month])['deaths'].sum().plot(xlabel = '(Year, Month)', ylabel = 'Number of Deaths',\n",
        "                                                                                                                         title = 'Total Number of Deaths for Beijing')"
      ],
      "metadata": {
        "colab": {
          "base_uri": "https://localhost:8080/"
        },
        "id": "l3k9EExBQri9",
        "outputId": "1c319df5-97ff-4979-8c33-398b26499064"
      },
      "execution_count": null,
      "outputs": [
        {
          "output_type": "execute_result",
          "data": {
            "text/plain": [
              "<matplotlib.axes._subplots.AxesSubplot at 0x7f11b061b5d0>"
            ]
          },
          "metadata": {},
          "execution_count": 94
        },
        {
          "output_type": "display_data",
          "data": {
            "text/plain": [
              "<Figure size 432x288 with 1 Axes>"
            ],
            "image/png": "[encoded data removed]"
          },
          "metadata": {
            "needs_background": "light"
          }
        }
      ]
    },
    {
      "cell_type": "code",
      "source": [
        "covid_df[covid_df['City']=='Beijing'].groupby([covid_df['Date'].dt.year,covid_df['Date'].dt.month]).sum().plot(xlabel = '(Year, Month)', ylabel = 'Number of Cases and Deaths',\n",
        "                                                                                                               title = 'Total Number of Confirmed Cases and Deaths for Beijing')"
      ],
      "metadata": {
        "colab": {
          "base_uri": "https://localhost:8080/"
        },
        "id": "1hWgzWktQ1lB",
        "outputId": "799860a4-412e-4646-8bb7-915cbf62822e"
      },
      "execution_count": null,
      "outputs": [
        {
          "output_type": "execute_result",
          "data": {
            "text/plain": [
              "<matplotlib.axes._subplots.AxesSubplot at 0x7f11b0589350>"
            ]
          },
          "metadata": {},
          "execution_count": 95
        },
        {
          "output_type": "display_data",
          "data": {
            "text/plain": [
              "<Figure size 432x288 with 1 Axes>"
            ],
            "image/png": "[encoded data removed]"
          },
          "metadata": {
            "needs_background": "light"
          }
        }
      ]
    },
    {
      "cell_type": "markdown",
      "source": [
        "Lastly, let's see the trend for the city of Shanghai."
      ],
      "metadata": {
        "id": "nJEuICRKYyDk"
      }
    },
    {
      "cell_type": "code",
      "source": [
        "covid_df[covid_df['City']=='Shanghai'].groupby([covid_df['Date'].dt.year,covid_df['Date'].dt.month])['confirmed_cases'].sum().plot(xlabel = '(Year, Month)', ylabel = 'Number of Confirmed Cases', \n",
        "                                                                                                                                  title = 'Total Number of Confirmed Cases for Shanghai')"
      ],
      "metadata": {
        "colab": {
          "base_uri": "https://localhost:8080/"
        },
        "id": "JsHDT2xvWVmn",
        "outputId": "3da43620-6f21-48f6-d0d2-4dfb3186e623"
      },
      "execution_count": null,
      "outputs": [
        {
          "output_type": "execute_result",
          "data": {
            "text/plain": [
              "<matplotlib.axes._subplots.AxesSubplot at 0x7f11b05136d0>"
            ]
          },
          "metadata": {},
          "execution_count": 96
        },
        {
          "output_type": "display_data",
          "data": {
            "text/plain": [
              "<Figure size 432x288 with 1 Axes>"
            ],
            "image/png": "[encoded data removed]"
          },
          "metadata": {
            "needs_background": "light"
          }
        }
      ]
    },
    {
      "cell_type": "code",
      "source": [
        "covid_df[covid_df['City']=='Shanghai'].groupby([covid_df['Date'].dt.year,covid_df['Date'].dt.month])['deaths'].sum().plot(xlabel = '(Year, Month)', ylabel = 'Number of Deaths',\n",
        "                                                                                                                         title = 'Total Number of Deaths for Shanghai')"
      ],
      "metadata": {
        "colab": {
          "base_uri": "https://localhost:8080/"
        },
        "id": "j7eM5j2DWNNc",
        "outputId": "62e09f35-4779-46d1-8737-e359b414de6e"
      },
      "execution_count": null,
      "outputs": [
        {
          "output_type": "execute_result",
          "data": {
            "text/plain": [
              "<matplotlib.axes._subplots.AxesSubplot at 0x7f11b048add0>"
            ]
          },
          "metadata": {},
          "execution_count": 97
        },
        {
          "output_type": "display_data",
          "data": {
            "text/plain": [
              "<Figure size 432x288 with 1 Axes>"
            ],
            "image/png": "[encoded data removed]"
          },
          "metadata": {
            "needs_background": "light"
          }
        }
      ]
    },
    {
      "cell_type": "code",
      "source": [
        "covid_df[covid_df['City']=='Shanghai'].groupby([covid_df['Date'].dt.year,covid_df['Date'].dt.month]).sum().plot(xlabel = '(Year, Month)', ylabel = 'Number of Cases and Deaths',\n",
        "                                                                                                               title = 'Total Number of Confirmed Cases and Deaths for Shanghai')"
      ],
      "metadata": {
        "colab": {
          "base_uri": "https://localhost:8080/"
        },
        "id": "X0vTxfUCWe3r",
        "outputId": "d92d1bf9-532f-4a70-911e-db5eb4cefc6d"
      },
      "execution_count": null,
      "outputs": [
        {
          "output_type": "execute_result",
          "data": {
            "text/plain": [
              "<matplotlib.axes._subplots.AxesSubplot at 0x7f11b0456450>"
            ]
          },
          "metadata": {},
          "execution_count": 98
        },
        {
          "output_type": "display_data",
          "data": {
            "text/plain": [
              "<Figure size 432x288 with 1 Axes>"
            ],
            "image/png": "[encoded data removed]"
          },
          "metadata": {
            "needs_background": "light"
          }
        }
      ]
    },
    {
      "cell_type": "markdown",
      "source": [
        "Additionally, let's visualize the distribution of our variables for each dataframe with histograms. Let's start with the AQI data."
      ],
      "metadata": {
        "id": "5ItiLbcmTLaW"
      }
    },
    {
      "cell_type": "code",
      "source": [
        "# AQI data\n",
        "desired_columns = ['AQI', 'NowCast Conc.','Raw Conc.']\n",
        "for column in desired_columns:\n",
        "    fig = plt.figure(figsize=(6,4))\n",
        "    plt.hist(China[column], bins=20)\n",
        "    title = \"Histogram of \" + str(column)\n",
        "    plt.grid(True)\n",
        "    plt.title(title, fontsize=20)\n",
        "    plt.show()\n"
      ],
      "metadata": {
        "colab": {
          "base_uri": "https://localhost:8080/"
        },
        "id": "xP3jeAtCTdt2",
        "outputId": "537876e0-1408-40a7-8c84-cc31e684861e"
      },
      "execution_count": null,
      "outputs": [
        {
          "output_type": "display_data",
          "data": {
            "text/plain": [
              "<Figure size 432x288 with 1 Axes>"
            ],
            "image/png": "[encoded data removed]"
          },
          "metadata": {
            "needs_background": "light"
          }
        },
        {
          "output_type": "display_data",
          "data": {
            "text/plain": [
              "<Figure size 432x288 with 1 Axes>"
            ],
            "image/png": "[encoded data removed]"
          },
          "metadata": {
            "needs_background": "light"
          }
        },
        {
          "output_type": "display_data",
          "data": {
            "text/plain": [
              "<Figure size 432x288 with 1 Axes>"
            ],
            "image/png": "[encoded data removed]"
          },
          "metadata": {
            "needs_background": "light"
          }
        }
      ]
    },
    {
      "cell_type": "markdown",
      "source": [
        "We can see a right skewed distribution in all the variables. AQI is the one closer to the normal distribution. Let's do the same for the covid data."
      ],
      "metadata": {
        "id": "3xaxOJQ3UaJg"
      }
    },
    {
      "cell_type": "code",
      "source": [
        "# COVID data\n",
        "desired_columns = ['confirmed_cases', 'deaths']\n",
        "for column in desired_columns:\n",
        "    fig = plt.figure(figsize=(6,4))\n",
        "    plt.hist(covid_df[column], bins=10)\n",
        "    title = \"Histogram of \" + str(column).replace('_',' ').title()\n",
        "    plt.grid(True)\n",
        "    plt.title(title, fontsize=20)\n",
        "    plt.show()"
      ],
      "metadata": {
        "colab": {
          "base_uri": "https://localhost:8080/"
        },
        "id": "UhDXuA-9Ukno",
        "outputId": "adaf6743-3e76-42d0-b85b-596254931d72"
      },
      "execution_count": null,
      "outputs": [
        {
          "output_type": "display_data",
          "data": {
            "text/plain": [
              "<Figure size 432x288 with 1 Axes>"
            ],
            "image/png": "[encoded data removed]"
          },
          "metadata": {
            "needs_background": "light"
          }
        },
        {
          "output_type": "display_data",
          "data": {
            "text/plain": [
              "<Figure size 432x288 with 1 Axes>"
            ],
            "image/png": "[encoded data removed]"
          },
          "metadata": {
            "needs_background": "light"
          }
        }
      ]
    },
    {
      "cell_type": "markdown",
      "source": [
        "These histograms show highly skewed data for confirmed cases and deaths. Let's visualize outliers with boxplots for both of our dataframes."
      ],
      "metadata": {
        "id": "bUhn3oWoU8Ki"
      }
    },
    {
      "cell_type": "code",
      "source": [
        "# AQI data\n",
        "desired_columns = ['AQI', 'NowCast Conc.','Raw Conc.']\n",
        "for column in desired_columns:\n",
        "    fig = plt.figure(figsize=(6,4))\n",
        "    plt.boxplot(China[column])\n",
        "    title = \"Boxplot of \" + str(column)\n",
        "    plt.grid(True)\n",
        "    plt.xlabel(str(column))\n",
        "    plt.title(title, fontsize=20)\n",
        "    plt.show()"
      ],
      "metadata": {
        "colab": {
          "base_uri": "https://localhost:8080/"
        },
        "id": "qo6K5PafW9to",
        "outputId": "24161f44-cdd5-4fbb-cc74-5b5861167314"
      },
      "execution_count": null,
      "outputs": [
        {
          "output_type": "display_data",
          "data": {
            "text/plain": [
              "<Figure size 432x288 with 1 Axes>"
            ],
            "image/png": "[encoded data removed]"
          },
          "metadata": {
            "needs_background": "light"
          }
        },
        {
          "output_type": "display_data",
          "data": {
            "text/plain": [
              "<Figure size 432x288 with 1 Axes>"
            ],
            "image/png": "[encoded data removed]"
          },
          "metadata": {
            "needs_background": "light"
          }
        },
        {
          "output_type": "display_data",
          "data": {
            "text/plain": [
              "<Figure size 432x288 with 1 Axes>"
            ],
            "image/png": "[encoded data removed]"
          },
          "metadata": {
            "needs_background": "light"
          }
        }
      ]
    },
    {
      "cell_type": "code",
      "source": [
        "# COVID data\n",
        "desired_columns = ['confirmed_cases', 'deaths']\n",
        "for column in desired_columns:\n",
        "    fig = plt.figure(figsize=(6,4))\n",
        "    plt.boxplot(covid_df[column])\n",
        "    title = \"Boxplot of \" + str(column).replace('_',' ').title()\n",
        "    plt.grid(True)\n",
        "    plt.xlabel(str(column).replace('_',' ').title())\n",
        "    plt.title(title, fontsize=20)\n",
        "    plt.show()"
      ],
      "metadata": {
        "colab": {
          "base_uri": "https://localhost:8080/"
        },
        "id": "gL7fnu0pXVMn",
        "outputId": "5db3495a-7f6e-4586-b699-d4426cbfc53d"
      },
      "execution_count": null,
      "outputs": [
        {
          "output_type": "display_data",
          "data": {
            "text/plain": [
              "<Figure size 432x288 with 1 Axes>"
            ],
            "image/png": "[encoded data removed]"
          },
          "metadata": {
            "needs_background": "light"
          }
        },
        {
          "output_type": "display_data",
          "data": {
            "text/plain": [
              "<Figure size 432x288 with 1 Axes>"
            ],
            "image/png": "[encoded data removed]"
          },
          "metadata": {
            "needs_background": "light"
          }
        }
      ]
    },
    {
      "cell_type": "markdown",
      "source": [
        "It's clear that all of our variables have outliers, as all of them have observations out of the range of the boxplots. However, these observations will not be removes as they are real observations and valuable information.\n",
        "\n",
        "Now that we have a better understanding of our data, let's continue by joining both dataframes and realizing a correlation analysis to find out if COVID-19 confirmed cases and deaths are related to air quality."
      ],
      "metadata": {
        "id": "vTva7ULzXwCS"
      }
    },
    {
      "cell_type": "markdown",
      "source": [
        "# AQI and COVID-19 Analysis"
      ],
      "metadata": {
        "id": "CbGyidr0NpZN"
      }
    },
    {
      "cell_type": "markdown",
      "source": [
        "Before joining our AQI dataframe with our COVID-19 dataframe, let's check what the data looks like."
      ],
      "metadata": {
        "id": "ks8qieoHo_g4"
      }
    },
    {
      "cell_type": "code",
      "source": [
        "China.head()"
      ],
      "metadata": {
        "colab": {
          "base_uri": "https://localhost:8080/",
          "height": 206
        },
        "id": "gZUeRtesEOXF",
        "outputId": "a506aebe-db80-4e46-cbac-6588c4aea199"
      },
      "execution_count": null,
      "outputs": [
        {
          "output_type": "execute_result",
          "data": {
            "text/plain": [
              "      City          Parameter  Date (LT)  Year  Month  Day  NowCast Conc.  \\\n",
              "0  Beijing  PM2.5 - Principal 2020-01-01  2020      1    1           31.1   \n",
              "1  Beijing  PM2.5 - Principal 2020-01-02  2020      1    2           50.6   \n",
              "2  Beijing  PM2.5 - Principal 2020-01-03  2020      1    3           49.0   \n",
              "3  Beijing  PM2.5 - Principal 2020-01-04  2020      1    4           36.8   \n",
              "4  Beijing  PM2.5 - Principal 2020-01-05  2020      1    5           61.5   \n",
              "\n",
              "     AQI                    AQI Category  Raw Conc. Conc. Unit QC Name  \n",
              "0   91.7                        Moderate       31.7      UG/M3   Valid  \n",
              "1  135.2  Unhealthy for Sensitive Groups       51.2      UG/M3   Valid  \n",
              "2  126.1  Unhealthy for Sensitive Groups       49.0      UG/M3   Valid  \n",
              "3  100.7  Unhealthy for Sensitive Groups       36.2      UG/M3   Valid  \n",
              "4  153.8                       Unhealthy       62.0      UG/M3   Valid  "
            ],
            "text/html": [
              "\n",
              "  <div id=\"df-fdff3806-d404-402e-a8a9-5e4f0f0ac200\">\n",
              "    <div class=\"colab-df-container\">\n",
              "      <div>\n",
              "<style scoped>\n",
              "    .dataframe tbody tr th:only-of-type {\n",
              "        vertical-align: middle;\n",
              "    }\n",
              "\n",
              "    .dataframe tbody tr th {\n",
              "        vertical-align: top;\n",
              "    }\n",
              "\n",
              "    .dataframe thead th {\n",
              "        text-align: right;\n",
              "    }\n",
              "</style>\n",
              "<table border=\"1\" class=\"dataframe\">\n",
              "  <thead>\n",
              "    <tr style=\"text-align: right;\">\n",
              "      <th></th>\n",
              "      <th>City</th>\n",
              "      <th>Parameter</th>\n",
              "      <th>Date (LT)</th>\n",
              "      <th>Year</th>\n",
              "      <th>Month</th>\n",
              "      <th>Day</th>\n",
              "      <th>NowCast Conc.</th>\n",
              "      <th>AQI</th>\n",
              "      <th>AQI Category</th>\n",
              "      <th>Raw Conc.</th>\n",
              "      <th>Conc. Unit</th>\n",
              "      <th>QC Name</th>\n",
              "    </tr>\n",
              "  </thead>\n",
              "  <tbody>\n",
              "    <tr>\n",
              "      <th>0</th>\n",
              "      <td>Beijing</td>\n",
              "      <td>PM2.5 - Principal</td>\n",
              "      <td>2020-01-01</td>\n",
              "      <td>2020</td>\n",
              "      <td>1</td>\n",
              "      <td>1</td>\n",
              "      <td>31.1</td>\n",
              "      <td>91.7</td>\n",
              "      <td>Moderate</td>\n",
              "      <td>31.7</td>\n",
              "      <td>UG/M3</td>\n",
              "      <td>Valid</td>\n",
              "    </tr>\n",
              "    <tr>\n",
              "      <th>1</th>\n",
              "      <td>Beijing</td>\n",
              "      <td>PM2.5 - Principal</td>\n",
              "      <td>2020-01-02</td>\n",
              "      <td>2020</td>\n",
              "      <td>1</td>\n",
              "      <td>2</td>\n",
              "      <td>50.6</td>\n",
              "      <td>135.2</td>\n",
              "      <td>Unhealthy for Sensitive Groups</td>\n",
              "      <td>51.2</td>\n",
              "      <td>UG/M3</td>\n",
              "      <td>Valid</td>\n",
              "    </tr>\n",
              "    <tr>\n",
              "      <th>2</th>\n",
              "      <td>Beijing</td>\n",
              "      <td>PM2.5 - Principal</td>\n",
              "      <td>2020-01-03</td>\n",
              "      <td>2020</td>\n",
              "      <td>1</td>\n",
              "      <td>3</td>\n",
              "      <td>49.0</td>\n",
              "      <td>126.1</td>\n",
              "      <td>Unhealthy for Sensitive Groups</td>\n",
              "      <td>49.0</td>\n",
              "      <td>UG/M3</td>\n",
              "      <td>Valid</td>\n",
              "    </tr>\n",
              "    <tr>\n",
              "      <th>3</th>\n",
              "      <td>Beijing</td>\n",
              "      <td>PM2.5 - Principal</td>\n",
              "      <td>2020-01-04</td>\n",
              "      <td>2020</td>\n",
              "      <td>1</td>\n",
              "      <td>4</td>\n",
              "      <td>36.8</td>\n",
              "      <td>100.7</td>\n",
              "      <td>Unhealthy for Sensitive Groups</td>\n",
              "      <td>36.2</td>\n",
              "      <td>UG/M3</td>\n",
              "      <td>Valid</td>\n",
              "    </tr>\n",
              "    <tr>\n",
              "      <th>4</th>\n",
              "      <td>Beijing</td>\n",
              "      <td>PM2.5 - Principal</td>\n",
              "      <td>2020-01-05</td>\n",
              "      <td>2020</td>\n",
              "      <td>1</td>\n",
              "      <td>5</td>\n",
              "      <td>61.5</td>\n",
              "      <td>153.8</td>\n",
              "      <td>Unhealthy</td>\n",
              "      <td>62.0</td>\n",
              "      <td>UG/M3</td>\n",
              "      <td>Valid</td>\n",
              "    </tr>\n",
              "  </tbody>\n",
              "</table>\n",
              "</div>\n",
              "      <button class=\"colab-df-convert\" onclick=\"convertToInteractive('df-fdff3806-d404-402e-a8a9-5e4f0f0ac200')\"\n",
              "              title=\"Convert this dataframe to an interactive table.\"\n",
              "              style=\"display:none;\">\n",
              "        \n",
              "  <svg xmlns=\"http://www.w3.org/2000/svg\" height=\"24px\"viewBox=\"0 0 24 24\"\n",
              "       width=\"24px\">\n",
              "    <path d=\"M0 0h24v24H0V0z\" fill=\"none\"/>\n",
              "    <path d=\"M18.56 5.44l.94 2.06.94-2.06 2.06-.94-2.06-.94-.94-2.06-.94 2.06-2.06.94zm-11 1L8.5 8.5l.94-2.06 2.06-.94-2.06-.94L8.5 2.5l-.94 2.06-2.06.94zm10 10l.94 2.06.94-2.06 2.06-.94-2.06-.94-.94-2.06-.94 2.06-2.06.94z\"/><path d=\"M17.41 7.96l-1.37-1.37c-.4-.4-.92-.59-1.43-.59-.52 0-1.04.2-1.43.59L10.3 9.45l-7.72 7.72c-.78.78-.78 2.05 0 2.83L4 21.41c.39.39.9.59 1.41.59.51 0 1.02-.2 1.41-.59l7.78-7.78 2.81-2.81c.8-.78.8-2.07 0-2.86zM5.41 20L4 18.59l7.72-7.72 1.47 1.35L5.41 20z\"/>\n",
              "  </svg>\n",
              "      </button>\n",
              "      \n",
              "  <style>\n",
              "    .colab-df-container {\n",
              "      display:flex;\n",
              "      flex-wrap:wrap;\n",
              "      gap: 12px;\n",
              "    }\n",
              "\n",
              "    .colab-df-convert {\n",
              "      background-color: #E8F0FE;\n",
              "      border: none;\n",
              "      border-radius: 50%;\n",
              "      cursor: pointer;\n",
              "      display: none;\n",
              "      fill: #1967D2;\n",
              "      height: 32px;\n",
              "      padding: 0 0 0 0;\n",
              "      width: 32px;\n",
              "    }\n",
              "\n",
              "    .colab-df-convert:hover {\n",
              "      background-color: #E2EBFA;\n",
              "      box-shadow: 0px 1px 2px rgba(60, 64, 67, 0.3), 0px 1px 3px 1px rgba(60, 64, 67, 0.15);\n",
              "      fill: #174EA6;\n",
              "    }\n",
              "\n",
              "    [theme=dark] .colab-df-convert {\n",
              "      background-color: #3B4455;\n",
              "      fill: #D2E3FC;\n",
              "    }\n",
              "\n",
              "    [theme=dark] .colab-df-convert:hover {\n",
              "      background-color: #434B5C;\n",
              "      box-shadow: 0px 1px 3px 1px rgba(0, 0, 0, 0.15);\n",
              "      filter: drop-shadow(0px 1px 2px rgba(0, 0, 0, 0.3));\n",
              "      fill: #FFFFFF;\n",
              "    }\n",
              "  </style>\n",
              "\n",
              "      <script>\n",
              "        const buttonEl =\n",
              "          document.querySelector('#df-fdff3806-d404-402e-a8a9-5e4f0f0ac200 button.colab-df-convert');\n",
              "        buttonEl.style.display =\n",
              "          google.colab.kernel.accessAllowed ? 'block' : 'none';\n",
              "\n",
              "        async function convertToInteractive(key) {\n",
              "          const element = document.querySelector('#df-fdff3806-d404-402e-a8a9-5e4f0f0ac200');\n",
              "          const dataTable =\n",
              "            await google.colab.kernel.invokeFunction('convertToInteractive',\n",
              "                                                     [key], {});\n",
              "          if (!dataTable) return;\n",
              "\n",
              "          const docLinkHtml = 'Like what you see? Visit the ' +\n",
              "            '<a target=\"_blank\" href=https://colab.research.google.com/notebooks/data_table.ipynb>data table notebook</a>'\n",
              "            + ' to learn more about interactive tables.';\n",
              "          element.innerHTML = '';\n",
              "          dataTable['output_type'] = 'display_data';\n",
              "          await google.colab.output.renderOutput(dataTable, element);\n",
              "          const docLink = document.createElement('div');\n",
              "          docLink.innerHTML = docLinkHtml;\n",
              "          element.appendChild(docLink);\n",
              "        }\n",
              "      </script>\n",
              "    </div>\n",
              "  </div>\n",
              "  "
            ]
          },
          "metadata": {},
          "execution_count": 125
        }
      ]
    },
    {
      "cell_type": "code",
      "source": [
        "covid_df.head()"
      ],
      "metadata": {
        "colab": {
          "base_uri": "https://localhost:8080/",
          "height": 206
        },
        "id": "Dxl_IZKgE8kU",
        "outputId": "05b4f023-a098-4394-8496-2b1e8c462da3"
      },
      "execution_count": null,
      "outputs": [
        {
          "output_type": "execute_result",
          "data": {
            "text/plain": [
              "       City       Date  confirmed_cases  deaths\n",
              "0   Beijing 2020-01-22               14       0\n",
              "1  Shanghai 2020-01-22                9       0\n",
              "2   Beijing 2020-01-23               22       0\n",
              "3  Shanghai 2020-01-23               16       0\n",
              "4   Beijing 2020-01-24               36       0"
            ],
            "text/html": [
              "\n",
              "  <div id=\"df-52b8bca2-646a-4e45-b980-d316316379ce\">\n",
              "    <div class=\"colab-df-container\">\n",
              "      <div>\n",
              "<style scoped>\n",
              "    .dataframe tbody tr th:only-of-type {\n",
              "        vertical-align: middle;\n",
              "    }\n",
              "\n",
              "    .dataframe tbody tr th {\n",
              "        vertical-align: top;\n",
              "    }\n",
              "\n",
              "    .dataframe thead th {\n",
              "        text-align: right;\n",
              "    }\n",
              "</style>\n",
              "<table border=\"1\" class=\"dataframe\">\n",
              "  <thead>\n",
              "    <tr style=\"text-align: right;\">\n",
              "      <th></th>\n",
              "      <th>City</th>\n",
              "      <th>Date</th>\n",
              "      <th>confirmed_cases</th>\n",
              "      <th>deaths</th>\n",
              "    </tr>\n",
              "  </thead>\n",
              "  <tbody>\n",
              "    <tr>\n",
              "      <th>0</th>\n",
              "      <td>Beijing</td>\n",
              "      <td>2020-01-22</td>\n",
              "      <td>14</td>\n",
              "      <td>0</td>\n",
              "    </tr>\n",
              "    <tr>\n",
              "      <th>1</th>\n",
              "      <td>Shanghai</td>\n",
              "      <td>2020-01-22</td>\n",
              "      <td>9</td>\n",
              "      <td>0</td>\n",
              "    </tr>\n",
              "    <tr>\n",
              "      <th>2</th>\n",
              "      <td>Beijing</td>\n",
              "      <td>2020-01-23</td>\n",
              "      <td>22</td>\n",
              "      <td>0</td>\n",
              "    </tr>\n",
              "    <tr>\n",
              "      <th>3</th>\n",
              "      <td>Shanghai</td>\n",
              "      <td>2020-01-23</td>\n",
              "      <td>16</td>\n",
              "      <td>0</td>\n",
              "    </tr>\n",
              "    <tr>\n",
              "      <th>4</th>\n",
              "      <td>Beijing</td>\n",
              "      <td>2020-01-24</td>\n",
              "      <td>36</td>\n",
              "      <td>0</td>\n",
              "    </tr>\n",
              "  </tbody>\n",
              "</table>\n",
              "</div>\n",
              "      <button class=\"colab-df-convert\" onclick=\"convertToInteractive('df-52b8bca2-646a-4e45-b980-d316316379ce')\"\n",
              "              title=\"Convert this dataframe to an interactive table.\"\n",
              "              style=\"display:none;\">\n",
              "        \n",
              "  <svg xmlns=\"http://www.w3.org/2000/svg\" height=\"24px\"viewBox=\"0 0 24 24\"\n",
              "       width=\"24px\">\n",
              "    <path d=\"M0 0h24v24H0V0z\" fill=\"none\"/>\n",
              "    <path d=\"M18.56 5.44l.94 2.06.94-2.06 2.06-.94-2.06-.94-.94-2.06-.94 2.06-2.06.94zm-11 1L8.5 8.5l.94-2.06 2.06-.94-2.06-.94L8.5 2.5l-.94 2.06-2.06.94zm10 10l.94 2.06.94-2.06 2.06-.94-2.06-.94-.94-2.06-.94 2.06-2.06.94z\"/><path d=\"M17.41 7.96l-1.37-1.37c-.4-.4-.92-.59-1.43-.59-.52 0-1.04.2-1.43.59L10.3 9.45l-7.72 7.72c-.78.78-.78 2.05 0 2.83L4 21.41c.39.39.9.59 1.41.59.51 0 1.02-.2 1.41-.59l7.78-7.78 2.81-2.81c.8-.78.8-2.07 0-2.86zM5.41 20L4 18.59l7.72-7.72 1.47 1.35L5.41 20z\"/>\n",
              "  </svg>\n",
              "      </button>\n",
              "      \n",
              "  <style>\n",
              "    .colab-df-container {\n",
              "      display:flex;\n",
              "      flex-wrap:wrap;\n",
              "      gap: 12px;\n",
              "    }\n",
              "\n",
              "    .colab-df-convert {\n",
              "      background-color: #E8F0FE;\n",
              "      border: none;\n",
              "      border-radius: 50%;\n",
              "      cursor: pointer;\n",
              "      display: none;\n",
              "      fill: #1967D2;\n",
              "      height: 32px;\n",
              "      padding: 0 0 0 0;\n",
              "      width: 32px;\n",
              "    }\n",
              "\n",
              "    .colab-df-convert:hover {\n",
              "      background-color: #E2EBFA;\n",
              "      box-shadow: 0px 1px 2px rgba(60, 64, 67, 0.3), 0px 1px 3px 1px rgba(60, 64, 67, 0.15);\n",
              "      fill: #174EA6;\n",
              "    }\n",
              "\n",
              "    [theme=dark] .colab-df-convert {\n",
              "      background-color: #3B4455;\n",
              "      fill: #D2E3FC;\n",
              "    }\n",
              "\n",
              "    [theme=dark] .colab-df-convert:hover {\n",
              "      background-color: #434B5C;\n",
              "      box-shadow: 0px 1px 3px 1px rgba(0, 0, 0, 0.15);\n",
              "      filter: drop-shadow(0px 1px 2px rgba(0, 0, 0, 0.3));\n",
              "      fill: #FFFFFF;\n",
              "    }\n",
              "  </style>\n",
              "\n",
              "      <script>\n",
              "        const buttonEl =\n",
              "          document.querySelector('#df-52b8bca2-646a-4e45-b980-d316316379ce button.colab-df-convert');\n",
              "        buttonEl.style.display =\n",
              "          google.colab.kernel.accessAllowed ? 'block' : 'none';\n",
              "\n",
              "        async function convertToInteractive(key) {\n",
              "          const element = document.querySelector('#df-52b8bca2-646a-4e45-b980-d316316379ce');\n",
              "          const dataTable =\n",
              "            await google.colab.kernel.invokeFunction('convertToInteractive',\n",
              "                                                     [key], {});\n",
              "          if (!dataTable) return;\n",
              "\n",
              "          const docLinkHtml = 'Like what you see? Visit the ' +\n",
              "            '<a target=\"_blank\" href=https://colab.research.google.com/notebooks/data_table.ipynb>data table notebook</a>'\n",
              "            + ' to learn more about interactive tables.';\n",
              "          element.innerHTML = '';\n",
              "          dataTable['output_type'] = 'display_data';\n",
              "          await google.colab.output.renderOutput(dataTable, element);\n",
              "          const docLink = document.createElement('div');\n",
              "          docLink.innerHTML = docLinkHtml;\n",
              "          element.appendChild(docLink);\n",
              "        }\n",
              "      </script>\n",
              "    </div>\n",
              "  </div>\n",
              "  "
            ]
          },
          "metadata": {},
          "execution_count": 126
        }
      ]
    },
    {
      "cell_type": "markdown",
      "source": [
        "Again, let's check the types  of each column."
      ],
      "metadata": {
        "id": "BMSsoNytCAMA"
      }
    },
    {
      "cell_type": "code",
      "source": [
        "covid_df.dtypes"
      ],
      "metadata": {
        "colab": {
          "base_uri": "https://localhost:8080/"
        },
        "id": "jppkSaMhGzIk",
        "outputId": "02e7ab3d-63c0-4239-c694-60ebf2cd72c2"
      },
      "execution_count": null,
      "outputs": [
        {
          "output_type": "execute_result",
          "data": {
            "text/plain": [
              "City                       string\n",
              "Date               datetime64[ns]\n",
              "confirmed_cases             int64\n",
              "deaths                      int64\n",
              "dtype: object"
            ]
          },
          "metadata": {},
          "execution_count": 127
        }
      ]
    },
    {
      "cell_type": "code",
      "source": [
        "China.dtypes"
      ],
      "metadata": {
        "colab": {
          "base_uri": "https://localhost:8080/"
        },
        "id": "KoXBRCR-G1y1",
        "outputId": "1100cacd-8427-4b65-f96d-488216ca7fc5"
      },
      "execution_count": null,
      "outputs": [
        {
          "output_type": "execute_result",
          "data": {
            "text/plain": [
              "City                     object\n",
              "Parameter                object\n",
              "Date (LT)        datetime64[ns]\n",
              "Year                      int64\n",
              "Month                     int64\n",
              "Day                       int64\n",
              "NowCast Conc.           float64\n",
              "AQI                     float64\n",
              "AQI Category             object\n",
              "Raw Conc.               float64\n",
              "Conc. Unit               object\n",
              "QC Name                  object\n",
              "dtype: object"
            ]
          },
          "metadata": {},
          "execution_count": 128
        }
      ]
    },
    {
      "cell_type": "markdown",
      "source": [
        "Since the final China dataframe has Date with data type object, we need change its type to datetime to be able to merge it with the COVID dataframe based on date."
      ],
      "metadata": {
        "id": "RhvVVBFpHcV1"
      }
    },
    {
      "cell_type": "code",
      "source": [
        "China['Date (LT)'] = pd.to_datetime(China['Date (LT)'])"
      ],
      "metadata": {
        "id": "WcjprZf0Hrpi"
      },
      "execution_count": null,
      "outputs": []
    },
    {
      "cell_type": "markdown",
      "source": [
        "Now, let's merge both dataframes based on each city and date."
      ],
      "metadata": {
        "id": "3kMF4dODChdb"
      }
    },
    {
      "cell_type": "code",
      "source": [
        "mergeddf = pd.merge(China, covid_df,  how='inner', left_on=['City','Date (LT)'], right_on = ['City','Date'])\n",
        "mergeddf.head()"
      ],
      "metadata": {
        "colab": {
          "base_uri": "https://localhost:8080/",
          "height": 206
        },
        "id": "AF7Rl1RFFCUv",
        "outputId": "17a9690b-2760-4707-aa7c-e509f1ea8e6a"
      },
      "execution_count": null,
      "outputs": [
        {
          "output_type": "execute_result",
          "data": {
            "text/plain": [
              "      City          Parameter  Date (LT)  Year  Month  Day  NowCast Conc.  \\\n",
              "0  Beijing  PM2.5 - Principal 2020-01-22  2020      1   22           65.3   \n",
              "1  Beijing  PM2.5 - Principal 2020-01-23  2020      1   23           56.3   \n",
              "2  Beijing  PM2.5 - Principal 2020-01-24  2020      1   24           73.1   \n",
              "3  Beijing  PM2.5 - Principal 2020-01-25  2020      1   25          131.6   \n",
              "4  Beijing  PM2.5 - Principal 2020-01-26  2020      1   26          166.9   \n",
              "\n",
              "     AQI                    AQI Category  Raw Conc. Conc. Unit QC Name  \\\n",
              "0  156.1                       Unhealthy       67.3      UG/M3   Valid   \n",
              "1  129.1  Unhealthy for Sensitive Groups       55.0      UG/M3   Valid   \n",
              "2  150.3                       Unhealthy       73.8      UG/M3   Valid   \n",
              "3  195.8                       Unhealthy      135.6      UG/M3   Valid   \n",
              "4  221.5                  Very Unhealthy      170.8      UG/M3   Valid   \n",
              "\n",
              "        Date  confirmed_cases  deaths  \n",
              "0 2020-01-22               14       0  \n",
              "1 2020-01-23               22       0  \n",
              "2 2020-01-24               36       0  \n",
              "3 2020-01-25               41       0  \n",
              "4 2020-01-26               68       0  "
            ],
            "text/html": [
              "\n",
              "  <div id=\"df-b5576d34-0889-4ad2-afd7-eabf5054bfd1\">\n",
              "    <div class=\"colab-df-container\">\n",
              "      <div>\n",
              "<style scoped>\n",
              "    .dataframe tbody tr th:only-of-type {\n",
              "        vertical-align: middle;\n",
              "    }\n",
              "\n",
              "    .dataframe tbody tr th {\n",
              "        vertical-align: top;\n",
              "    }\n",
              "\n",
              "    .dataframe thead th {\n",
              "        text-align: right;\n",
              "    }\n",
              "</style>\n",
              "<table border=\"1\" class=\"dataframe\">\n",
              "  <thead>\n",
              "    <tr style=\"text-align: right;\">\n",
              "      <th></th>\n",
              "      <th>City</th>\n",
              "      <th>Parameter</th>\n",
              "      <th>Date (LT)</th>\n",
              "      <th>Year</th>\n",
              "      <th>Month</th>\n",
              "      <th>Day</th>\n",
              "      <th>NowCast Conc.</th>\n",
              "      <th>AQI</th>\n",
              "      <th>AQI Category</th>\n",
              "      <th>Raw Conc.</th>\n",
              "      <th>Conc. Unit</th>\n",
              "      <th>QC Name</th>\n",
              "      <th>Date</th>\n",
              "      <th>confirmed_cases</th>\n",
              "      <th>deaths</th>\n",
              "    </tr>\n",
              "  </thead>\n",
              "  <tbody>\n",
              "    <tr>\n",
              "      <th>0</th>\n",
              "      <td>Beijing</td>\n",
              "      <td>PM2.5 - Principal</td>\n",
              "      <td>2020-01-22</td>\n",
              "      <td>2020</td>\n",
              "      <td>1</td>\n",
              "      <td>22</td>\n",
              "      <td>65.3</td>\n",
              "      <td>156.1</td>\n",
              "      <td>Unhealthy</td>\n",
              "      <td>67.3</td>\n",
              "      <td>UG/M3</td>\n",
              "      <td>Valid</td>\n",
              "      <td>2020-01-22</td>\n",
              "      <td>14</td>\n",
              "      <td>0</td>\n",
              "    </tr>\n",
              "    <tr>\n",
              "      <th>1</th>\n",
              "      <td>Beijing</td>\n",
              "      <td>PM2.5 - Principal</td>\n",
              "      <td>2020-01-23</td>\n",
              "      <td>2020</td>\n",
              "      <td>1</td>\n",
              "      <td>23</td>\n",
              "      <td>56.3</td>\n",
              "      <td>129.1</td>\n",
              "      <td>Unhealthy for Sensitive Groups</td>\n",
              "      <td>55.0</td>\n",
              "      <td>UG/M3</td>\n",
              "      <td>Valid</td>\n",
              "      <td>2020-01-23</td>\n",
              "      <td>22</td>\n",
              "      <td>0</td>\n",
              "    </tr>\n",
              "    <tr>\n",
              "      <th>2</th>\n",
              "      <td>Beijing</td>\n",
              "      <td>PM2.5 - Principal</td>\n",
              "      <td>2020-01-24</td>\n",
              "      <td>2020</td>\n",
              "      <td>1</td>\n",
              "      <td>24</td>\n",
              "      <td>73.1</td>\n",
              "      <td>150.3</td>\n",
              "      <td>Unhealthy</td>\n",
              "      <td>73.8</td>\n",
              "      <td>UG/M3</td>\n",
              "      <td>Valid</td>\n",
              "      <td>2020-01-24</td>\n",
              "      <td>36</td>\n",
              "      <td>0</td>\n",
              "    </tr>\n",
              "    <tr>\n",
              "      <th>3</th>\n",
              "      <td>Beijing</td>\n",
              "      <td>PM2.5 - Principal</td>\n",
              "      <td>2020-01-25</td>\n",
              "      <td>2020</td>\n",
              "      <td>1</td>\n",
              "      <td>25</td>\n",
              "      <td>131.6</td>\n",
              "      <td>195.8</td>\n",
              "      <td>Unhealthy</td>\n",
              "      <td>135.6</td>\n",
              "      <td>UG/M3</td>\n",
              "      <td>Valid</td>\n",
              "      <td>2020-01-25</td>\n",
              "      <td>41</td>\n",
              "      <td>0</td>\n",
              "    </tr>\n",
              "    <tr>\n",
              "      <th>4</th>\n",
              "      <td>Beijing</td>\n",
              "      <td>PM2.5 - Principal</td>\n",
              "      <td>2020-01-26</td>\n",
              "      <td>2020</td>\n",
              "      <td>1</td>\n",
              "      <td>26</td>\n",
              "      <td>166.9</td>\n",
              "      <td>221.5</td>\n",
              "      <td>Very Unhealthy</td>\n",
              "      <td>170.8</td>\n",
              "      <td>UG/M3</td>\n",
              "      <td>Valid</td>\n",
              "      <td>2020-01-26</td>\n",
              "      <td>68</td>\n",
              "      <td>0</td>\n",
              "    </tr>\n",
              "  </tbody>\n",
              "</table>\n",
              "</div>\n",
              "      <button class=\"colab-df-convert\" onclick=\"convertToInteractive('df-b5576d34-0889-4ad2-afd7-eabf5054bfd1')\"\n",
              "              title=\"Convert this dataframe to an interactive table.\"\n",
              "              style=\"display:none;\">\n",
              "        \n",
              "  <svg xmlns=\"http://www.w3.org/2000/svg\" height=\"24px\"viewBox=\"0 0 24 24\"\n",
              "       width=\"24px\">\n",
              "    <path d=\"M0 0h24v24H0V0z\" fill=\"none\"/>\n",
              "    <path d=\"M18.56 5.44l.94 2.06.94-2.06 2.06-.94-2.06-.94-.94-2.06-.94 2.06-2.06.94zm-11 1L8.5 8.5l.94-2.06 2.06-.94-2.06-.94L8.5 2.5l-.94 2.06-2.06.94zm10 10l.94 2.06.94-2.06 2.06-.94-2.06-.94-.94-2.06-.94 2.06-2.06.94z\"/><path d=\"M17.41 7.96l-1.37-1.37c-.4-.4-.92-.59-1.43-.59-.52 0-1.04.2-1.43.59L10.3 9.45l-7.72 7.72c-.78.78-.78 2.05 0 2.83L4 21.41c.39.39.9.59 1.41.59.51 0 1.02-.2 1.41-.59l7.78-7.78 2.81-2.81c.8-.78.8-2.07 0-2.86zM5.41 20L4 18.59l7.72-7.72 1.47 1.35L5.41 20z\"/>\n",
              "  </svg>\n",
              "      </button>\n",
              "      \n",
              "  <style>\n",
              "    .colab-df-container {\n",
              "      display:flex;\n",
              "      flex-wrap:wrap;\n",
              "      gap: 12px;\n",
              "    }\n",
              "\n",
              "    .colab-df-convert {\n",
              "      background-color: #E8F0FE;\n",
              "      border: none;\n",
              "      border-radius: 50%;\n",
              "      cursor: pointer;\n",
              "      display: none;\n",
              "      fill: #1967D2;\n",
              "      height: 32px;\n",
              "      padding: 0 0 0 0;\n",
              "      width: 32px;\n",
              "    }\n",
              "\n",
              "    .colab-df-convert:hover {\n",
              "      background-color: #E2EBFA;\n",
              "      box-shadow: 0px 1px 2px rgba(60, 64, 67, 0.3), 0px 1px 3px 1px rgba(60, 64, 67, 0.15);\n",
              "      fill: #174EA6;\n",
              "    }\n",
              "\n",
              "    [theme=dark] .colab-df-convert {\n",
              "      background-color: #3B4455;\n",
              "      fill: #D2E3FC;\n",
              "    }\n",
              "\n",
              "    [theme=dark] .colab-df-convert:hover {\n",
              "      background-color: #434B5C;\n",
              "      box-shadow: 0px 1px 3px 1px rgba(0, 0, 0, 0.15);\n",
              "      filter: drop-shadow(0px 1px 2px rgba(0, 0, 0, 0.3));\n",
              "      fill: #FFFFFF;\n",
              "    }\n",
              "  </style>\n",
              "\n",
              "      <script>\n",
              "        const buttonEl =\n",
              "          document.querySelector('#df-b5576d34-0889-4ad2-afd7-eabf5054bfd1 button.colab-df-convert');\n",
              "        buttonEl.style.display =\n",
              "          google.colab.kernel.accessAllowed ? 'block' : 'none';\n",
              "\n",
              "        async function convertToInteractive(key) {\n",
              "          const element = document.querySelector('#df-b5576d34-0889-4ad2-afd7-eabf5054bfd1');\n",
              "          const dataTable =\n",
              "            await google.colab.kernel.invokeFunction('convertToInteractive',\n",
              "                                                     [key], {});\n",
              "          if (!dataTable) return;\n",
              "\n",
              "          const docLinkHtml = 'Like what you see? Visit the ' +\n",
              "            '<a target=\"_blank\" href=https://colab.research.google.com/notebooks/data_table.ipynb>data table notebook</a>'\n",
              "            + ' to learn more about interactive tables.';\n",
              "          element.innerHTML = '';\n",
              "          dataTable['output_type'] = 'display_data';\n",
              "          await google.colab.output.renderOutput(dataTable, element);\n",
              "          const docLink = document.createElement('div');\n",
              "          docLink.innerHTML = docLinkHtml;\n",
              "          element.appendChild(docLink);\n",
              "        }\n",
              "      </script>\n",
              "    </div>\n",
              "  </div>\n",
              "  "
            ]
          },
          "metadata": {},
          "execution_count": 130
        }
      ]
    },
    {
      "cell_type": "markdown",
      "source": [
        "Let's check if our merged dataframe has any data accuracy issue or missing values."
      ],
      "metadata": {
        "id": "hnjLvUfPTGmy"
      }
    },
    {
      "cell_type": "code",
      "source": [
        "mergeddf.isnull().sum(axis = 0)"
      ],
      "metadata": {
        "colab": {
          "base_uri": "https://localhost:8080/"
        },
        "id": "AasM6plgTSpJ",
        "outputId": "9ecb7d11-e126-43fb-893a-89d6469e9a23"
      },
      "execution_count": null,
      "outputs": [
        {
          "output_type": "execute_result",
          "data": {
            "text/plain": [
              "City               0\n",
              "Parameter          0\n",
              "Date (LT)          0\n",
              "Year               0\n",
              "Month              0\n",
              "Day                0\n",
              "NowCast Conc.      0\n",
              "AQI                0\n",
              "AQI Category       0\n",
              "Raw Conc.          0\n",
              "Conc. Unit         0\n",
              "QC Name            0\n",
              "Date               0\n",
              "confirmed_cases    0\n",
              "deaths             0\n",
              "dtype: int64"
            ]
          },
          "metadata": {},
          "execution_count": 131
        }
      ]
    },
    {
      "cell_type": "markdown",
      "source": [
        "Let's apply the info method to the dataframe to check types and non-null counts for each column."
      ],
      "metadata": {
        "id": "MpFPkIwQT09X"
      }
    },
    {
      "cell_type": "code",
      "source": [
        "mergeddf.info()"
      ],
      "metadata": {
        "colab": {
          "base_uri": "https://localhost:8080/"
        },
        "id": "_X5edQeAT3Pk",
        "outputId": "8c621dd5-f222-4678-a6dd-a0a71676ef87"
      },
      "execution_count": null,
      "outputs": [
        {
          "output_type": "stream",
          "name": "stdout",
          "text": [
            "<class 'pandas.core.frame.DataFrame'>\n",
            "Int64Index: 1022 entries, 0 to 1021\n",
            "Data columns (total 15 columns):\n",
            " #   Column           Non-Null Count  Dtype         \n",
            "---  ------           --------------  -----         \n",
            " 0   City             1022 non-null   object        \n",
            " 1   Parameter        1022 non-null   object        \n",
            " 2   Date (LT)        1022 non-null   datetime64[ns]\n",
            " 3   Year             1022 non-null   int64         \n",
            " 4   Month            1022 non-null   int64         \n",
            " 5   Day              1022 non-null   int64         \n",
            " 6   NowCast Conc.    1022 non-null   float64       \n",
            " 7   AQI              1022 non-null   float64       \n",
            " 8   AQI Category     1022 non-null   object        \n",
            " 9   Raw Conc.        1022 non-null   float64       \n",
            " 10  Conc. Unit       1022 non-null   object        \n",
            " 11  QC Name          1022 non-null   object        \n",
            " 12  Date             1022 non-null   datetime64[ns]\n",
            " 13  confirmed_cases  1022 non-null   int64         \n",
            " 14  deaths           1022 non-null   int64         \n",
            "dtypes: datetime64[ns](2), float64(3), int64(5), object(5)\n",
            "memory usage: 127.8+ KB\n"
          ]
        }
      ]
    },
    {
      "cell_type": "markdown",
      "source": [
        "Let's also check the summary statistics."
      ],
      "metadata": {
        "id": "cJ-eI1TuEfYX"
      }
    },
    {
      "cell_type": "code",
      "source": [
        "mergeddf.describe()"
      ],
      "metadata": {
        "colab": {
          "base_uri": "https://localhost:8080/",
          "height": 300
        },
        "id": "Gn5zLitxEcSp",
        "outputId": "495aa3dc-706c-4318-a85f-0c640f8a1659"
      },
      "execution_count": null,
      "outputs": [
        {
          "output_type": "execute_result",
          "data": {
            "text/plain": [
              "              Year        Month          Day  NowCast Conc.          AQI  \\\n",
              "count  1022.000000  1022.000000  1022.000000    1022.000000  1022.000000   \n",
              "mean   2020.325832     5.689824    15.689824      36.184149    92.561155   \n",
              "std       0.468914     3.292569     8.839447      29.517380    41.966300   \n",
              "min    2020.000000     1.000000     1.000000       3.700000    15.400000   \n",
              "25%    2020.000000     3.000000     8.000000      18.000000    61.950000   \n",
              "50%    2020.000000     5.000000    16.000000      27.300000    83.000000   \n",
              "75%    2021.000000     8.000000    23.000000      45.275000   119.575000   \n",
              "max    2021.000000    12.000000    31.000000     229.800000   284.800000   \n",
              "\n",
              "         Raw Conc.  confirmed_cases       deaths  \n",
              "count  1022.000000      1022.000000  1022.000000  \n",
              "mean     36.282192       990.317025     7.373777  \n",
              "std      29.636463       473.914240     2.021243  \n",
              "min       3.400000         9.000000     0.000000  \n",
              "25%      17.600000       660.000000     7.000000  \n",
              "50%      27.550000       940.500000     7.000000  \n",
              "75%      45.275000      1064.000000     9.000000  \n",
              "max     229.500000      2173.000000     9.000000  "
            ],
            "text/html": [
              "\n",
              "  <div id=\"df-63a1edd6-543d-42e6-b502-c7f7a518680f\">\n",
              "    <div class=\"colab-df-container\">\n",
              "      <div>\n",
              "<style scoped>\n",
              "    .dataframe tbody tr th:only-of-type {\n",
              "        vertical-align: middle;\n",
              "    }\n",
              "\n",
              "    .dataframe tbody tr th {\n",
              "        vertical-align: top;\n",
              "    }\n",
              "\n",
              "    .dataframe thead th {\n",
              "        text-align: right;\n",
              "    }\n",
              "</style>\n",
              "<table border=\"1\" class=\"dataframe\">\n",
              "  <thead>\n",
              "    <tr style=\"text-align: right;\">\n",
              "      <th></th>\n",
              "      <th>Year</th>\n",
              "      <th>Month</th>\n",
              "      <th>Day</th>\n",
              "      <th>NowCast Conc.</th>\n",
              "      <th>AQI</th>\n",
              "      <th>Raw Conc.</th>\n",
              "      <th>confirmed_cases</th>\n",
              "      <th>deaths</th>\n",
              "    </tr>\n",
              "  </thead>\n",
              "  <tbody>\n",
              "    <tr>\n",
              "      <th>count</th>\n",
              "      <td>1022.000000</td>\n",
              "      <td>1022.000000</td>\n",
              "      <td>1022.000000</td>\n",
              "      <td>1022.000000</td>\n",
              "      <td>1022.000000</td>\n",
              "      <td>1022.000000</td>\n",
              "      <td>1022.000000</td>\n",
              "      <td>1022.000000</td>\n",
              "    </tr>\n",
              "    <tr>\n",
              "      <th>mean</th>\n",
              "      <td>2020.325832</td>\n",
              "      <td>5.689824</td>\n",
              "      <td>15.689824</td>\n",
              "      <td>36.184149</td>\n",
              "      <td>92.561155</td>\n",
              "      <td>36.282192</td>\n",
              "      <td>990.317025</td>\n",
              "      <td>7.373777</td>\n",
              "    </tr>\n",
              "    <tr>\n",
              "      <th>std</th>\n",
              "      <td>0.468914</td>\n",
              "      <td>3.292569</td>\n",
              "      <td>8.839447</td>\n",
              "      <td>29.517380</td>\n",
              "      <td>41.966300</td>\n",
              "      <td>29.636463</td>\n",
              "      <td>473.914240</td>\n",
              "      <td>2.021243</td>\n",
              "    </tr>\n",
              "    <tr>\n",
              "      <th>min</th>\n",
              "      <td>2020.000000</td>\n",
              "      <td>1.000000</td>\n",
              "      <td>1.000000</td>\n",
              "      <td>3.700000</td>\n",
              "      <td>15.400000</td>\n",
              "      <td>3.400000</td>\n",
              "      <td>9.000000</td>\n",
              "      <td>0.000000</td>\n",
              "    </tr>\n",
              "    <tr>\n",
              "      <th>25%</th>\n",
              "      <td>2020.000000</td>\n",
              "      <td>3.000000</td>\n",
              "      <td>8.000000</td>\n",
              "      <td>18.000000</td>\n",
              "      <td>61.950000</td>\n",
              "      <td>17.600000</td>\n",
              "      <td>660.000000</td>\n",
              "      <td>7.000000</td>\n",
              "    </tr>\n",
              "    <tr>\n",
              "      <th>50%</th>\n",
              "      <td>2020.000000</td>\n",
              "      <td>5.000000</td>\n",
              "      <td>16.000000</td>\n",
              "      <td>27.300000</td>\n",
              "      <td>83.000000</td>\n",
              "      <td>27.550000</td>\n",
              "      <td>940.500000</td>\n",
              "      <td>7.000000</td>\n",
              "    </tr>\n",
              "    <tr>\n",
              "      <th>75%</th>\n",
              "      <td>2021.000000</td>\n",
              "      <td>8.000000</td>\n",
              "      <td>23.000000</td>\n",
              "      <td>45.275000</td>\n",
              "      <td>119.575000</td>\n",
              "      <td>45.275000</td>\n",
              "      <td>1064.000000</td>\n",
              "      <td>9.000000</td>\n",
              "    </tr>\n",
              "    <tr>\n",
              "      <th>max</th>\n",
              "      <td>2021.000000</td>\n",
              "      <td>12.000000</td>\n",
              "      <td>31.000000</td>\n",
              "      <td>229.800000</td>\n",
              "      <td>284.800000</td>\n",
              "      <td>229.500000</td>\n",
              "      <td>2173.000000</td>\n",
              "      <td>9.000000</td>\n",
              "    </tr>\n",
              "  </tbody>\n",
              "</table>\n",
              "</div>\n",
              "      <button class=\"colab-df-convert\" onclick=\"convertToInteractive('df-63a1edd6-543d-42e6-b502-c7f7a518680f')\"\n",
              "              title=\"Convert this dataframe to an interactive table.\"\n",
              "              style=\"display:none;\">\n",
              "        \n",
              "  <svg xmlns=\"http://www.w3.org/2000/svg\" height=\"24px\"viewBox=\"0 0 24 24\"\n",
              "       width=\"24px\">\n",
              "    <path d=\"M0 0h24v24H0V0z\" fill=\"none\"/>\n",
              "    <path d=\"M18.56 5.44l.94 2.06.94-2.06 2.06-.94-2.06-.94-.94-2.06-.94 2.06-2.06.94zm-11 1L8.5 8.5l.94-2.06 2.06-.94-2.06-.94L8.5 2.5l-.94 2.06-2.06.94zm10 10l.94 2.06.94-2.06 2.06-.94-2.06-.94-.94-2.06-.94 2.06-2.06.94z\"/><path d=\"M17.41 7.96l-1.37-1.37c-.4-.4-.92-.59-1.43-.59-.52 0-1.04.2-1.43.59L10.3 9.45l-7.72 7.72c-.78.78-.78 2.05 0 2.83L4 21.41c.39.39.9.59 1.41.59.51 0 1.02-.2 1.41-.59l7.78-7.78 2.81-2.81c.8-.78.8-2.07 0-2.86zM5.41 20L4 18.59l7.72-7.72 1.47 1.35L5.41 20z\"/>\n",
              "  </svg>\n",
              "      </button>\n",
              "      \n",
              "  <style>\n",
              "    .colab-df-container {\n",
              "      display:flex;\n",
              "      flex-wrap:wrap;\n",
              "      gap: 12px;\n",
              "    }\n",
              "\n",
              "    .colab-df-convert {\n",
              "      background-color: #E8F0FE;\n",
              "      border: none;\n",
              "      border-radius: 50%;\n",
              "      cursor: pointer;\n",
              "      display: none;\n",
              "      fill: #1967D2;\n",
              "      height: 32px;\n",
              "      padding: 0 0 0 0;\n",
              "      width: 32px;\n",
              "    }\n",
              "\n",
              "    .colab-df-convert:hover {\n",
              "      background-color: #E2EBFA;\n",
              "      box-shadow: 0px 1px 2px rgba(60, 64, 67, 0.3), 0px 1px 3px 1px rgba(60, 64, 67, 0.15);\n",
              "      fill: #174EA6;\n",
              "    }\n",
              "\n",
              "    [theme=dark] .colab-df-convert {\n",
              "      background-color: #3B4455;\n",
              "      fill: #D2E3FC;\n",
              "    }\n",
              "\n",
              "    [theme=dark] .colab-df-convert:hover {\n",
              "      background-color: #434B5C;\n",
              "      box-shadow: 0px 1px 3px 1px rgba(0, 0, 0, 0.15);\n",
              "      filter: drop-shadow(0px 1px 2px rgba(0, 0, 0, 0.3));\n",
              "      fill: #FFFFFF;\n",
              "    }\n",
              "  </style>\n",
              "\n",
              "      <script>\n",
              "        const buttonEl =\n",
              "          document.querySelector('#df-63a1edd6-543d-42e6-b502-c7f7a518680f button.colab-df-convert');\n",
              "        buttonEl.style.display =\n",
              "          google.colab.kernel.accessAllowed ? 'block' : 'none';\n",
              "\n",
              "        async function convertToInteractive(key) {\n",
              "          const element = document.querySelector('#df-63a1edd6-543d-42e6-b502-c7f7a518680f');\n",
              "          const dataTable =\n",
              "            await google.colab.kernel.invokeFunction('convertToInteractive',\n",
              "                                                     [key], {});\n",
              "          if (!dataTable) return;\n",
              "\n",
              "          const docLinkHtml = 'Like what you see? Visit the ' +\n",
              "            '<a target=\"_blank\" href=https://colab.research.google.com/notebooks/data_table.ipynb>data table notebook</a>'\n",
              "            + ' to learn more about interactive tables.';\n",
              "          element.innerHTML = '';\n",
              "          dataTable['output_type'] = 'display_data';\n",
              "          await google.colab.output.renderOutput(dataTable, element);\n",
              "          const docLink = document.createElement('div');\n",
              "          docLink.innerHTML = docLinkHtml;\n",
              "          element.appendChild(docLink);\n",
              "        }\n",
              "      </script>\n",
              "    </div>\n",
              "  </div>\n",
              "  "
            ]
          },
          "metadata": {},
          "execution_count": 133
        }
      ]
    },
    {
      "cell_type": "markdown",
      "source": [
        "From the output above we can see that our numerical variables are all within range. \n",
        "\n",
        "Furthermore, as we need specific columns we will further create a new dataset with only the required columns."
      ],
      "metadata": {
        "id": "ea-wF7BkI_v5"
      }
    },
    {
      "cell_type": "code",
      "source": [
        "mergerd_Final = mergeddf[['City', 'Date','AQI','NowCast Conc.','Raw Conc.', 'confirmed_cases','deaths']]\n",
        "mergerd_Final.head()"
      ],
      "metadata": {
        "colab": {
          "base_uri": "https://localhost:8080/",
          "height": 206
        },
        "id": "r52wn4mHRhh3",
        "outputId": "3dab1af4-cd1b-4227-d559-f67feeeeb24a"
      },
      "execution_count": null,
      "outputs": [
        {
          "output_type": "execute_result",
          "data": {
            "text/plain": [
              "      City       Date    AQI  NowCast Conc.  Raw Conc.  confirmed_cases  \\\n",
              "0  Beijing 2020-01-22  156.1           65.3       67.3               14   \n",
              "1  Beijing 2020-01-23  129.1           56.3       55.0               22   \n",
              "2  Beijing 2020-01-24  150.3           73.1       73.8               36   \n",
              "3  Beijing 2020-01-25  195.8          131.6      135.6               41   \n",
              "4  Beijing 2020-01-26  221.5          166.9      170.8               68   \n",
              "\n",
              "   deaths  \n",
              "0       0  \n",
              "1       0  \n",
              "2       0  \n",
              "3       0  \n",
              "4       0  "
            ],
            "text/html": [
              "\n",
              "  <div id=\"df-f9234cc6-a869-429d-8288-ee9b2783da2d\">\n",
              "    <div class=\"colab-df-container\">\n",
              "      <div>\n",
              "<style scoped>\n",
              "    .dataframe tbody tr th:only-of-type {\n",
              "        vertical-align: middle;\n",
              "    }\n",
              "\n",
              "    .dataframe tbody tr th {\n",
              "        vertical-align: top;\n",
              "    }\n",
              "\n",
              "    .dataframe thead th {\n",
              "        text-align: right;\n",
              "    }\n",
              "</style>\n",
              "<table border=\"1\" class=\"dataframe\">\n",
              "  <thead>\n",
              "    <tr style=\"text-align: right;\">\n",
              "      <th></th>\n",
              "      <th>City</th>\n",
              "      <th>Date</th>\n",
              "      <th>AQI</th>\n",
              "      <th>NowCast Conc.</th>\n",
              "      <th>Raw Conc.</th>\n",
              "      <th>confirmed_cases</th>\n",
              "      <th>deaths</th>\n",
              "    </tr>\n",
              "  </thead>\n",
              "  <tbody>\n",
              "    <tr>\n",
              "      <th>0</th>\n",
              "      <td>Beijing</td>\n",
              "      <td>2020-01-22</td>\n",
              "      <td>156.1</td>\n",
              "      <td>65.3</td>\n",
              "      <td>67.3</td>\n",
              "      <td>14</td>\n",
              "      <td>0</td>\n",
              "    </tr>\n",
              "    <tr>\n",
              "      <th>1</th>\n",
              "      <td>Beijing</td>\n",
              "      <td>2020-01-23</td>\n",
              "      <td>129.1</td>\n",
              "      <td>56.3</td>\n",
              "      <td>55.0</td>\n",
              "      <td>22</td>\n",
              "      <td>0</td>\n",
              "    </tr>\n",
              "    <tr>\n",
              "      <th>2</th>\n",
              "      <td>Beijing</td>\n",
              "      <td>2020-01-24</td>\n",
              "      <td>150.3</td>\n",
              "      <td>73.1</td>\n",
              "      <td>73.8</td>\n",
              "      <td>36</td>\n",
              "      <td>0</td>\n",
              "    </tr>\n",
              "    <tr>\n",
              "      <th>3</th>\n",
              "      <td>Beijing</td>\n",
              "      <td>2020-01-25</td>\n",
              "      <td>195.8</td>\n",
              "      <td>131.6</td>\n",
              "      <td>135.6</td>\n",
              "      <td>41</td>\n",
              "      <td>0</td>\n",
              "    </tr>\n",
              "    <tr>\n",
              "      <th>4</th>\n",
              "      <td>Beijing</td>\n",
              "      <td>2020-01-26</td>\n",
              "      <td>221.5</td>\n",
              "      <td>166.9</td>\n",
              "      <td>170.8</td>\n",
              "      <td>68</td>\n",
              "      <td>0</td>\n",
              "    </tr>\n",
              "  </tbody>\n",
              "</table>\n",
              "</div>\n",
              "      <button class=\"colab-df-convert\" onclick=\"convertToInteractive('df-f9234cc6-a869-429d-8288-ee9b2783da2d')\"\n",
              "              title=\"Convert this dataframe to an interactive table.\"\n",
              "              style=\"display:none;\">\n",
              "        \n",
              "  <svg xmlns=\"http://www.w3.org/2000/svg\" height=\"24px\"viewBox=\"0 0 24 24\"\n",
              "       width=\"24px\">\n",
              "    <path d=\"M0 0h24v24H0V0z\" fill=\"none\"/>\n",
              "    <path d=\"M18.56 5.44l.94 2.06.94-2.06 2.06-.94-2.06-.94-.94-2.06-.94 2.06-2.06.94zm-11 1L8.5 8.5l.94-2.06 2.06-.94-2.06-.94L8.5 2.5l-.94 2.06-2.06.94zm10 10l.94 2.06.94-2.06 2.06-.94-2.06-.94-.94-2.06-.94 2.06-2.06.94z\"/><path d=\"M17.41 7.96l-1.37-1.37c-.4-.4-.92-.59-1.43-.59-.52 0-1.04.2-1.43.59L10.3 9.45l-7.72 7.72c-.78.78-.78 2.05 0 2.83L4 21.41c.39.39.9.59 1.41.59.51 0 1.02-.2 1.41-.59l7.78-7.78 2.81-2.81c.8-.78.8-2.07 0-2.86zM5.41 20L4 18.59l7.72-7.72 1.47 1.35L5.41 20z\"/>\n",
              "  </svg>\n",
              "      </button>\n",
              "      \n",
              "  <style>\n",
              "    .colab-df-container {\n",
              "      display:flex;\n",
              "      flex-wrap:wrap;\n",
              "      gap: 12px;\n",
              "    }\n",
              "\n",
              "    .colab-df-convert {\n",
              "      background-color: #E8F0FE;\n",
              "      border: none;\n",
              "      border-radius: 50%;\n",
              "      cursor: pointer;\n",
              "      display: none;\n",
              "      fill: #1967D2;\n",
              "      height: 32px;\n",
              "      padding: 0 0 0 0;\n",
              "      width: 32px;\n",
              "    }\n",
              "\n",
              "    .colab-df-convert:hover {\n",
              "      background-color: #E2EBFA;\n",
              "      box-shadow: 0px 1px 2px rgba(60, 64, 67, 0.3), 0px 1px 3px 1px rgba(60, 64, 67, 0.15);\n",
              "      fill: #174EA6;\n",
              "    }\n",
              "\n",
              "    [theme=dark] .colab-df-convert {\n",
              "      background-color: #3B4455;\n",
              "      fill: #D2E3FC;\n",
              "    }\n",
              "\n",
              "    [theme=dark] .colab-df-convert:hover {\n",
              "      background-color: #434B5C;\n",
              "      box-shadow: 0px 1px 3px 1px rgba(0, 0, 0, 0.15);\n",
              "      filter: drop-shadow(0px 1px 2px rgba(0, 0, 0, 0.3));\n",
              "      fill: #FFFFFF;\n",
              "    }\n",
              "  </style>\n",
              "\n",
              "      <script>\n",
              "        const buttonEl =\n",
              "          document.querySelector('#df-f9234cc6-a869-429d-8288-ee9b2783da2d button.colab-df-convert');\n",
              "        buttonEl.style.display =\n",
              "          google.colab.kernel.accessAllowed ? 'block' : 'none';\n",
              "\n",
              "        async function convertToInteractive(key) {\n",
              "          const element = document.querySelector('#df-f9234cc6-a869-429d-8288-ee9b2783da2d');\n",
              "          const dataTable =\n",
              "            await google.colab.kernel.invokeFunction('convertToInteractive',\n",
              "                                                     [key], {});\n",
              "          if (!dataTable) return;\n",
              "\n",
              "          const docLinkHtml = 'Like what you see? Visit the ' +\n",
              "            '<a target=\"_blank\" href=https://colab.research.google.com/notebooks/data_table.ipynb>data table notebook</a>'\n",
              "            + ' to learn more about interactive tables.';\n",
              "          element.innerHTML = '';\n",
              "          dataTable['output_type'] = 'display_data';\n",
              "          await google.colab.output.renderOutput(dataTable, element);\n",
              "          const docLink = document.createElement('div');\n",
              "          docLink.innerHTML = docLinkHtml;\n",
              "          element.appendChild(docLink);\n",
              "        }\n",
              "      </script>\n",
              "    </div>\n",
              "  </div>\n",
              "  "
            ]
          },
          "metadata": {},
          "execution_count": 134
        }
      ]
    },
    {
      "cell_type": "markdown",
      "source": [
        "Let's see the info and dimensions for our final dataframe."
      ],
      "metadata": {
        "id": "Gatui76YUaZQ"
      }
    },
    {
      "cell_type": "code",
      "source": [
        "mergerd_Final.info()"
      ],
      "metadata": {
        "colab": {
          "base_uri": "https://localhost:8080/"
        },
        "id": "7IY08Qz_UgvN",
        "outputId": "364d433c-563b-4e73-8c05-4cdf1d40c104"
      },
      "execution_count": null,
      "outputs": [
        {
          "output_type": "stream",
          "name": "stdout",
          "text": [
            "<class 'pandas.core.frame.DataFrame'>\n",
            "Int64Index: 1022 entries, 0 to 1021\n",
            "Data columns (total 7 columns):\n",
            " #   Column           Non-Null Count  Dtype         \n",
            "---  ------           --------------  -----         \n",
            " 0   City             1022 non-null   object        \n",
            " 1   Date             1022 non-null   datetime64[ns]\n",
            " 2   AQI              1022 non-null   float64       \n",
            " 3   NowCast Conc.    1022 non-null   float64       \n",
            " 4   Raw Conc.        1022 non-null   float64       \n",
            " 5   confirmed_cases  1022 non-null   int64         \n",
            " 6   deaths           1022 non-null   int64         \n",
            "dtypes: datetime64[ns](1), float64(3), int64(2), object(1)\n",
            "memory usage: 63.9+ KB\n"
          ]
        }
      ]
    },
    {
      "cell_type": "code",
      "source": [
        "print(\"The AQI and Covid-19 combined dataframe has\", mergerd_Final.shape[0], \"rows and\", mergerd_Final.shape[1], \"columns.\")"
      ],
      "metadata": {
        "colab": {
          "base_uri": "https://localhost:8080/"
        },
        "id": "0kVlYH_9Unm2",
        "outputId": "09133d3c-b513-4d94-8bfb-284eba681ca0"
      },
      "execution_count": null,
      "outputs": [
        {
          "output_type": "stream",
          "name": "stdout",
          "text": [
            "The AQI and Covid-19 combined dataframe has 1022 rows and 7 columns.\n"
          ]
        }
      ]
    },
    {
      "cell_type": "markdown",
      "source": [
        "Now, let's perform correlation analysis between AQI and confirmed cases to find out if the air quality can be used to estimate covid-19 confirmed cases."
      ],
      "metadata": {
        "id": "DQ5QE5sUn_UO"
      }
    },
    {
      "cell_type": "code",
      "source": [
        "mergerd_Final['AQI'].corr(mergerd_Final['confirmed_cases'])"
      ],
      "metadata": {
        "colab": {
          "base_uri": "https://localhost:8080/"
        },
        "id": "-KtsiZAooIpy",
        "outputId": "f718d280-bf94-4a8b-a9e3-d581b0d511f9"
      },
      "execution_count": null,
      "outputs": [
        {
          "output_type": "execute_result",
          "data": {
            "text/plain": [
              "-0.045165779372166495"
            ]
          },
          "metadata": {},
          "execution_count": 137
        }
      ]
    },
    {
      "cell_type": "markdown",
      "source": [
        "Let's do the same correlation analysis for AQI and covid deaths."
      ],
      "metadata": {
        "id": "wDnFIRu6oWrv"
      }
    },
    {
      "cell_type": "code",
      "source": [
        "mergerd_Final['AQI'].corr(mergerd_Final['deaths'])"
      ],
      "metadata": {
        "colab": {
          "base_uri": "https://localhost:8080/"
        },
        "id": "UFg_1AwCobta",
        "outputId": "0493a1c1-59db-4d4e-8061-f8cc3986bd92"
      },
      "execution_count": null,
      "outputs": [
        {
          "output_type": "execute_result",
          "data": {
            "text/plain": [
              "-0.010879934667978918"
            ]
          },
          "metadata": {},
          "execution_count": 138
        }
      ]
    },
    {
      "cell_type": "code",
      "source": [
        "# importing necessary libraries\n",
        "%matplotlib inline\n",
        "import matplotlib.pyplot as plt\n",
        "import seaborn as sns\n",
        "plt.style.use('seaborn-whitegrid')\n",
        "import numpy as np"
      ],
      "metadata": {
        "id": "J5YbrYoLo9-7"
      },
      "execution_count": null,
      "outputs": []
    },
    {
      "cell_type": "markdown",
      "source": [
        "Now, we have seen a correlation coefficient that indicates no correlation between AQI and confirmed cases and deaths. However, correlation coefficient only applies to linear relationships, let's visualize the data to see if we can see any non-linear relationship."
      ],
      "metadata": {
        "id": "wFHpaNvDF5FY"
      }
    },
    {
      "cell_type": "code",
      "source": [
        "mergerd_Final.plot.scatter(x = 'confirmed_cases', y = 'AQI')\n"
      ],
      "metadata": {
        "colab": {
          "base_uri": "https://localhost:8080/",
          "height": 294
        },
        "id": "Aw9-cN1Kp43H",
        "outputId": "885fabd8-0b35-4b73-9c90-7ef967a82502"
      },
      "execution_count": null,
      "outputs": [
        {
          "output_type": "execute_result",
          "data": {
            "text/plain": [
              "<matplotlib.axes._subplots.AxesSubplot at 0x7f119ec5ec50>"
            ]
          },
          "metadata": {},
          "execution_count": 140
        },
        {
          "output_type": "display_data",
          "data": {
            "text/plain": [
              "<Figure size 432x288 with 1 Axes>"
            ],
            "image/png": "[encoded data removed]"
          },
          "metadata": {}
        }
      ]
    },
    {
      "cell_type": "code",
      "source": [
        "mergerd_Final.plot.scatter(x = 'confirmed_cases', y = 'deaths')\n",
        "\n"
      ],
      "metadata": {
        "colab": {
          "base_uri": "https://localhost:8080/",
          "height": 294
        },
        "id": "6pDvCP4Er7sK",
        "outputId": "71dd388d-d50d-416e-c4af-0b5cdee0b7ef"
      },
      "execution_count": null,
      "outputs": [
        {
          "output_type": "execute_result",
          "data": {
            "text/plain": [
              "<matplotlib.axes._subplots.AxesSubplot at 0x7f119ea5fd10>"
            ]
          },
          "metadata": {},
          "execution_count": 141
        },
        {
          "output_type": "display_data",
          "data": {
            "text/plain": [
              "<Figure size 432x288 with 1 Axes>"
            ],
            "image/png": "[encoded data removed]"
          },
          "metadata": {}
        }
      ]
    },
    {
      "cell_type": "code",
      "source": [
        "sns.jointplot(x='AQI',y='deaths', data=mergerd_Final)"
      ],
      "metadata": {
        "colab": {
          "base_uri": "https://localhost:8080/",
          "height": 458
        },
        "id": "tI4tPIypsqnp",
        "outputId": "c2ad7231-85c6-424f-e41b-44cff1364cf5"
      },
      "execution_count": null,
      "outputs": [
        {
          "output_type": "execute_result",
          "data": {
            "text/plain": [
              "<seaborn.axisgrid.JointGrid at 0x7f119ea48850>"
            ]
          },
          "metadata": {},
          "execution_count": 142
        },
        {
          "output_type": "display_data",
          "data": {
            "text/plain": [
              "<Figure size 432x432 with 3 Axes>"
            ],
            "image/png": "[encoded data removed]"
          },
          "metadata": {}
        }
      ]
    },
    {
      "cell_type": "code",
      "source": [
        "sns.jointplot(x='AQI',y='confirmed_cases', data=mergerd_Final)"
      ],
      "metadata": {
        "colab": {
          "base_uri": "https://localhost:8080/",
          "height": 458
        },
        "id": "gQVBeE6QtJ9F",
        "outputId": "ad66a311-50af-47c5-8cd9-5c9a86b1ae6e"
      },
      "execution_count": null,
      "outputs": [
        {
          "output_type": "execute_result",
          "data": {
            "text/plain": [
              "<seaborn.axisgrid.JointGrid at 0x7f119ec2ee10>"
            ]
          },
          "metadata": {},
          "execution_count": 143
        },
        {
          "output_type": "display_data",
          "data": {
            "text/plain": [
              "<Figure size 432x432 with 3 Axes>"
            ],
            "image/png": "[encoded data removed]"
          },
          "metadata": {}
        }
      ]
    },
    {
      "cell_type": "code",
      "source": [
        ""
      ],
      "metadata": {
        "id": "R5nIU-wgxrk7"
      },
      "execution_count": null,
      "outputs": []
    },
    {
      "cell_type": "markdown",
      "source": [
        "As can be seen from all the graphs presented above, AQI does not show any kind of relationship to COVID-19 cases or deaths."
      ],
      "metadata": {
        "id": "LC4D3ElYG-6W"
      }
    },
    {
      "cell_type": "code",
      "source": [
        "mergerd_Final.plot(x=\"deaths\", y=\"confirmed_cases\", kind=\"line\")\n",
        "plt.show()"
      ],
      "metadata": {
        "id": "YLCL1iNJtcjl",
        "colab": {
          "base_uri": "https://localhost:8080/",
          "height": 276
        },
        "outputId": "8bcca23d-282b-4e95-c98c-04fc8e6596ca"
      },
      "execution_count": null,
      "outputs": [
        {
          "output_type": "display_data",
          "data": {
            "text/plain": [
              "<Figure size 432x288 with 1 Axes>"
            ],
            "image/png": "[encoded data removed]"
          },
          "metadata": {}
        }
      ]
    },
    {
      "cell_type": "markdown",
      "source": [
        "However, as it is to be expected, COVID-19 cases is related to COVID-19 deaths."
      ],
      "metadata": {
        "id": "szoQ788RHIbV"
      }
    },
    {
      "cell_type": "code",
      "source": [
        "# correlation analysis\n",
        "sns.heatmap(mergerd_Final.corr(), cmap='seismic')"
      ],
      "metadata": {
        "colab": {
          "base_uri": "https://localhost:8080/",
          "height": 348
        },
        "id": "215ybt3WMAwI",
        "outputId": "614ce26c-0845-48e3-d526-fcb1e859c1b1"
      },
      "execution_count": null,
      "outputs": [
        {
          "output_type": "execute_result",
          "data": {
            "text/plain": [
              "<matplotlib.axes._subplots.AxesSubplot at 0x7f119e7b1390>"
            ]
          },
          "metadata": {},
          "execution_count": 145
        },
        {
          "output_type": "display_data",
          "data": {
            "text/plain": [
              "<Figure size 432x288 with 2 Axes>"
            ],
            "image/png": "[encoded data removed]"
          },
          "metadata": {}
        }
      ]
    },
    {
      "cell_type": "markdown",
      "source": [
        "With this heatmap, we can see that AQI has strong correlation to NowCast Conc and Raw Conc, while confirmed cases is weakly correlated to deaths."
      ],
      "metadata": {
        "id": "20MVqkR_IZsT"
      }
    },
    {
      "cell_type": "code",
      "source": [
        "# and correlation only with AQI\n",
        "fig, ax = plt.subplots(figsize=(6,10))\n",
        "mergerd_Final.corr()['AQI'].sort_values().to_frame().drop('AQI').plot.barh(ax=ax)"
      ],
      "metadata": {
        "colab": {
          "base_uri": "https://localhost:8080/",
          "height": 606
        },
        "id": "q36jLwDTQ8GF",
        "outputId": "e91b1e9b-1293-4b22-c80d-ec4d75bca1f2"
      },
      "execution_count": null,
      "outputs": [
        {
          "output_type": "execute_result",
          "data": {
            "text/plain": [
              "<matplotlib.axes._subplots.AxesSubplot at 0x7f119e6ec790>"
            ]
          },
          "metadata": {},
          "execution_count": 146
        },
        {
          "output_type": "display_data",
          "data": {
            "text/plain": [
              "<Figure size 432x720 with 1 Axes>"
            ],
            "image/png": "[encoded data removed]"
          },
          "metadata": {}
        }
      ]
    },
    {
      "cell_type": "markdown",
      "source": [
        "Again, AQI is correlated to NowCast Conc and Raw Conc. And it is not correlated to deaths nor confirmed cases."
      ],
      "metadata": {
        "id": "ABXKLBeOIxES"
      }
    },
    {
      "cell_type": "markdown",
      "source": [
        "Finally, we have proved that covid-19 confirmed cases and deaths are not related to the air quality of the place the are happening in. We understand that this data can be used to make predictions on COVID-19 cases and deaths as an experiment. However, we don't think those predictions will be very good, as the variables are not related."
      ],
      "metadata": {
        "id": "iV_Rmi4EI7o2"
      }
    }
  ]
}